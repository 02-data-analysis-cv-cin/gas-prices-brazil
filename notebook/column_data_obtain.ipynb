{
  "nbformat": 4,
  "nbformat_minor": 0,
  "metadata": {
    "colab": {
      "name": "column_data_obtain.ipynb",
      "provenance": []
    },
    "kernelspec": {
      "name": "python3",
      "display_name": "Python 3"
    },
    "language_info": {
      "name": "python"
    }
  },
  "cells": [
    {
      "cell_type": "markdown",
      "metadata": {
        "id": "K4KLGlSAMFL3"
      },
      "source": [
        "\n",
        "## Import dependencies\n"
      ]
    },
    {
      "cell_type": "code",
      "metadata": {
        "id": "x5P6251oLpr0"
      },
      "source": [
        "import pandas as pd"
      ],
      "execution_count": 1,
      "outputs": []
    },
    {
      "cell_type": "markdown",
      "metadata": {
        "id": "oTorvr7MMLLN"
      },
      "source": [
        "### Read the Dataset"
      ]
    },
    {
      "cell_type": "code",
      "metadata": {
        "id": "9ylDhfVmLyQ3"
      },
      "source": [
        "gas_prices_brazil_df = pd.read_csv('https://drive.google.com/uc?id=1-_v5e0f76s1vGnRV-wA4s2s2XYeijz7v', sep='\\t')"
      ],
      "execution_count": 2,
      "outputs": []
    },
    {
      "cell_type": "markdown",
      "metadata": {
        "id": "gewzwwIGQfZY"
      },
      "source": [
        "### Total Columns and Lines"
      ]
    },
    {
      "cell_type": "code",
      "metadata": {
        "colab": {
          "base_uri": "https://localhost:8080/"
        },
        "id": "rl145A6xQjFn",
        "outputId": "fc258950-f06b-42a6-db7b-0619a54122b3"
      },
      "source": [
        "gas_prices_brazil_df.shape"
      ],
      "execution_count": 3,
      "outputs": [
        {
          "output_type": "execute_result",
          "data": {
            "text/plain": [
              "(106823, 21)"
            ]
          },
          "metadata": {},
          "execution_count": 3
        }
      ]
    },
    {
      "cell_type": "markdown",
      "metadata": {
        "id": "lfeEhp0SRF2J"
      },
      "source": [
        "### Checkt the Types"
      ]
    },
    {
      "cell_type": "code",
      "metadata": {
        "colab": {
          "base_uri": "https://localhost:8080/"
        },
        "id": "LW31Zhx9RIDw",
        "outputId": "56ab3fe2-823c-42d5-d49f-38d9c2916a29"
      },
      "source": [
        "gas_prices_brazil_df.dtypes"
      ],
      "execution_count": 4,
      "outputs": [
        {
          "output_type": "execute_result",
          "data": {
            "text/plain": [
              "Unnamed: 0                         int64\n",
              "DATA INICIAL                      object\n",
              "DATA FINAL                        object\n",
              "REGIÃO                            object\n",
              "ESTADO                            object\n",
              "PRODUTO                           object\n",
              "NÚMERO DE POSTOS PESQUISADOS       int64\n",
              "UNIDADE DE MEDIDA                 object\n",
              "PREÇO MÉDIO REVENDA              float64\n",
              "DESVIO PADRÃO REVENDA            float64\n",
              "PREÇO MÍNIMO REVENDA             float64\n",
              "PREÇO MÁXIMO REVENDA             float64\n",
              "MARGEM MÉDIA REVENDA              object\n",
              "COEF DE VARIAÇÃO REVENDA         float64\n",
              "PREÇO MÉDIO DISTRIBUIÇÃO          object\n",
              "DESVIO PADRÃO DISTRIBUIÇÃO        object\n",
              "PREÇO MÍNIMO DISTRIBUIÇÃO         object\n",
              "PREÇO MÁXIMO DISTRIBUIÇÃO         object\n",
              "COEF DE VARIAÇÃO DISTRIBUIÇÃO     object\n",
              "MÊS                                int64\n",
              "ANO                                int64\n",
              "dtype: object"
            ]
          },
          "metadata": {},
          "execution_count": 4
        }
      ]
    },
    {
      "cell_type": "markdown",
      "metadata": {
        "id": "9l5Fi_NlQstW"
      },
      "source": [
        "### Info Dataframe"
      ]
    },
    {
      "cell_type": "code",
      "metadata": {
        "colab": {
          "base_uri": "https://localhost:8080/"
        },
        "id": "SSTo0iCCQvIw",
        "outputId": "6bce703a-dc45-442b-b4d6-eb5691f178dd"
      },
      "source": [
        "gas_prices_brazil_df.info()"
      ],
      "execution_count": 5,
      "outputs": [
        {
          "output_type": "stream",
          "name": "stdout",
          "text": [
            "<class 'pandas.core.frame.DataFrame'>\n",
            "RangeIndex: 106823 entries, 0 to 106822\n",
            "Data columns (total 21 columns):\n",
            " #   Column                         Non-Null Count   Dtype  \n",
            "---  ------                         --------------   -----  \n",
            " 0   Unnamed: 0                     106823 non-null  int64  \n",
            " 1   DATA INICIAL                   106823 non-null  object \n",
            " 2   DATA FINAL                     106823 non-null  object \n",
            " 3   REGIÃO                         106823 non-null  object \n",
            " 4   ESTADO                         106823 non-null  object \n",
            " 5   PRODUTO                        106823 non-null  object \n",
            " 6   NÚMERO DE POSTOS PESQUISADOS   106823 non-null  int64  \n",
            " 7   UNIDADE DE MEDIDA              106823 non-null  object \n",
            " 8   PREÇO MÉDIO REVENDA            106823 non-null  float64\n",
            " 9   DESVIO PADRÃO REVENDA          106823 non-null  float64\n",
            " 10  PREÇO MÍNIMO REVENDA           106823 non-null  float64\n",
            " 11  PREÇO MÁXIMO REVENDA           106823 non-null  float64\n",
            " 12  MARGEM MÉDIA REVENDA           106823 non-null  object \n",
            " 13  COEF DE VARIAÇÃO REVENDA       106823 non-null  float64\n",
            " 14  PREÇO MÉDIO DISTRIBUIÇÃO       106823 non-null  object \n",
            " 15  DESVIO PADRÃO DISTRIBUIÇÃO     106823 non-null  object \n",
            " 16  PREÇO MÍNIMO DISTRIBUIÇÃO      106823 non-null  object \n",
            " 17  PREÇO MÁXIMO DISTRIBUIÇÃO      106823 non-null  object \n",
            " 18  COEF DE VARIAÇÃO DISTRIBUIÇÃO  106823 non-null  object \n",
            " 19  MÊS                            106823 non-null  int64  \n",
            " 20  ANO                            106823 non-null  int64  \n",
            "dtypes: float64(5), int64(4), object(12)\n",
            "memory usage: 17.1+ MB\n"
          ]
        }
      ]
    },
    {
      "cell_type": "markdown",
      "metadata": {
        "id": "4ptiVU0bL76H"
      },
      "source": [
        "### Visualize the fifth intances"
      ]
    },
    {
      "cell_type": "code",
      "metadata": {
        "colab": {
          "base_uri": "https://localhost:8080/",
          "height": 358
        },
        "id": "RfgjEt23MDvy",
        "outputId": "a3209e80-14eb-4f2d-88ec-e53ab37819d1"
      },
      "source": [
        "gas_prices_brazil_df.head()"
      ],
      "execution_count": 6,
      "outputs": [
        {
          "output_type": "execute_result",
          "data": {
            "text/html": [
              "<div>\n",
              "<style scoped>\n",
              "    .dataframe tbody tr th:only-of-type {\n",
              "        vertical-align: middle;\n",
              "    }\n",
              "\n",
              "    .dataframe tbody tr th {\n",
              "        vertical-align: top;\n",
              "    }\n",
              "\n",
              "    .dataframe thead th {\n",
              "        text-align: right;\n",
              "    }\n",
              "</style>\n",
              "<table border=\"1\" class=\"dataframe\">\n",
              "  <thead>\n",
              "    <tr style=\"text-align: right;\">\n",
              "      <th></th>\n",
              "      <th>Unnamed: 0</th>\n",
              "      <th>DATA INICIAL</th>\n",
              "      <th>DATA FINAL</th>\n",
              "      <th>REGIÃO</th>\n",
              "      <th>ESTADO</th>\n",
              "      <th>PRODUTO</th>\n",
              "      <th>NÚMERO DE POSTOS PESQUISADOS</th>\n",
              "      <th>UNIDADE DE MEDIDA</th>\n",
              "      <th>PREÇO MÉDIO REVENDA</th>\n",
              "      <th>DESVIO PADRÃO REVENDA</th>\n",
              "      <th>PREÇO MÍNIMO REVENDA</th>\n",
              "      <th>PREÇO MÁXIMO REVENDA</th>\n",
              "      <th>MARGEM MÉDIA REVENDA</th>\n",
              "      <th>COEF DE VARIAÇÃO REVENDA</th>\n",
              "      <th>PREÇO MÉDIO DISTRIBUIÇÃO</th>\n",
              "      <th>DESVIO PADRÃO DISTRIBUIÇÃO</th>\n",
              "      <th>PREÇO MÍNIMO DISTRIBUIÇÃO</th>\n",
              "      <th>PREÇO MÁXIMO DISTRIBUIÇÃO</th>\n",
              "      <th>COEF DE VARIAÇÃO DISTRIBUIÇÃO</th>\n",
              "      <th>MÊS</th>\n",
              "      <th>ANO</th>\n",
              "    </tr>\n",
              "  </thead>\n",
              "  <tbody>\n",
              "    <tr>\n",
              "      <th>0</th>\n",
              "      <td>0</td>\n",
              "      <td>2004-05-09</td>\n",
              "      <td>2004-05-15</td>\n",
              "      <td>CENTRO OESTE</td>\n",
              "      <td>DISTRITO FEDERAL</td>\n",
              "      <td>ETANOL HIDRATADO</td>\n",
              "      <td>127</td>\n",
              "      <td>R$/l</td>\n",
              "      <td>1.288</td>\n",
              "      <td>0.016</td>\n",
              "      <td>1.19</td>\n",
              "      <td>1.350</td>\n",
              "      <td>0.463</td>\n",
              "      <td>0.012</td>\n",
              "      <td>0.825</td>\n",
              "      <td>0.11</td>\n",
              "      <td>0.4201</td>\n",
              "      <td>0.9666</td>\n",
              "      <td>0.133</td>\n",
              "      <td>5</td>\n",
              "      <td>2004</td>\n",
              "    </tr>\n",
              "    <tr>\n",
              "      <th>1</th>\n",
              "      <td>1</td>\n",
              "      <td>2004-05-09</td>\n",
              "      <td>2004-05-15</td>\n",
              "      <td>CENTRO OESTE</td>\n",
              "      <td>GOIAS</td>\n",
              "      <td>ETANOL HIDRATADO</td>\n",
              "      <td>387</td>\n",
              "      <td>R$/l</td>\n",
              "      <td>1.162</td>\n",
              "      <td>0.114</td>\n",
              "      <td>0.89</td>\n",
              "      <td>1.449</td>\n",
              "      <td>0.399</td>\n",
              "      <td>0.098</td>\n",
              "      <td>0.763</td>\n",
              "      <td>0.088</td>\n",
              "      <td>0.5013</td>\n",
              "      <td>1.05</td>\n",
              "      <td>0.115</td>\n",
              "      <td>5</td>\n",
              "      <td>2004</td>\n",
              "    </tr>\n",
              "    <tr>\n",
              "      <th>2</th>\n",
              "      <td>2</td>\n",
              "      <td>2004-05-09</td>\n",
              "      <td>2004-05-15</td>\n",
              "      <td>CENTRO OESTE</td>\n",
              "      <td>MATO GROSSO</td>\n",
              "      <td>ETANOL HIDRATADO</td>\n",
              "      <td>192</td>\n",
              "      <td>R$/l</td>\n",
              "      <td>1.389</td>\n",
              "      <td>0.097</td>\n",
              "      <td>1.18</td>\n",
              "      <td>1.760</td>\n",
              "      <td>0.419</td>\n",
              "      <td>0.070</td>\n",
              "      <td>0.97</td>\n",
              "      <td>0.095</td>\n",
              "      <td>0.5614</td>\n",
              "      <td>1.161</td>\n",
              "      <td>0.098</td>\n",
              "      <td>5</td>\n",
              "      <td>2004</td>\n",
              "    </tr>\n",
              "    <tr>\n",
              "      <th>3</th>\n",
              "      <td>3</td>\n",
              "      <td>2004-05-09</td>\n",
              "      <td>2004-05-15</td>\n",
              "      <td>CENTRO OESTE</td>\n",
              "      <td>MATO GROSSO DO SUL</td>\n",
              "      <td>ETANOL HIDRATADO</td>\n",
              "      <td>162</td>\n",
              "      <td>R$/l</td>\n",
              "      <td>1.262</td>\n",
              "      <td>0.070</td>\n",
              "      <td>1.09</td>\n",
              "      <td>1.509</td>\n",
              "      <td>0.432</td>\n",
              "      <td>0.055</td>\n",
              "      <td>0.83</td>\n",
              "      <td>0.119</td>\n",
              "      <td>0.5991</td>\n",
              "      <td>1.22242</td>\n",
              "      <td>0.143</td>\n",
              "      <td>5</td>\n",
              "      <td>2004</td>\n",
              "    </tr>\n",
              "    <tr>\n",
              "      <th>4</th>\n",
              "      <td>4</td>\n",
              "      <td>2004-05-09</td>\n",
              "      <td>2004-05-15</td>\n",
              "      <td>NORDESTE</td>\n",
              "      <td>ALAGOAS</td>\n",
              "      <td>ETANOL HIDRATADO</td>\n",
              "      <td>103</td>\n",
              "      <td>R$/l</td>\n",
              "      <td>1.181</td>\n",
              "      <td>0.078</td>\n",
              "      <td>1.05</td>\n",
              "      <td>1.400</td>\n",
              "      <td>0.24</td>\n",
              "      <td>0.066</td>\n",
              "      <td>0.941</td>\n",
              "      <td>0.077</td>\n",
              "      <td>0.7441</td>\n",
              "      <td>1.0317</td>\n",
              "      <td>0.082</td>\n",
              "      <td>5</td>\n",
              "      <td>2004</td>\n",
              "    </tr>\n",
              "  </tbody>\n",
              "</table>\n",
              "</div>"
            ],
            "text/plain": [
              "   Unnamed: 0 DATA INICIAL  DATA FINAL  ... COEF DE VARIAÇÃO DISTRIBUIÇÃO MÊS   ANO\n",
              "0           0   2004-05-09  2004-05-15  ...                         0.133   5  2004\n",
              "1           1   2004-05-09  2004-05-15  ...                         0.115   5  2004\n",
              "2           2   2004-05-09  2004-05-15  ...                         0.098   5  2004\n",
              "3           3   2004-05-09  2004-05-15  ...                         0.143   5  2004\n",
              "4           4   2004-05-09  2004-05-15  ...                         0.082   5  2004\n",
              "\n",
              "[5 rows x 21 columns]"
            ]
          },
          "metadata": {},
          "execution_count": 6
        }
      ]
    },
    {
      "cell_type": "markdown",
      "metadata": {
        "id": "bHKoXuUqP3X3"
      },
      "source": [
        "### Describe statiscal "
      ]
    },
    {
      "cell_type": "code",
      "metadata": {
        "colab": {
          "base_uri": "https://localhost:8080/",
          "height": 349
        },
        "id": "3E8_V3KhQTKo",
        "outputId": "5f714250-9c1e-45a0-a78b-cd9a718c4d93"
      },
      "source": [
        "gas_prices_brazil_df.describe()"
      ],
      "execution_count": 7,
      "outputs": [
        {
          "output_type": "execute_result",
          "data": {
            "text/html": [
              "<div>\n",
              "<style scoped>\n",
              "    .dataframe tbody tr th:only-of-type {\n",
              "        vertical-align: middle;\n",
              "    }\n",
              "\n",
              "    .dataframe tbody tr th {\n",
              "        vertical-align: top;\n",
              "    }\n",
              "\n",
              "    .dataframe thead th {\n",
              "        text-align: right;\n",
              "    }\n",
              "</style>\n",
              "<table border=\"1\" class=\"dataframe\">\n",
              "  <thead>\n",
              "    <tr style=\"text-align: right;\">\n",
              "      <th></th>\n",
              "      <th>Unnamed: 0</th>\n",
              "      <th>NÚMERO DE POSTOS PESQUISADOS</th>\n",
              "      <th>PREÇO MÉDIO REVENDA</th>\n",
              "      <th>DESVIO PADRÃO REVENDA</th>\n",
              "      <th>PREÇO MÍNIMO REVENDA</th>\n",
              "      <th>PREÇO MÁXIMO REVENDA</th>\n",
              "      <th>COEF DE VARIAÇÃO REVENDA</th>\n",
              "      <th>MÊS</th>\n",
              "      <th>ANO</th>\n",
              "    </tr>\n",
              "  </thead>\n",
              "  <tbody>\n",
              "    <tr>\n",
              "      <th>count</th>\n",
              "      <td>106823.00000</td>\n",
              "      <td>106823.000000</td>\n",
              "      <td>106823.000000</td>\n",
              "      <td>106823.000000</td>\n",
              "      <td>106823.000000</td>\n",
              "      <td>106823.000000</td>\n",
              "      <td>106823.000000</td>\n",
              "      <td>106823.000000</td>\n",
              "      <td>106823.000000</td>\n",
              "    </tr>\n",
              "    <tr>\n",
              "      <th>mean</th>\n",
              "      <td>53411.00000</td>\n",
              "      <td>233.770976</td>\n",
              "      <td>10.870780</td>\n",
              "      <td>0.657227</td>\n",
              "      <td>9.416038</td>\n",
              "      <td>12.537731</td>\n",
              "      <td>0.045418</td>\n",
              "      <td>6.484006</td>\n",
              "      <td>2011.802271</td>\n",
              "    </tr>\n",
              "    <tr>\n",
              "      <th>std</th>\n",
              "      <td>30837.28824</td>\n",
              "      <td>403.282519</td>\n",
              "      <td>17.752533</td>\n",
              "      <td>1.349169</td>\n",
              "      <td>15.092193</td>\n",
              "      <td>20.841497</td>\n",
              "      <td>0.025066</td>\n",
              "      <td>3.443391</td>\n",
              "      <td>4.391530</td>\n",
              "    </tr>\n",
              "    <tr>\n",
              "      <th>min</th>\n",
              "      <td>0.00000</td>\n",
              "      <td>1.000000</td>\n",
              "      <td>0.766000</td>\n",
              "      <td>0.000000</td>\n",
              "      <td>0.590000</td>\n",
              "      <td>0.999000</td>\n",
              "      <td>0.000000</td>\n",
              "      <td>1.000000</td>\n",
              "      <td>2004.000000</td>\n",
              "    </tr>\n",
              "    <tr>\n",
              "      <th>25%</th>\n",
              "      <td>26705.50000</td>\n",
              "      <td>42.000000</td>\n",
              "      <td>2.072000</td>\n",
              "      <td>0.072000</td>\n",
              "      <td>1.900000</td>\n",
              "      <td>2.310000</td>\n",
              "      <td>0.029000</td>\n",
              "      <td>4.000000</td>\n",
              "      <td>2008.000000</td>\n",
              "    </tr>\n",
              "    <tr>\n",
              "      <th>50%</th>\n",
              "      <td>53411.00000</td>\n",
              "      <td>104.000000</td>\n",
              "      <td>2.718000</td>\n",
              "      <td>0.114000</td>\n",
              "      <td>2.510000</td>\n",
              "      <td>2.999000</td>\n",
              "      <td>0.041000</td>\n",
              "      <td>6.000000</td>\n",
              "      <td>2012.000000</td>\n",
              "    </tr>\n",
              "    <tr>\n",
              "      <th>75%</th>\n",
              "      <td>80116.50000</td>\n",
              "      <td>243.000000</td>\n",
              "      <td>3.752000</td>\n",
              "      <td>0.191000</td>\n",
              "      <td>3.499000</td>\n",
              "      <td>4.150000</td>\n",
              "      <td>0.058000</td>\n",
              "      <td>9.000000</td>\n",
              "      <td>2016.000000</td>\n",
              "    </tr>\n",
              "    <tr>\n",
              "      <th>max</th>\n",
              "      <td>106822.00000</td>\n",
              "      <td>4167.000000</td>\n",
              "      <td>99.357000</td>\n",
              "      <td>10.748000</td>\n",
              "      <td>90.000000</td>\n",
              "      <td>120.000000</td>\n",
              "      <td>0.395000</td>\n",
              "      <td>12.000000</td>\n",
              "      <td>2019.000000</td>\n",
              "    </tr>\n",
              "  </tbody>\n",
              "</table>\n",
              "</div>"
            ],
            "text/plain": [
              "         Unnamed: 0  NÚMERO DE POSTOS PESQUISADOS  ...            MÊS            ANO\n",
              "count  106823.00000                 106823.000000  ...  106823.000000  106823.000000\n",
              "mean    53411.00000                    233.770976  ...       6.484006    2011.802271\n",
              "std     30837.28824                    403.282519  ...       3.443391       4.391530\n",
              "min         0.00000                      1.000000  ...       1.000000    2004.000000\n",
              "25%     26705.50000                     42.000000  ...       4.000000    2008.000000\n",
              "50%     53411.00000                    104.000000  ...       6.000000    2012.000000\n",
              "75%     80116.50000                    243.000000  ...       9.000000    2016.000000\n",
              "max    106822.00000                   4167.000000  ...      12.000000    2019.000000\n",
              "\n",
              "[8 rows x 9 columns]"
            ]
          },
          "metadata": {},
          "execution_count": 7
        }
      ]
    },
    {
      "cell_type": "markdown",
      "metadata": {
        "id": "PqjQRJUmP3G2"
      },
      "source": [
        "### Select multiple Columns"
      ]
    },
    {
      "cell_type": "code",
      "metadata": {
        "colab": {
          "base_uri": "https://localhost:8080/"
        },
        "id": "WhvJPRR9Rdi3",
        "outputId": "d22cd5e7-4cf3-4763-e770-83154a1e2f08"
      },
      "source": [
        "columns_gas_prices_brazil_df = gas_prices_brazil_df.columns.to_list()\n",
        "columns_gas_prices_brazil_df"
      ],
      "execution_count": 8,
      "outputs": [
        {
          "output_type": "execute_result",
          "data": {
            "text/plain": [
              "['Unnamed: 0',\n",
              " 'DATA INICIAL',\n",
              " 'DATA FINAL',\n",
              " 'REGIÃO',\n",
              " 'ESTADO',\n",
              " 'PRODUTO',\n",
              " 'NÚMERO DE POSTOS PESQUISADOS',\n",
              " 'UNIDADE DE MEDIDA',\n",
              " 'PREÇO MÉDIO REVENDA',\n",
              " 'DESVIO PADRÃO REVENDA',\n",
              " 'PREÇO MÍNIMO REVENDA',\n",
              " 'PREÇO MÁXIMO REVENDA',\n",
              " 'MARGEM MÉDIA REVENDA',\n",
              " 'COEF DE VARIAÇÃO REVENDA',\n",
              " 'PREÇO MÉDIO DISTRIBUIÇÃO',\n",
              " 'DESVIO PADRÃO DISTRIBUIÇÃO',\n",
              " 'PREÇO MÍNIMO DISTRIBUIÇÃO',\n",
              " 'PREÇO MÁXIMO DISTRIBUIÇÃO',\n",
              " 'COEF DE VARIAÇÃO DISTRIBUIÇÃO',\n",
              " 'MÊS',\n",
              " 'ANO']"
            ]
          },
          "metadata": {},
          "execution_count": 8
        }
      ]
    },
    {
      "cell_type": "code",
      "metadata": {
        "id": "J9hWZWSoSGw_"
      },
      "source": [
        " interess_columns_gas_prices_brazil_df  = ['REGIÃO', 'ESTADO', 'PRODUTO','NÚMERO DE POSTOS PESQUISADOS', 'COEF DE VARIAÇÃO REVENDA','PREÇO MÉDIO REVENDA','COEF DE VARIAÇÃO DISTRIBUIÇÃO', 'PREÇO MÉDIO DISTRIBUIÇÃO',  'DATA INICIAL', 'DATA FINAL','MÊS', 'ANO' ]"
      ],
      "execution_count": 9,
      "outputs": []
    },
    {
      "cell_type": "code",
      "metadata": {
        "colab": {
          "base_uri": "https://localhost:8080/",
          "height": 358
        },
        "id": "MWpuuxPZRW1Q",
        "outputId": "f063e00b-2d2e-467b-805c-8fec226c711f"
      },
      "source": [
        "interess_gas_prices_brazil_df = gas_prices_brazil_df[interess_columns_gas_prices_brazil_df]\n",
        "\n",
        "interess_gas_prices_brazil_df.head()"
      ],
      "execution_count": 10,
      "outputs": [
        {
          "output_type": "execute_result",
          "data": {
            "text/html": [
              "<div>\n",
              "<style scoped>\n",
              "    .dataframe tbody tr th:only-of-type {\n",
              "        vertical-align: middle;\n",
              "    }\n",
              "\n",
              "    .dataframe tbody tr th {\n",
              "        vertical-align: top;\n",
              "    }\n",
              "\n",
              "    .dataframe thead th {\n",
              "        text-align: right;\n",
              "    }\n",
              "</style>\n",
              "<table border=\"1\" class=\"dataframe\">\n",
              "  <thead>\n",
              "    <tr style=\"text-align: right;\">\n",
              "      <th></th>\n",
              "      <th>REGIÃO</th>\n",
              "      <th>ESTADO</th>\n",
              "      <th>PRODUTO</th>\n",
              "      <th>NÚMERO DE POSTOS PESQUISADOS</th>\n",
              "      <th>COEF DE VARIAÇÃO REVENDA</th>\n",
              "      <th>PREÇO MÉDIO REVENDA</th>\n",
              "      <th>COEF DE VARIAÇÃO DISTRIBUIÇÃO</th>\n",
              "      <th>PREÇO MÉDIO DISTRIBUIÇÃO</th>\n",
              "      <th>DATA INICIAL</th>\n",
              "      <th>DATA FINAL</th>\n",
              "      <th>MÊS</th>\n",
              "      <th>ANO</th>\n",
              "    </tr>\n",
              "  </thead>\n",
              "  <tbody>\n",
              "    <tr>\n",
              "      <th>0</th>\n",
              "      <td>CENTRO OESTE</td>\n",
              "      <td>DISTRITO FEDERAL</td>\n",
              "      <td>ETANOL HIDRATADO</td>\n",
              "      <td>127</td>\n",
              "      <td>0.012</td>\n",
              "      <td>1.288</td>\n",
              "      <td>0.133</td>\n",
              "      <td>0.825</td>\n",
              "      <td>2004-05-09</td>\n",
              "      <td>2004-05-15</td>\n",
              "      <td>5</td>\n",
              "      <td>2004</td>\n",
              "    </tr>\n",
              "    <tr>\n",
              "      <th>1</th>\n",
              "      <td>CENTRO OESTE</td>\n",
              "      <td>GOIAS</td>\n",
              "      <td>ETANOL HIDRATADO</td>\n",
              "      <td>387</td>\n",
              "      <td>0.098</td>\n",
              "      <td>1.162</td>\n",
              "      <td>0.115</td>\n",
              "      <td>0.763</td>\n",
              "      <td>2004-05-09</td>\n",
              "      <td>2004-05-15</td>\n",
              "      <td>5</td>\n",
              "      <td>2004</td>\n",
              "    </tr>\n",
              "    <tr>\n",
              "      <th>2</th>\n",
              "      <td>CENTRO OESTE</td>\n",
              "      <td>MATO GROSSO</td>\n",
              "      <td>ETANOL HIDRATADO</td>\n",
              "      <td>192</td>\n",
              "      <td>0.070</td>\n",
              "      <td>1.389</td>\n",
              "      <td>0.098</td>\n",
              "      <td>0.97</td>\n",
              "      <td>2004-05-09</td>\n",
              "      <td>2004-05-15</td>\n",
              "      <td>5</td>\n",
              "      <td>2004</td>\n",
              "    </tr>\n",
              "    <tr>\n",
              "      <th>3</th>\n",
              "      <td>CENTRO OESTE</td>\n",
              "      <td>MATO GROSSO DO SUL</td>\n",
              "      <td>ETANOL HIDRATADO</td>\n",
              "      <td>162</td>\n",
              "      <td>0.055</td>\n",
              "      <td>1.262</td>\n",
              "      <td>0.143</td>\n",
              "      <td>0.83</td>\n",
              "      <td>2004-05-09</td>\n",
              "      <td>2004-05-15</td>\n",
              "      <td>5</td>\n",
              "      <td>2004</td>\n",
              "    </tr>\n",
              "    <tr>\n",
              "      <th>4</th>\n",
              "      <td>NORDESTE</td>\n",
              "      <td>ALAGOAS</td>\n",
              "      <td>ETANOL HIDRATADO</td>\n",
              "      <td>103</td>\n",
              "      <td>0.066</td>\n",
              "      <td>1.181</td>\n",
              "      <td>0.082</td>\n",
              "      <td>0.941</td>\n",
              "      <td>2004-05-09</td>\n",
              "      <td>2004-05-15</td>\n",
              "      <td>5</td>\n",
              "      <td>2004</td>\n",
              "    </tr>\n",
              "  </tbody>\n",
              "</table>\n",
              "</div>"
            ],
            "text/plain": [
              "         REGIÃO              ESTADO           PRODUTO  ...  DATA FINAL  MÊS   ANO\n",
              "0  CENTRO OESTE    DISTRITO FEDERAL  ETANOL HIDRATADO  ...  2004-05-15    5  2004\n",
              "1  CENTRO OESTE               GOIAS  ETANOL HIDRATADO  ...  2004-05-15    5  2004\n",
              "2  CENTRO OESTE         MATO GROSSO  ETANOL HIDRATADO  ...  2004-05-15    5  2004\n",
              "3  CENTRO OESTE  MATO GROSSO DO SUL  ETANOL HIDRATADO  ...  2004-05-15    5  2004\n",
              "4      NORDESTE             ALAGOAS  ETANOL HIDRATADO  ...  2004-05-15    5  2004\n",
              "\n",
              "[5 rows x 12 columns]"
            ]
          },
          "metadata": {},
          "execution_count": 10
        }
      ]
    },
    {
      "cell_type": "markdown",
      "metadata": {
        "id": "UOSZZ9WYTfT_"
      },
      "source": [
        "### Select the last Five line"
      ]
    },
    {
      "cell_type": "code",
      "metadata": {
        "colab": {
          "base_uri": "https://localhost:8080/",
          "height": 0
        },
        "id": "RTHt_mh7Tj2W",
        "outputId": "12597f16-4040-4ae6-ce88-d0673a5d89eb"
      },
      "source": [
        "interess_gas_prices_brazil_df[-6:-1]"
      ],
      "execution_count": 11,
      "outputs": [
        {
          "output_type": "execute_result",
          "data": {
            "text/html": [
              "<div>\n",
              "<style scoped>\n",
              "    .dataframe tbody tr th:only-of-type {\n",
              "        vertical-align: middle;\n",
              "    }\n",
              "\n",
              "    .dataframe tbody tr th {\n",
              "        vertical-align: top;\n",
              "    }\n",
              "\n",
              "    .dataframe thead th {\n",
              "        text-align: right;\n",
              "    }\n",
              "</style>\n",
              "<table border=\"1\" class=\"dataframe\">\n",
              "  <thead>\n",
              "    <tr style=\"text-align: right;\">\n",
              "      <th></th>\n",
              "      <th>REGIÃO</th>\n",
              "      <th>ESTADO</th>\n",
              "      <th>PRODUTO</th>\n",
              "      <th>NÚMERO DE POSTOS PESQUISADOS</th>\n",
              "      <th>COEF DE VARIAÇÃO REVENDA</th>\n",
              "      <th>PREÇO MÉDIO REVENDA</th>\n",
              "      <th>COEF DE VARIAÇÃO DISTRIBUIÇÃO</th>\n",
              "      <th>PREÇO MÉDIO DISTRIBUIÇÃO</th>\n",
              "      <th>DATA INICIAL</th>\n",
              "      <th>DATA FINAL</th>\n",
              "      <th>MÊS</th>\n",
              "      <th>ANO</th>\n",
              "    </tr>\n",
              "  </thead>\n",
              "  <tbody>\n",
              "    <tr>\n",
              "      <th>106817</th>\n",
              "      <td>SUDESTE</td>\n",
              "      <td>RIO DE JANEIRO</td>\n",
              "      <td>GNV</td>\n",
              "      <td>124</td>\n",
              "      <td>0.084</td>\n",
              "      <td>3.111</td>\n",
              "      <td>0.072</td>\n",
              "      <td>2.404</td>\n",
              "      <td>2019-06-23</td>\n",
              "      <td>2019-06-29</td>\n",
              "      <td>6</td>\n",
              "      <td>2019</td>\n",
              "    </tr>\n",
              "    <tr>\n",
              "      <th>106818</th>\n",
              "      <td>NORDESTE</td>\n",
              "      <td>RIO GRANDE DO NORTE</td>\n",
              "      <td>GNV</td>\n",
              "      <td>7</td>\n",
              "      <td>0.018</td>\n",
              "      <td>3.574</td>\n",
              "      <td>0</td>\n",
              "      <td>2.756</td>\n",
              "      <td>2019-06-23</td>\n",
              "      <td>2019-06-29</td>\n",
              "      <td>6</td>\n",
              "      <td>2019</td>\n",
              "    </tr>\n",
              "    <tr>\n",
              "      <th>106819</th>\n",
              "      <td>SUL</td>\n",
              "      <td>RIO GRANDE DO SUL</td>\n",
              "      <td>GNV</td>\n",
              "      <td>23</td>\n",
              "      <td>0.038</td>\n",
              "      <td>3.401</td>\n",
              "      <td>0.164</td>\n",
              "      <td>2.451</td>\n",
              "      <td>2019-06-23</td>\n",
              "      <td>2019-06-29</td>\n",
              "      <td>6</td>\n",
              "      <td>2019</td>\n",
              "    </tr>\n",
              "    <tr>\n",
              "      <th>106820</th>\n",
              "      <td>SUL</td>\n",
              "      <td>SANTA CATARINA</td>\n",
              "      <td>GNV</td>\n",
              "      <td>24</td>\n",
              "      <td>0.065</td>\n",
              "      <td>2.912</td>\n",
              "      <td>0</td>\n",
              "      <td>1.998</td>\n",
              "      <td>2019-06-23</td>\n",
              "      <td>2019-06-29</td>\n",
              "      <td>6</td>\n",
              "      <td>2019</td>\n",
              "    </tr>\n",
              "    <tr>\n",
              "      <th>106821</th>\n",
              "      <td>SUDESTE</td>\n",
              "      <td>SAO PAULO</td>\n",
              "      <td>GNV</td>\n",
              "      <td>52</td>\n",
              "      <td>0.076</td>\n",
              "      <td>3.020</td>\n",
              "      <td>0.07</td>\n",
              "      <td>2.374</td>\n",
              "      <td>2019-06-23</td>\n",
              "      <td>2019-06-29</td>\n",
              "      <td>6</td>\n",
              "      <td>2019</td>\n",
              "    </tr>\n",
              "  </tbody>\n",
              "</table>\n",
              "</div>"
            ],
            "text/plain": [
              "          REGIÃO               ESTADO PRODUTO  ...  DATA FINAL  MÊS   ANO\n",
              "106817   SUDESTE       RIO DE JANEIRO     GNV  ...  2019-06-29    6  2019\n",
              "106818  NORDESTE  RIO GRANDE DO NORTE     GNV  ...  2019-06-29    6  2019\n",
              "106819       SUL    RIO GRANDE DO SUL     GNV  ...  2019-06-29    6  2019\n",
              "106820       SUL       SANTA CATARINA     GNV  ...  2019-06-29    6  2019\n",
              "106821   SUDESTE            SAO PAULO     GNV  ...  2019-06-29    6  2019\n",
              "\n",
              "[5 rows x 12 columns]"
            ]
          },
          "metadata": {},
          "execution_count": 11
        }
      ]
    },
    {
      "cell_type": "markdown",
      "metadata": {
        "id": "-2IH_mw5USwZ"
      },
      "source": [
        "### Select loc"
      ]
    },
    {
      "cell_type": "code",
      "metadata": {
        "colab": {
          "base_uri": "https://localhost:8080/"
        },
        "id": "OPBBGYzWVkuq",
        "outputId": "8668b8eb-15f1-4199-83f8-4ac039fc6cd2"
      },
      "source": [
        "nordeste_region_filter = interess_gas_prices_brazil_df['REGIÃO'] == \"NORDESTE\"\n",
        "nordeste_region_filter"
      ],
      "execution_count": 12,
      "outputs": [
        {
          "output_type": "execute_result",
          "data": {
            "text/plain": [
              "0         False\n",
              "1         False\n",
              "2         False\n",
              "3         False\n",
              "4          True\n",
              "          ...  \n",
              "106818     True\n",
              "106819    False\n",
              "106820    False\n",
              "106821    False\n",
              "106822     True\n",
              "Name: REGIÃO, Length: 106823, dtype: bool"
            ]
          },
          "metadata": {},
          "execution_count": 12
        }
      ]
    },
    {
      "cell_type": "code",
      "metadata": {
        "id": "nr-MPrmGUZ0W"
      },
      "source": [
        "nordeste_region_filter = interess_gas_prices_brazil_df['REGIÃO'] == \"NORDESTE\"\n",
        "pernambuco_estado_filter = interess_gas_prices_brazil_df['ESTADO'] == \"PERNAMBUCO\"\n",
        "ano_filter = interess_gas_prices_brazil_df['ANO'] == 2019\n",
        "\n"
      ],
      "execution_count": 13,
      "outputs": []
    },
    {
      "cell_type": "markdown",
      "metadata": {
        "id": "79Q_cUYfV4Oi"
      },
      "source": [
        "### Select nordest region_filter"
      ]
    },
    {
      "cell_type": "code",
      "metadata": {
        "colab": {
          "base_uri": "https://localhost:8080/",
          "height": 0
        },
        "id": "flkPhLxeV7cS",
        "outputId": "c889d218-38b7-4180-9063-24142928085a"
      },
      "source": [
        "interess_gas_prices_brazil_df.loc[nordeste_region_filter,interess_columns_gas_prices_brazil_df]\n"
      ],
      "execution_count": 14,
      "outputs": [
        {
          "output_type": "execute_result",
          "data": {
            "text/html": [
              "<div>\n",
              "<style scoped>\n",
              "    .dataframe tbody tr th:only-of-type {\n",
              "        vertical-align: middle;\n",
              "    }\n",
              "\n",
              "    .dataframe tbody tr th {\n",
              "        vertical-align: top;\n",
              "    }\n",
              "\n",
              "    .dataframe thead th {\n",
              "        text-align: right;\n",
              "    }\n",
              "</style>\n",
              "<table border=\"1\" class=\"dataframe\">\n",
              "  <thead>\n",
              "    <tr style=\"text-align: right;\">\n",
              "      <th></th>\n",
              "      <th>REGIÃO</th>\n",
              "      <th>ESTADO</th>\n",
              "      <th>PRODUTO</th>\n",
              "      <th>NÚMERO DE POSTOS PESQUISADOS</th>\n",
              "      <th>COEF DE VARIAÇÃO REVENDA</th>\n",
              "      <th>PREÇO MÉDIO REVENDA</th>\n",
              "      <th>COEF DE VARIAÇÃO DISTRIBUIÇÃO</th>\n",
              "      <th>PREÇO MÉDIO DISTRIBUIÇÃO</th>\n",
              "      <th>DATA INICIAL</th>\n",
              "      <th>DATA FINAL</th>\n",
              "      <th>MÊS</th>\n",
              "      <th>ANO</th>\n",
              "    </tr>\n",
              "  </thead>\n",
              "  <tbody>\n",
              "    <tr>\n",
              "      <th>4</th>\n",
              "      <td>NORDESTE</td>\n",
              "      <td>ALAGOAS</td>\n",
              "      <td>ETANOL HIDRATADO</td>\n",
              "      <td>103</td>\n",
              "      <td>0.066</td>\n",
              "      <td>1.181</td>\n",
              "      <td>0.082</td>\n",
              "      <td>0.941</td>\n",
              "      <td>2004-05-09</td>\n",
              "      <td>2004-05-15</td>\n",
              "      <td>5</td>\n",
              "      <td>2004</td>\n",
              "    </tr>\n",
              "    <tr>\n",
              "      <th>5</th>\n",
              "      <td>NORDESTE</td>\n",
              "      <td>BAHIA</td>\n",
              "      <td>ETANOL HIDRATADO</td>\n",
              "      <td>408</td>\n",
              "      <td>0.095</td>\n",
              "      <td>1.383</td>\n",
              "      <td>0.134</td>\n",
              "      <td>0.957</td>\n",
              "      <td>2004-05-09</td>\n",
              "      <td>2004-05-15</td>\n",
              "      <td>5</td>\n",
              "      <td>2004</td>\n",
              "    </tr>\n",
              "    <tr>\n",
              "      <th>6</th>\n",
              "      <td>NORDESTE</td>\n",
              "      <td>CEARA</td>\n",
              "      <td>ETANOL HIDRATADO</td>\n",
              "      <td>278</td>\n",
              "      <td>0.150</td>\n",
              "      <td>1.453</td>\n",
              "      <td>0.062</td>\n",
              "      <td>1.1</td>\n",
              "      <td>2004-05-09</td>\n",
              "      <td>2004-05-15</td>\n",
              "      <td>5</td>\n",
              "      <td>2004</td>\n",
              "    </tr>\n",
              "    <tr>\n",
              "      <th>7</th>\n",
              "      <td>NORDESTE</td>\n",
              "      <td>MARANHAO</td>\n",
              "      <td>ETANOL HIDRATADO</td>\n",
              "      <td>105</td>\n",
              "      <td>0.097</td>\n",
              "      <td>1.631</td>\n",
              "      <td>0.082</td>\n",
              "      <td>1.116</td>\n",
              "      <td>2004-05-09</td>\n",
              "      <td>2004-05-15</td>\n",
              "      <td>5</td>\n",
              "      <td>2004</td>\n",
              "    </tr>\n",
              "    <tr>\n",
              "      <th>8</th>\n",
              "      <td>NORDESTE</td>\n",
              "      <td>PARAIBA</td>\n",
              "      <td>ETANOL HIDRATADO</td>\n",
              "      <td>125</td>\n",
              "      <td>0.101</td>\n",
              "      <td>1.284</td>\n",
              "      <td>0.077</td>\n",
              "      <td>0.931</td>\n",
              "      <td>2004-05-09</td>\n",
              "      <td>2004-05-15</td>\n",
              "      <td>5</td>\n",
              "      <td>2004</td>\n",
              "    </tr>\n",
              "    <tr>\n",
              "      <th>...</th>\n",
              "      <td>...</td>\n",
              "      <td>...</td>\n",
              "      <td>...</td>\n",
              "      <td>...</td>\n",
              "      <td>...</td>\n",
              "      <td>...</td>\n",
              "      <td>...</td>\n",
              "      <td>...</td>\n",
              "      <td>...</td>\n",
              "      <td>...</td>\n",
              "      <td>...</td>\n",
              "      <td>...</td>\n",
              "    </tr>\n",
              "    <tr>\n",
              "      <th>106810</th>\n",
              "      <td>NORDESTE</td>\n",
              "      <td>CEARA</td>\n",
              "      <td>GNV</td>\n",
              "      <td>16</td>\n",
              "      <td>0.009</td>\n",
              "      <td>3.656</td>\n",
              "      <td>0</td>\n",
              "      <td>2.78</td>\n",
              "      <td>2019-06-23</td>\n",
              "      <td>2019-06-29</td>\n",
              "      <td>6</td>\n",
              "      <td>2019</td>\n",
              "    </tr>\n",
              "    <tr>\n",
              "      <th>106814</th>\n",
              "      <td>NORDESTE</td>\n",
              "      <td>PARAIBA</td>\n",
              "      <td>GNV</td>\n",
              "      <td>11</td>\n",
              "      <td>0.004</td>\n",
              "      <td>3.688</td>\n",
              "      <td>0.008</td>\n",
              "      <td>3.068</td>\n",
              "      <td>2019-06-23</td>\n",
              "      <td>2019-06-29</td>\n",
              "      <td>6</td>\n",
              "      <td>2019</td>\n",
              "    </tr>\n",
              "    <tr>\n",
              "      <th>106816</th>\n",
              "      <td>NORDESTE</td>\n",
              "      <td>PERNAMBUCO</td>\n",
              "      <td>GNV</td>\n",
              "      <td>12</td>\n",
              "      <td>0.096</td>\n",
              "      <td>2.698</td>\n",
              "      <td>0.103</td>\n",
              "      <td>1.907</td>\n",
              "      <td>2019-06-23</td>\n",
              "      <td>2019-06-29</td>\n",
              "      <td>6</td>\n",
              "      <td>2019</td>\n",
              "    </tr>\n",
              "    <tr>\n",
              "      <th>106818</th>\n",
              "      <td>NORDESTE</td>\n",
              "      <td>RIO GRANDE DO NORTE</td>\n",
              "      <td>GNV</td>\n",
              "      <td>7</td>\n",
              "      <td>0.018</td>\n",
              "      <td>3.574</td>\n",
              "      <td>0</td>\n",
              "      <td>2.756</td>\n",
              "      <td>2019-06-23</td>\n",
              "      <td>2019-06-29</td>\n",
              "      <td>6</td>\n",
              "      <td>2019</td>\n",
              "    </tr>\n",
              "    <tr>\n",
              "      <th>106822</th>\n",
              "      <td>NORDESTE</td>\n",
              "      <td>SERGIPE</td>\n",
              "      <td>GNV</td>\n",
              "      <td>4</td>\n",
              "      <td>0.001</td>\n",
              "      <td>3.697</td>\n",
              "      <td>0</td>\n",
              "      <td>2.518</td>\n",
              "      <td>2019-06-23</td>\n",
              "      <td>2019-06-29</td>\n",
              "      <td>6</td>\n",
              "      <td>2019</td>\n",
              "    </tr>\n",
              "  </tbody>\n",
              "</table>\n",
              "<p>36869 rows × 12 columns</p>\n",
              "</div>"
            ],
            "text/plain": [
              "          REGIÃO               ESTADO           PRODUTO  ...  DATA FINAL  MÊS   ANO\n",
              "4       NORDESTE              ALAGOAS  ETANOL HIDRATADO  ...  2004-05-15    5  2004\n",
              "5       NORDESTE                BAHIA  ETANOL HIDRATADO  ...  2004-05-15    5  2004\n",
              "6       NORDESTE                CEARA  ETANOL HIDRATADO  ...  2004-05-15    5  2004\n",
              "7       NORDESTE             MARANHAO  ETANOL HIDRATADO  ...  2004-05-15    5  2004\n",
              "8       NORDESTE              PARAIBA  ETANOL HIDRATADO  ...  2004-05-15    5  2004\n",
              "...          ...                  ...               ...  ...         ...  ...   ...\n",
              "106810  NORDESTE                CEARA               GNV  ...  2019-06-29    6  2019\n",
              "106814  NORDESTE              PARAIBA               GNV  ...  2019-06-29    6  2019\n",
              "106816  NORDESTE           PERNAMBUCO               GNV  ...  2019-06-29    6  2019\n",
              "106818  NORDESTE  RIO GRANDE DO NORTE               GNV  ...  2019-06-29    6  2019\n",
              "106822  NORDESTE              SERGIPE               GNV  ...  2019-06-29    6  2019\n",
              "\n",
              "[36869 rows x 12 columns]"
            ]
          },
          "metadata": {},
          "execution_count": 14
        }
      ]
    },
    {
      "cell_type": "markdown",
      "metadata": {
        "id": "W_9GDHC7WDI-"
      },
      "source": [
        "### Select Pernambuco state filter"
      ]
    },
    {
      "cell_type": "code",
      "metadata": {
        "colab": {
          "base_uri": "https://localhost:8080/",
          "height": 0
        },
        "id": "OmnsiUWPWGCv",
        "outputId": "b172fa22-168f-4198-952a-5a55a40a16c3"
      },
      "source": [
        "interess_gas_prices_brazil_df.loc[pernambuco_estado_filter,interess_columns_gas_prices_brazil_df]\n"
      ],
      "execution_count": 15,
      "outputs": [
        {
          "output_type": "execute_result",
          "data": {
            "text/html": [
              "<div>\n",
              "<style scoped>\n",
              "    .dataframe tbody tr th:only-of-type {\n",
              "        vertical-align: middle;\n",
              "    }\n",
              "\n",
              "    .dataframe tbody tr th {\n",
              "        vertical-align: top;\n",
              "    }\n",
              "\n",
              "    .dataframe thead th {\n",
              "        text-align: right;\n",
              "    }\n",
              "</style>\n",
              "<table border=\"1\" class=\"dataframe\">\n",
              "  <thead>\n",
              "    <tr style=\"text-align: right;\">\n",
              "      <th></th>\n",
              "      <th>REGIÃO</th>\n",
              "      <th>ESTADO</th>\n",
              "      <th>PRODUTO</th>\n",
              "      <th>NÚMERO DE POSTOS PESQUISADOS</th>\n",
              "      <th>COEF DE VARIAÇÃO REVENDA</th>\n",
              "      <th>PREÇO MÉDIO REVENDA</th>\n",
              "      <th>COEF DE VARIAÇÃO DISTRIBUIÇÃO</th>\n",
              "      <th>PREÇO MÉDIO DISTRIBUIÇÃO</th>\n",
              "      <th>DATA INICIAL</th>\n",
              "      <th>DATA FINAL</th>\n",
              "      <th>MÊS</th>\n",
              "      <th>ANO</th>\n",
              "    </tr>\n",
              "  </thead>\n",
              "  <tbody>\n",
              "    <tr>\n",
              "      <th>9</th>\n",
              "      <td>NORDESTE</td>\n",
              "      <td>PERNAMBUCO</td>\n",
              "      <td>ETANOL HIDRATADO</td>\n",
              "      <td>423</td>\n",
              "      <td>0.115</td>\n",
              "      <td>1.224</td>\n",
              "      <td>0.096</td>\n",
              "      <td>0.947</td>\n",
              "      <td>2004-05-09</td>\n",
              "      <td>2004-05-15</td>\n",
              "      <td>5</td>\n",
              "      <td>2004</td>\n",
              "    </tr>\n",
              "    <tr>\n",
              "      <th>36</th>\n",
              "      <td>NORDESTE</td>\n",
              "      <td>PERNAMBUCO</td>\n",
              "      <td>ETANOL HIDRATADO</td>\n",
              "      <td>435</td>\n",
              "      <td>0.113</td>\n",
              "      <td>1.217</td>\n",
              "      <td>0.084</td>\n",
              "      <td>0.931</td>\n",
              "      <td>2004-05-16</td>\n",
              "      <td>2004-05-22</td>\n",
              "      <td>5</td>\n",
              "      <td>2004</td>\n",
              "    </tr>\n",
              "    <tr>\n",
              "      <th>63</th>\n",
              "      <td>NORDESTE</td>\n",
              "      <td>PERNAMBUCO</td>\n",
              "      <td>ETANOL HIDRATADO</td>\n",
              "      <td>421</td>\n",
              "      <td>0.112</td>\n",
              "      <td>1.217</td>\n",
              "      <td>0.084</td>\n",
              "      <td>0.946</td>\n",
              "      <td>2004-05-23</td>\n",
              "      <td>2004-05-29</td>\n",
              "      <td>5</td>\n",
              "      <td>2004</td>\n",
              "    </tr>\n",
              "    <tr>\n",
              "      <th>90</th>\n",
              "      <td>NORDESTE</td>\n",
              "      <td>PERNAMBUCO</td>\n",
              "      <td>ETANOL HIDRATADO</td>\n",
              "      <td>425</td>\n",
              "      <td>0.108</td>\n",
              "      <td>1.216</td>\n",
              "      <td>0.078</td>\n",
              "      <td>0.963</td>\n",
              "      <td>2004-05-30</td>\n",
              "      <td>2004-06-05</td>\n",
              "      <td>5</td>\n",
              "      <td>2004</td>\n",
              "    </tr>\n",
              "    <tr>\n",
              "      <th>117</th>\n",
              "      <td>NORDESTE</td>\n",
              "      <td>PERNAMBUCO</td>\n",
              "      <td>ETANOL HIDRATADO</td>\n",
              "      <td>415</td>\n",
              "      <td>0.096</td>\n",
              "      <td>1.235</td>\n",
              "      <td>0.086</td>\n",
              "      <td>0.972</td>\n",
              "      <td>2004-06-06</td>\n",
              "      <td>2004-06-12</td>\n",
              "      <td>6</td>\n",
              "      <td>2004</td>\n",
              "    </tr>\n",
              "    <tr>\n",
              "      <th>...</th>\n",
              "      <td>...</td>\n",
              "      <td>...</td>\n",
              "      <td>...</td>\n",
              "      <td>...</td>\n",
              "      <td>...</td>\n",
              "      <td>...</td>\n",
              "      <td>...</td>\n",
              "      <td>...</td>\n",
              "      <td>...</td>\n",
              "      <td>...</td>\n",
              "      <td>...</td>\n",
              "      <td>...</td>\n",
              "    </tr>\n",
              "    <tr>\n",
              "      <th>106716</th>\n",
              "      <td>NORDESTE</td>\n",
              "      <td>PERNAMBUCO</td>\n",
              "      <td>ÓLEO DIESEL</td>\n",
              "      <td>8</td>\n",
              "      <td>0.036</td>\n",
              "      <td>3.681</td>\n",
              "      <td>0.038</td>\n",
              "      <td>3.276</td>\n",
              "      <td>2019-06-23</td>\n",
              "      <td>2019-06-29</td>\n",
              "      <td>6</td>\n",
              "      <td>2019</td>\n",
              "    </tr>\n",
              "    <tr>\n",
              "      <th>106743</th>\n",
              "      <td>NORDESTE</td>\n",
              "      <td>PERNAMBUCO</td>\n",
              "      <td>ÓLEO DIESEL S10</td>\n",
              "      <td>174</td>\n",
              "      <td>0.040</td>\n",
              "      <td>3.556</td>\n",
              "      <td>0.032</td>\n",
              "      <td>3.106</td>\n",
              "      <td>2019-06-23</td>\n",
              "      <td>2019-06-29</td>\n",
              "      <td>6</td>\n",
              "      <td>2019</td>\n",
              "    </tr>\n",
              "    <tr>\n",
              "      <th>106770</th>\n",
              "      <td>NORDESTE</td>\n",
              "      <td>PERNAMBUCO</td>\n",
              "      <td>GASOLINA COMUM</td>\n",
              "      <td>192</td>\n",
              "      <td>0.042</td>\n",
              "      <td>4.445</td>\n",
              "      <td>0.018</td>\n",
              "      <td>3.945</td>\n",
              "      <td>2019-06-23</td>\n",
              "      <td>2019-06-29</td>\n",
              "      <td>6</td>\n",
              "      <td>2019</td>\n",
              "    </tr>\n",
              "    <tr>\n",
              "      <th>106797</th>\n",
              "      <td>NORDESTE</td>\n",
              "      <td>PERNAMBUCO</td>\n",
              "      <td>GLP</td>\n",
              "      <td>165</td>\n",
              "      <td>0.055</td>\n",
              "      <td>66.735</td>\n",
              "      <td>0.06</td>\n",
              "      <td>53.498</td>\n",
              "      <td>2019-06-23</td>\n",
              "      <td>2019-06-29</td>\n",
              "      <td>6</td>\n",
              "      <td>2019</td>\n",
              "    </tr>\n",
              "    <tr>\n",
              "      <th>106816</th>\n",
              "      <td>NORDESTE</td>\n",
              "      <td>PERNAMBUCO</td>\n",
              "      <td>GNV</td>\n",
              "      <td>12</td>\n",
              "      <td>0.096</td>\n",
              "      <td>2.698</td>\n",
              "      <td>0.103</td>\n",
              "      <td>1.907</td>\n",
              "      <td>2019-06-23</td>\n",
              "      <td>2019-06-29</td>\n",
              "      <td>6</td>\n",
              "      <td>2019</td>\n",
              "    </tr>\n",
              "  </tbody>\n",
              "</table>\n",
              "<p>4262 rows × 12 columns</p>\n",
              "</div>"
            ],
            "text/plain": [
              "          REGIÃO      ESTADO           PRODUTO  ...  DATA FINAL  MÊS   ANO\n",
              "9       NORDESTE  PERNAMBUCO  ETANOL HIDRATADO  ...  2004-05-15    5  2004\n",
              "36      NORDESTE  PERNAMBUCO  ETANOL HIDRATADO  ...  2004-05-22    5  2004\n",
              "63      NORDESTE  PERNAMBUCO  ETANOL HIDRATADO  ...  2004-05-29    5  2004\n",
              "90      NORDESTE  PERNAMBUCO  ETANOL HIDRATADO  ...  2004-06-05    5  2004\n",
              "117     NORDESTE  PERNAMBUCO  ETANOL HIDRATADO  ...  2004-06-12    6  2004\n",
              "...          ...         ...               ...  ...         ...  ...   ...\n",
              "106716  NORDESTE  PERNAMBUCO       ÓLEO DIESEL  ...  2019-06-29    6  2019\n",
              "106743  NORDESTE  PERNAMBUCO   ÓLEO DIESEL S10  ...  2019-06-29    6  2019\n",
              "106770  NORDESTE  PERNAMBUCO    GASOLINA COMUM  ...  2019-06-29    6  2019\n",
              "106797  NORDESTE  PERNAMBUCO               GLP  ...  2019-06-29    6  2019\n",
              "106816  NORDESTE  PERNAMBUCO               GNV  ...  2019-06-29    6  2019\n",
              "\n",
              "[4262 rows x 12 columns]"
            ]
          },
          "metadata": {},
          "execution_count": 15
        }
      ]
    },
    {
      "cell_type": "markdown",
      "metadata": {
        "id": "6wtaU3yNWyoI"
      },
      "source": [
        "### Select 2019 Year Filter"
      ]
    },
    {
      "cell_type": "code",
      "metadata": {
        "colab": {
          "base_uri": "https://localhost:8080/",
          "height": 0
        },
        "id": "zJPRCFuLW1Ow",
        "outputId": "530943cf-dadc-443a-f2fe-2817c145c4be"
      },
      "source": [
        "interess_gas_prices_brazil_df.loc[ano_filter,interess_columns_gas_prices_brazil_df]\n"
      ],
      "execution_count": 16,
      "outputs": [
        {
          "output_type": "execute_result",
          "data": {
            "text/html": [
              "<div>\n",
              "<style scoped>\n",
              "    .dataframe tbody tr th:only-of-type {\n",
              "        vertical-align: middle;\n",
              "    }\n",
              "\n",
              "    .dataframe tbody tr th {\n",
              "        vertical-align: top;\n",
              "    }\n",
              "\n",
              "    .dataframe thead th {\n",
              "        text-align: right;\n",
              "    }\n",
              "</style>\n",
              "<table border=\"1\" class=\"dataframe\">\n",
              "  <thead>\n",
              "    <tr style=\"text-align: right;\">\n",
              "      <th></th>\n",
              "      <th>REGIÃO</th>\n",
              "      <th>ESTADO</th>\n",
              "      <th>PRODUTO</th>\n",
              "      <th>NÚMERO DE POSTOS PESQUISADOS</th>\n",
              "      <th>COEF DE VARIAÇÃO REVENDA</th>\n",
              "      <th>PREÇO MÉDIO REVENDA</th>\n",
              "      <th>COEF DE VARIAÇÃO DISTRIBUIÇÃO</th>\n",
              "      <th>PREÇO MÉDIO DISTRIBUIÇÃO</th>\n",
              "      <th>DATA INICIAL</th>\n",
              "      <th>DATA FINAL</th>\n",
              "      <th>MÊS</th>\n",
              "      <th>ANO</th>\n",
              "    </tr>\n",
              "  </thead>\n",
              "  <tbody>\n",
              "    <tr>\n",
              "      <th>103069</th>\n",
              "      <td>NORTE</td>\n",
              "      <td>ACRE</td>\n",
              "      <td>ETANOL HIDRATADO</td>\n",
              "      <td>18</td>\n",
              "      <td>0.070</td>\n",
              "      <td>4.032</td>\n",
              "      <td>0.032</td>\n",
              "      <td>3.455</td>\n",
              "      <td>2019-01-06</td>\n",
              "      <td>2019-01-12</td>\n",
              "      <td>1</td>\n",
              "      <td>2019</td>\n",
              "    </tr>\n",
              "    <tr>\n",
              "      <th>103070</th>\n",
              "      <td>NORDESTE</td>\n",
              "      <td>ALAGOAS</td>\n",
              "      <td>ETANOL HIDRATADO</td>\n",
              "      <td>57</td>\n",
              "      <td>0.063</td>\n",
              "      <td>3.242</td>\n",
              "      <td>0.084</td>\n",
              "      <td>2.79</td>\n",
              "      <td>2019-01-06</td>\n",
              "      <td>2019-01-12</td>\n",
              "      <td>1</td>\n",
              "      <td>2019</td>\n",
              "    </tr>\n",
              "    <tr>\n",
              "      <th>103071</th>\n",
              "      <td>NORTE</td>\n",
              "      <td>AMAZONAS</td>\n",
              "      <td>ETANOL HIDRATADO</td>\n",
              "      <td>44</td>\n",
              "      <td>0.042</td>\n",
              "      <td>3.531</td>\n",
              "      <td>0.022</td>\n",
              "      <td>3.243</td>\n",
              "      <td>2019-01-06</td>\n",
              "      <td>2019-01-12</td>\n",
              "      <td>1</td>\n",
              "      <td>2019</td>\n",
              "    </tr>\n",
              "    <tr>\n",
              "      <th>103072</th>\n",
              "      <td>NORDESTE</td>\n",
              "      <td>BAHIA</td>\n",
              "      <td>ETANOL HIDRATADO</td>\n",
              "      <td>328</td>\n",
              "      <td>0.051</td>\n",
              "      <td>3.410</td>\n",
              "      <td>0.043</td>\n",
              "      <td>2.782</td>\n",
              "      <td>2019-01-06</td>\n",
              "      <td>2019-01-12</td>\n",
              "      <td>1</td>\n",
              "      <td>2019</td>\n",
              "    </tr>\n",
              "    <tr>\n",
              "      <th>103073</th>\n",
              "      <td>NORDESTE</td>\n",
              "      <td>CEARA</td>\n",
              "      <td>ETANOL HIDRATADO</td>\n",
              "      <td>196</td>\n",
              "      <td>0.033</td>\n",
              "      <td>3.493</td>\n",
              "      <td>0.024</td>\n",
              "      <td>3.073</td>\n",
              "      <td>2019-01-06</td>\n",
              "      <td>2019-01-12</td>\n",
              "      <td>1</td>\n",
              "      <td>2019</td>\n",
              "    </tr>\n",
              "    <tr>\n",
              "      <th>...</th>\n",
              "      <td>...</td>\n",
              "      <td>...</td>\n",
              "      <td>...</td>\n",
              "      <td>...</td>\n",
              "      <td>...</td>\n",
              "      <td>...</td>\n",
              "      <td>...</td>\n",
              "      <td>...</td>\n",
              "      <td>...</td>\n",
              "      <td>...</td>\n",
              "      <td>...</td>\n",
              "      <td>...</td>\n",
              "    </tr>\n",
              "    <tr>\n",
              "      <th>106818</th>\n",
              "      <td>NORDESTE</td>\n",
              "      <td>RIO GRANDE DO NORTE</td>\n",
              "      <td>GNV</td>\n",
              "      <td>7</td>\n",
              "      <td>0.018</td>\n",
              "      <td>3.574</td>\n",
              "      <td>0</td>\n",
              "      <td>2.756</td>\n",
              "      <td>2019-06-23</td>\n",
              "      <td>2019-06-29</td>\n",
              "      <td>6</td>\n",
              "      <td>2019</td>\n",
              "    </tr>\n",
              "    <tr>\n",
              "      <th>106819</th>\n",
              "      <td>SUL</td>\n",
              "      <td>RIO GRANDE DO SUL</td>\n",
              "      <td>GNV</td>\n",
              "      <td>23</td>\n",
              "      <td>0.038</td>\n",
              "      <td>3.401</td>\n",
              "      <td>0.164</td>\n",
              "      <td>2.451</td>\n",
              "      <td>2019-06-23</td>\n",
              "      <td>2019-06-29</td>\n",
              "      <td>6</td>\n",
              "      <td>2019</td>\n",
              "    </tr>\n",
              "    <tr>\n",
              "      <th>106820</th>\n",
              "      <td>SUL</td>\n",
              "      <td>SANTA CATARINA</td>\n",
              "      <td>GNV</td>\n",
              "      <td>24</td>\n",
              "      <td>0.065</td>\n",
              "      <td>2.912</td>\n",
              "      <td>0</td>\n",
              "      <td>1.998</td>\n",
              "      <td>2019-06-23</td>\n",
              "      <td>2019-06-29</td>\n",
              "      <td>6</td>\n",
              "      <td>2019</td>\n",
              "    </tr>\n",
              "    <tr>\n",
              "      <th>106821</th>\n",
              "      <td>SUDESTE</td>\n",
              "      <td>SAO PAULO</td>\n",
              "      <td>GNV</td>\n",
              "      <td>52</td>\n",
              "      <td>0.076</td>\n",
              "      <td>3.020</td>\n",
              "      <td>0.07</td>\n",
              "      <td>2.374</td>\n",
              "      <td>2019-06-23</td>\n",
              "      <td>2019-06-29</td>\n",
              "      <td>6</td>\n",
              "      <td>2019</td>\n",
              "    </tr>\n",
              "    <tr>\n",
              "      <th>106822</th>\n",
              "      <td>NORDESTE</td>\n",
              "      <td>SERGIPE</td>\n",
              "      <td>GNV</td>\n",
              "      <td>4</td>\n",
              "      <td>0.001</td>\n",
              "      <td>3.697</td>\n",
              "      <td>0</td>\n",
              "      <td>2.518</td>\n",
              "      <td>2019-06-23</td>\n",
              "      <td>2019-06-29</td>\n",
              "      <td>6</td>\n",
              "      <td>2019</td>\n",
              "    </tr>\n",
              "  </tbody>\n",
              "</table>\n",
              "<p>3754 rows × 12 columns</p>\n",
              "</div>"
            ],
            "text/plain": [
              "          REGIÃO               ESTADO           PRODUTO  ...  DATA FINAL  MÊS   ANO\n",
              "103069     NORTE                 ACRE  ETANOL HIDRATADO  ...  2019-01-12    1  2019\n",
              "103070  NORDESTE              ALAGOAS  ETANOL HIDRATADO  ...  2019-01-12    1  2019\n",
              "103071     NORTE             AMAZONAS  ETANOL HIDRATADO  ...  2019-01-12    1  2019\n",
              "103072  NORDESTE                BAHIA  ETANOL HIDRATADO  ...  2019-01-12    1  2019\n",
              "103073  NORDESTE                CEARA  ETANOL HIDRATADO  ...  2019-01-12    1  2019\n",
              "...          ...                  ...               ...  ...         ...  ...   ...\n",
              "106818  NORDESTE  RIO GRANDE DO NORTE               GNV  ...  2019-06-29    6  2019\n",
              "106819       SUL    RIO GRANDE DO SUL               GNV  ...  2019-06-29    6  2019\n",
              "106820       SUL       SANTA CATARINA               GNV  ...  2019-06-29    6  2019\n",
              "106821   SUDESTE            SAO PAULO               GNV  ...  2019-06-29    6  2019\n",
              "106822  NORDESTE              SERGIPE               GNV  ...  2019-06-29    6  2019\n",
              "\n",
              "[3754 rows x 12 columns]"
            ]
          },
          "metadata": {},
          "execution_count": 16
        }
      ]
    },
    {
      "cell_type": "markdown",
      "metadata": {
        "id": "2bEF5oQCXlL9"
      },
      "source": [
        "### Check Unique Values"
      ]
    },
    {
      "cell_type": "markdown",
      "metadata": {
        "id": "R6nVkVMiXyDr"
      },
      "source": [
        "### Estado"
      ]
    },
    {
      "cell_type": "code",
      "metadata": {
        "colab": {
          "base_uri": "https://localhost:8080/"
        },
        "id": "K_aOowb3YDl-",
        "outputId": "bb5724ae-aa41-46f8-dc20-e65080f67091"
      },
      "source": [
        "interess_gas_prices_brazil_df.ESTADO.unique()"
      ],
      "execution_count": 17,
      "outputs": [
        {
          "output_type": "execute_result",
          "data": {
            "text/plain": [
              "array(['DISTRITO FEDERAL', 'GOIAS', 'MATO GROSSO', 'MATO GROSSO DO SUL',\n",
              "       'ALAGOAS', 'BAHIA', 'CEARA', 'MARANHAO', 'PARAIBA', 'PERNAMBUCO',\n",
              "       'PIAUI', 'RIO GRANDE DO NORTE', 'SERGIPE', 'ACRE', 'AMAPA',\n",
              "       'AMAZONAS', 'PARA', 'RONDONIA', 'RORAIMA', 'TOCANTINS',\n",
              "       'ESPIRITO SANTO', 'MINAS GERAIS', 'RIO DE JANEIRO', 'SAO PAULO',\n",
              "       'PARANA', 'RIO GRANDE DO SUL', 'SANTA CATARINA'], dtype=object)"
            ]
          },
          "metadata": {},
          "execution_count": 17
        }
      ]
    },
    {
      "cell_type": "code",
      "metadata": {
        "colab": {
          "base_uri": "https://localhost:8080/"
        },
        "id": "EspIlP4EXDHJ",
        "outputId": "1c0d0689-83ba-4f13-e999-717ff04b0ede"
      },
      "source": [
        "len(interess_gas_prices_brazil_df.ESTADO.unique())"
      ],
      "execution_count": 18,
      "outputs": [
        {
          "output_type": "execute_result",
          "data": {
            "text/plain": [
              "27"
            ]
          },
          "metadata": {},
          "execution_count": 18
        }
      ]
    },
    {
      "cell_type": "markdown",
      "metadata": {
        "id": "Kv75YSNsX0GA"
      },
      "source": [
        "### Region"
      ]
    },
    {
      "cell_type": "code",
      "metadata": {
        "colab": {
          "base_uri": "https://localhost:8080/"
        },
        "id": "N2nQTQLzX3yN",
        "outputId": "d8c41d32-bfd4-44f7-c5b7-0c4bb5b3aa9c"
      },
      "source": [
        "len(interess_gas_prices_brazil_df.REGIÃO.unique())"
      ],
      "execution_count": 19,
      "outputs": [
        {
          "output_type": "execute_result",
          "data": {
            "text/plain": [
              "5"
            ]
          },
          "metadata": {},
          "execution_count": 19
        }
      ]
    },
    {
      "cell_type": "code",
      "metadata": {
        "colab": {
          "base_uri": "https://localhost:8080/"
        },
        "id": "EorylDwIX7ZI",
        "outputId": "632f25b2-134e-4975-a5a4-8851b779ec5f"
      },
      "source": [
        "interess_gas_prices_brazil_df.REGIÃO.unique()"
      ],
      "execution_count": 20,
      "outputs": [
        {
          "output_type": "execute_result",
          "data": {
            "text/plain": [
              "array(['CENTRO OESTE', 'NORDESTE', 'NORTE', 'SUDESTE', 'SUL'],\n",
              "      dtype=object)"
            ]
          },
          "metadata": {},
          "execution_count": 20
        }
      ]
    },
    {
      "cell_type": "markdown",
      "metadata": {
        "id": "dZw1JiVtYH_u"
      },
      "source": [
        "### Product"
      ]
    },
    {
      "cell_type": "code",
      "metadata": {
        "colab": {
          "base_uri": "https://localhost:8080/"
        },
        "id": "RxbDKlkXYH_v",
        "outputId": "d03b661c-cd7f-440e-d1cd-d2c42dfd69df"
      },
      "source": [
        "len(interess_gas_prices_brazil_df.PRODUTO.unique())"
      ],
      "execution_count": 21,
      "outputs": [
        {
          "output_type": "execute_result",
          "data": {
            "text/plain": [
              "6"
            ]
          },
          "metadata": {},
          "execution_count": 21
        }
      ]
    },
    {
      "cell_type": "code",
      "metadata": {
        "colab": {
          "base_uri": "https://localhost:8080/"
        },
        "id": "GV9JgU-PYH_w",
        "outputId": "cc210d44-75f9-4a1b-8650-e871363d979a"
      },
      "source": [
        "interess_gas_prices_brazil_df.PRODUTO.unique()"
      ],
      "execution_count": 22,
      "outputs": [
        {
          "output_type": "execute_result",
          "data": {
            "text/plain": [
              "array(['ETANOL HIDRATADO', 'GASOLINA COMUM', 'GLP', 'GNV', 'ÓLEO DIESEL',\n",
              "       'ÓLEO DIESEL S10'], dtype=object)"
            ]
          },
          "metadata": {},
          "execution_count": 22
        }
      ]
    },
    {
      "cell_type": "markdown",
      "metadata": {
        "id": "8bxp1UokYVCe"
      },
      "source": [
        "### By Year"
      ]
    },
    {
      "cell_type": "code",
      "metadata": {
        "colab": {
          "base_uri": "https://localhost:8080/"
        },
        "id": "vheKeEO9YVCn",
        "outputId": "b0e79eb8-87bc-4ab5-ff42-e130a6095a8a"
      },
      "source": [
        "len(interess_gas_prices_brazil_df.ANO.unique())"
      ],
      "execution_count": 23,
      "outputs": [
        {
          "output_type": "execute_result",
          "data": {
            "text/plain": [
              "16"
            ]
          },
          "metadata": {},
          "execution_count": 23
        }
      ]
    },
    {
      "cell_type": "code",
      "metadata": {
        "colab": {
          "base_uri": "https://localhost:8080/"
        },
        "id": "eyRL_aUtYVCq",
        "outputId": "c24a0eb0-e02c-4323-c2d2-a2bfba6d28d5"
      },
      "source": [
        "interess_gas_prices_brazil_df.ANO.unique()"
      ],
      "execution_count": 24,
      "outputs": [
        {
          "output_type": "execute_result",
          "data": {
            "text/plain": [
              "array([2004, 2005, 2006, 2007, 2008, 2009, 2010, 2011, 2012, 2013, 2014,\n",
              "       2015, 2016, 2017, 2018, 2019])"
            ]
          },
          "metadata": {},
          "execution_count": 24
        }
      ]
    },
    {
      "cell_type": "markdown",
      "metadata": {
        "id": "mzq2rnqyZaSy"
      },
      "source": [
        "## Select Mean General\n"
      ]
    },
    {
      "cell_type": "code",
      "metadata": {
        "id": "SaFlRji8Z9ZO"
      },
      "source": [
        "TAM = len(interess_gas_prices_brazil_df)"
      ],
      "execution_count": 25,
      "outputs": []
    },
    {
      "cell_type": "code",
      "metadata": {
        "id": "Bq4wr-Ncn57l"
      },
      "source": [
        ""
      ],
      "execution_count": 25,
      "outputs": []
    },
    {
      "cell_type": "markdown",
      "metadata": {
        "id": "KshHiOOGaHmT"
      },
      "source": [
        "### Número de Postos Pesquisados Column"
      ]
    },
    {
      "cell_type": "code",
      "metadata": {
        "colab": {
          "base_uri": "https://localhost:8080/"
        },
        "id": "mHQduObIZcr0",
        "outputId": "535548cc-5f46-48ed-ba18-d5fbfcc01228"
      },
      "source": [
        "interess_gas_prices_brazil_df['NÚMERO DE POSTOS PESQUISADOS'].sum()/TAM"
      ],
      "execution_count": 26,
      "outputs": [
        {
          "output_type": "execute_result",
          "data": {
            "text/plain": [
              "233.77097628787809"
            ]
          },
          "metadata": {},
          "execution_count": 26
        }
      ]
    },
    {
      "cell_type": "markdown",
      "metadata": {
        "id": "2UrpqOlDaMQj"
      },
      "source": [
        "### Coef de Variação Revenda Column"
      ]
    },
    {
      "cell_type": "code",
      "metadata": {
        "colab": {
          "base_uri": "https://localhost:8080/"
        },
        "id": "wtmyvs8IaLkL",
        "outputId": "44766005-9c39-442d-b847-31129b877f9d"
      },
      "source": [
        "interess_gas_prices_brazil_df['COEF DE VARIAÇÃO REVENDA'].sum()/TAM"
      ],
      "execution_count": 27,
      "outputs": [
        {
          "output_type": "execute_result",
          "data": {
            "text/plain": [
              "0.045417793920784856"
            ]
          },
          "metadata": {},
          "execution_count": 27
        }
      ]
    },
    {
      "cell_type": "markdown",
      "metadata": {
        "id": "d9wPmFBSaN-N"
      },
      "source": [
        "### Preço Media Revenda Column"
      ]
    },
    {
      "cell_type": "code",
      "metadata": {
        "colab": {
          "base_uri": "https://localhost:8080/"
        },
        "id": "SiR3chvdaPCq",
        "outputId": "e138e859-0211-4e3d-aa97-a29dd59b84ed"
      },
      "source": [
        "interess_gas_prices_brazil_df['PREÇO MÉDIO REVENDA'].sum()/TAM"
      ],
      "execution_count": 28,
      "outputs": [
        {
          "output_type": "execute_result",
          "data": {
            "text/plain": [
              "10.870780431180549"
            ]
          },
          "metadata": {},
          "execution_count": 28
        }
      ]
    },
    {
      "cell_type": "markdown",
      "metadata": {
        "id": "ctd0GK-1aexQ"
      },
      "source": [
        "Coef de Variação Distribuição Column"
      ]
    },
    {
      "cell_type": "code",
      "metadata": {
        "colab": {
          "base_uri": "https://localhost:8080/"
        },
        "id": "ub8pRhd4cldS",
        "outputId": "0e56b625-f708-4cb1-932f-1a8ccbd08760"
      },
      "source": [
        "interess_gas_prices_brazil_df['COEF DE VARIAÇÃO DISTRIBUIÇÃO'].dtype"
      ],
      "execution_count": 29,
      "outputs": [
        {
          "output_type": "execute_result",
          "data": {
            "text/plain": [
              "dtype('O')"
            ]
          },
          "metadata": {},
          "execution_count": 29
        }
      ]
    },
    {
      "cell_type": "code",
      "metadata": {
        "colab": {
          "base_uri": "https://localhost:8080/"
        },
        "id": "2TTo0bGbcscN",
        "outputId": "53a96961-9b6b-4baa-de1d-b19aff8ff30a"
      },
      "source": [
        "interess_gas_prices_brazil_df['COEF DE VARIAÇÃO DISTRIBUIÇÃO'] = interess_gas_prices_brazil_df['COEF DE VARIAÇÃO DISTRIBUIÇÃO'].apply(lambda x : 0 if x == '-' else x)\n",
        "\n"
      ],
      "execution_count": 30,
      "outputs": [
        {
          "output_type": "stream",
          "name": "stderr",
          "text": [
            "/usr/local/lib/python3.7/dist-packages/ipykernel_launcher.py:1: SettingWithCopyWarning: \n",
            "A value is trying to be set on a copy of a slice from a DataFrame.\n",
            "Try using .loc[row_indexer,col_indexer] = value instead\n",
            "\n",
            "See the caveats in the documentation: https://pandas.pydata.org/pandas-docs/stable/user_guide/indexing.html#returning-a-view-versus-a-copy\n",
            "  \"\"\"Entry point for launching an IPython kernel.\n"
          ]
        }
      ]
    },
    {
      "cell_type": "code",
      "metadata": {
        "colab": {
          "base_uri": "https://localhost:8080/"
        },
        "id": "o5PtKaMGdcPS",
        "outputId": "55966031-b688-4893-a65e-8ecc73da2bc4"
      },
      "source": [
        "interess_gas_prices_brazil_df['COEF DE VARIAÇÃO DISTRIBUIÇÃO'] = pd.to_numeric(interess_gas_prices_brazil_df['COEF DE VARIAÇÃO DISTRIBUIÇÃO'], downcast='float')"
      ],
      "execution_count": 34,
      "outputs": [
        {
          "output_type": "stream",
          "name": "stderr",
          "text": [
            "/usr/local/lib/python3.7/dist-packages/ipykernel_launcher.py:1: SettingWithCopyWarning: \n",
            "A value is trying to be set on a copy of a slice from a DataFrame.\n",
            "Try using .loc[row_indexer,col_indexer] = value instead\n",
            "\n",
            "See the caveats in the documentation: https://pandas.pydata.org/pandas-docs/stable/user_guide/indexing.html#returning-a-view-versus-a-copy\n",
            "  \"\"\"Entry point for launching an IPython kernel.\n"
          ]
        }
      ]
    },
    {
      "cell_type": "code",
      "metadata": {
        "colab": {
          "base_uri": "https://localhost:8080/"
        },
        "id": "9XITf5YUfCzl",
        "outputId": "753429ff-1db0-4ce3-fffc-e7adf3ac995d"
      },
      "source": [
        "interess_gas_prices_brazil_df['COEF DE VARIAÇÃO DISTRIBUIÇÃO'].dtype"
      ],
      "execution_count": 32,
      "outputs": [
        {
          "output_type": "execute_result",
          "data": {
            "text/plain": [
              "dtype('O')"
            ]
          },
          "metadata": {},
          "execution_count": 32
        }
      ]
    },
    {
      "cell_type": "code",
      "metadata": {
        "colab": {
          "base_uri": "https://localhost:8080/"
        },
        "id": "D14Gm7tcafsV",
        "outputId": "f70649d7-420c-4990-9c68-cc1751b6b4ad"
      },
      "source": [
        "interess_gas_prices_brazil_df['COEF DE VARIAÇÃO DISTRIBUIÇÃO'].sum()/TAM"
      ],
      "execution_count": 36,
      "outputs": [
        {
          "output_type": "execute_result",
          "data": {
            "text/plain": [
              "0.04515205826753134"
            ]
          },
          "metadata": {},
          "execution_count": 36
        }
      ]
    },
    {
      "cell_type": "markdown",
      "metadata": {
        "id": "eaJLurbbaRGA"
      },
      "source": [
        "PREÇO MÉDIO DISTRIBUIÇÃO"
      ]
    },
    {
      "cell_type": "code",
      "metadata": {
        "colab": {
          "base_uri": "https://localhost:8080/"
        },
        "id": "OpOBJ8IHeByq",
        "outputId": "c745335d-668a-43da-df2b-6ebfbf0a6a4c"
      },
      "source": [
        "interess_gas_prices_brazil_df['PREÇO MÉDIO DISTRIBUIÇÃO'] = interess_gas_prices_brazil_df['PREÇO MÉDIO DISTRIBUIÇÃO'].apply(lambda x : 0 if x == '-' else x)\n"
      ],
      "execution_count": 37,
      "outputs": [
        {
          "output_type": "stream",
          "name": "stderr",
          "text": [
            "/usr/local/lib/python3.7/dist-packages/ipykernel_launcher.py:1: SettingWithCopyWarning: \n",
            "A value is trying to be set on a copy of a slice from a DataFrame.\n",
            "Try using .loc[row_indexer,col_indexer] = value instead\n",
            "\n",
            "See the caveats in the documentation: https://pandas.pydata.org/pandas-docs/stable/user_guide/indexing.html#returning-a-view-versus-a-copy\n",
            "  \"\"\"Entry point for launching an IPython kernel.\n"
          ]
        }
      ]
    },
    {
      "cell_type": "code",
      "metadata": {
        "colab": {
          "base_uri": "https://localhost:8080/"
        },
        "id": "wO3MWrg6eIq4",
        "outputId": "39147080-da8f-43f7-e70f-af02c972dead"
      },
      "source": [
        "interess_gas_prices_brazil_df['PREÇO MÉDIO DISTRIBUIÇÃO'] = pd.to_numeric(interess_gas_prices_brazil_df['PREÇO MÉDIO DISTRIBUIÇÃO'], downcast='float')"
      ],
      "execution_count": 38,
      "outputs": [
        {
          "output_type": "stream",
          "name": "stderr",
          "text": [
            "/usr/local/lib/python3.7/dist-packages/ipykernel_launcher.py:1: SettingWithCopyWarning: \n",
            "A value is trying to be set on a copy of a slice from a DataFrame.\n",
            "Try using .loc[row_indexer,col_indexer] = value instead\n",
            "\n",
            "See the caveats in the documentation: https://pandas.pydata.org/pandas-docs/stable/user_guide/indexing.html#returning-a-view-versus-a-copy\n",
            "  \"\"\"Entry point for launching an IPython kernel.\n"
          ]
        }
      ]
    },
    {
      "cell_type": "code",
      "metadata": {
        "colab": {
          "base_uri": "https://localhost:8080/"
        },
        "id": "vnl_85-Fej3S",
        "outputId": "07719a38-49d4-4c40-c7a4-f431ed8eb0e8"
      },
      "source": [
        "interess_gas_prices_brazil_df['PREÇO MÉDIO DISTRIBUIÇÃO'].dtype"
      ],
      "execution_count": 39,
      "outputs": [
        {
          "output_type": "execute_result",
          "data": {
            "text/plain": [
              "dtype('float32')"
            ]
          },
          "metadata": {},
          "execution_count": 39
        }
      ]
    },
    {
      "cell_type": "code",
      "metadata": {
        "colab": {
          "base_uri": "https://localhost:8080/"
        },
        "id": "qsyjkBjkb7XE",
        "outputId": "549dc58e-45a4-4b2d-db80-9eba746e0916"
      },
      "source": [
        "interess_gas_prices_brazil_df['PREÇO MÉDIO DISTRIBUIÇÃO'].sum()/TAM"
      ],
      "execution_count": 40,
      "outputs": [
        {
          "output_type": "execute_result",
          "data": {
            "text/plain": [
              "8.285580469561799"
            ]
          },
          "metadata": {},
          "execution_count": 40
        }
      ]
    },
    {
      "cell_type": "code",
      "metadata": {
        "colab": {
          "base_uri": "https://localhost:8080/"
        },
        "id": "S7cGmeNRfM0y",
        "outputId": "c025548e-eba3-4101-f2ce-452324270687"
      },
      "source": [
        "interess_gas_prices_brazil_df['PREÇO MÉDIO DISTRIBUIÇÃO'].mean()"
      ],
      "execution_count": 41,
      "outputs": [
        {
          "output_type": "execute_result",
          "data": {
            "text/plain": [
              "8.285548210144043"
            ]
          },
          "metadata": {},
          "execution_count": 41
        }
      ]
    },
    {
      "cell_type": "markdown",
      "metadata": {
        "id": "gXpVefSofumS"
      },
      "source": [
        "## Select Mean by Region"
      ]
    },
    {
      "cell_type": "code",
      "metadata": {
        "id": "BNZWpfh0hESd"
      },
      "source": [
        "\n",
        "coef_med_columns = ['NÚMERO DE POSTOS PESQUISADOS', 'COEF DE VARIAÇÃO DISTRIBUIÇÃO','PREÇO MÉDIO DISTRIBUIÇÃO','COEF DE VARIAÇÃO REVENDA', 'PREÇO MÉDIO REVENDA']"
      ],
      "execution_count": 42,
      "outputs": []
    },
    {
      "cell_type": "markdown",
      "metadata": {
        "id": "hIs9hLVegrDj"
      },
      "source": [
        "### Nordeste"
      ]
    },
    {
      "cell_type": "code",
      "metadata": {
        "colab": {
          "base_uri": "https://localhost:8080/",
          "height": 0
        },
        "id": "YxIt72Iif0cR",
        "outputId": "d07c264e-07d1-4a23-b6d0-1f19b8d6cf32"
      },
      "source": [
        "temp = interess_gas_prices_brazil_df[(interess_gas_prices_brazil_df['REGIÃO'] == 'NORDESTE') & (interess_gas_prices_brazil_df['ANO'] == 2019)][coef_med_columns].mean().transpose().to_frame()\n",
        "temp.columns = [\"Media\"]\n",
        "temp"
      ],
      "execution_count": 43,
      "outputs": [
        {
          "output_type": "execute_result",
          "data": {
            "text/html": [
              "<div>\n",
              "<style scoped>\n",
              "    .dataframe tbody tr th:only-of-type {\n",
              "        vertical-align: middle;\n",
              "    }\n",
              "\n",
              "    .dataframe tbody tr th {\n",
              "        vertical-align: top;\n",
              "    }\n",
              "\n",
              "    .dataframe thead th {\n",
              "        text-align: right;\n",
              "    }\n",
              "</style>\n",
              "<table border=\"1\" class=\"dataframe\">\n",
              "  <thead>\n",
              "    <tr style=\"text-align: right;\">\n",
              "      <th></th>\n",
              "      <th>Media</th>\n",
              "    </tr>\n",
              "  </thead>\n",
              "  <tbody>\n",
              "    <tr>\n",
              "      <th>NÚMERO DE POSTOS PESQUISADOS</th>\n",
              "      <td>86.675115</td>\n",
              "    </tr>\n",
              "    <tr>\n",
              "      <th>COEF DE VARIAÇÃO DISTRIBUIÇÃO</th>\n",
              "      <td>0.034823</td>\n",
              "    </tr>\n",
              "    <tr>\n",
              "      <th>PREÇO MÉDIO DISTRIBUIÇÃO</th>\n",
              "      <td>11.689772</td>\n",
              "    </tr>\n",
              "    <tr>\n",
              "      <th>COEF DE VARIAÇÃO REVENDA</th>\n",
              "      <td>0.040197</td>\n",
              "    </tr>\n",
              "    <tr>\n",
              "      <th>PREÇO MÉDIO REVENDA</th>\n",
              "      <td>14.858909</td>\n",
              "    </tr>\n",
              "  </tbody>\n",
              "</table>\n",
              "</div>"
            ],
            "text/plain": [
              "                                   Media\n",
              "NÚMERO DE POSTOS PESQUISADOS   86.675115\n",
              "COEF DE VARIAÇÃO DISTRIBUIÇÃO   0.034823\n",
              "PREÇO MÉDIO DISTRIBUIÇÃO       11.689772\n",
              "COEF DE VARIAÇÃO REVENDA        0.040197\n",
              "PREÇO MÉDIO REVENDA            14.858909"
            ]
          },
          "metadata": {},
          "execution_count": 43
        }
      ]
    },
    {
      "cell_type": "markdown",
      "metadata": {
        "id": "msYqvpoklL6Q"
      },
      "source": [
        "### Norte"
      ]
    },
    {
      "cell_type": "code",
      "metadata": {
        "colab": {
          "base_uri": "https://localhost:8080/",
          "height": 0
        },
        "id": "a0vROYuxlL6c",
        "outputId": "55cae4e2-d9f4-4ce0-9ef5-92a02db3a5d1"
      },
      "source": [
        "temp = interess_gas_prices_brazil_df[(interess_gas_prices_brazil_df['REGIÃO'] == 'NORTE') & (interess_gas_prices_brazil_df['ANO'] == 2019)][coef_med_columns].mean().transpose().to_frame()\n",
        "temp.columns = [\"Media\"]\n",
        "temp"
      ],
      "execution_count": 44,
      "outputs": [
        {
          "output_type": "execute_result",
          "data": {
            "text/html": [
              "<div>\n",
              "<style scoped>\n",
              "    .dataframe tbody tr th:only-of-type {\n",
              "        vertical-align: middle;\n",
              "    }\n",
              "\n",
              "    .dataframe tbody tr th {\n",
              "        vertical-align: top;\n",
              "    }\n",
              "\n",
              "    .dataframe thead th {\n",
              "        text-align: right;\n",
              "    }\n",
              "</style>\n",
              "<table border=\"1\" class=\"dataframe\">\n",
              "  <thead>\n",
              "    <tr style=\"text-align: right;\">\n",
              "      <th></th>\n",
              "      <th>Media</th>\n",
              "    </tr>\n",
              "  </thead>\n",
              "  <tbody>\n",
              "    <tr>\n",
              "      <th>NÚMERO DE POSTOS PESQUISADOS</th>\n",
              "      <td>45.138603</td>\n",
              "    </tr>\n",
              "    <tr>\n",
              "      <th>COEF DE VARIAÇÃO DISTRIBUIÇÃO</th>\n",
              "      <td>0.036363</td>\n",
              "    </tr>\n",
              "    <tr>\n",
              "      <th>PREÇO MÉDIO DISTRIBUIÇÃO</th>\n",
              "      <td>15.483941</td>\n",
              "    </tr>\n",
              "    <tr>\n",
              "      <th>COEF DE VARIAÇÃO REVENDA</th>\n",
              "      <td>0.049937</td>\n",
              "    </tr>\n",
              "    <tr>\n",
              "      <th>PREÇO MÉDIO REVENDA</th>\n",
              "      <td>18.927386</td>\n",
              "    </tr>\n",
              "  </tbody>\n",
              "</table>\n",
              "</div>"
            ],
            "text/plain": [
              "                                   Media\n",
              "NÚMERO DE POSTOS PESQUISADOS   45.138603\n",
              "COEF DE VARIAÇÃO DISTRIBUIÇÃO   0.036363\n",
              "PREÇO MÉDIO DISTRIBUIÇÃO       15.483941\n",
              "COEF DE VARIAÇÃO REVENDA        0.049937\n",
              "PREÇO MÉDIO REVENDA            18.927386"
            ]
          },
          "metadata": {},
          "execution_count": 44
        }
      ]
    },
    {
      "cell_type": "markdown",
      "metadata": {
        "id": "7Aiv13Rklcxe"
      },
      "source": [
        "### Centro-Oeste Region"
      ]
    },
    {
      "cell_type": "code",
      "metadata": {
        "colab": {
          "base_uri": "https://localhost:8080/",
          "height": 0
        },
        "id": "uvkoXhhrlcxg",
        "outputId": "ee24eac5-da3e-4bbb-84f3-059e301b31aa"
      },
      "source": [
        "temp = interess_gas_prices_brazil_df[(interess_gas_prices_brazil_df['REGIÃO'] == 'CENTRO OESTE') & (interess_gas_prices_brazil_df['ANO'] == 2019)][coef_med_columns].mean().transpose().to_frame()\n",
        "temp.columns = [\"Media\"]\n",
        "temp"
      ],
      "execution_count": 45,
      "outputs": [
        {
          "output_type": "execute_result",
          "data": {
            "text/html": [
              "<div>\n",
              "<style scoped>\n",
              "    .dataframe tbody tr th:only-of-type {\n",
              "        vertical-align: middle;\n",
              "    }\n",
              "\n",
              "    .dataframe tbody tr th {\n",
              "        vertical-align: top;\n",
              "    }\n",
              "\n",
              "    .dataframe thead th {\n",
              "        text-align: right;\n",
              "    }\n",
              "</style>\n",
              "<table border=\"1\" class=\"dataframe\">\n",
              "  <thead>\n",
              "    <tr style=\"text-align: right;\">\n",
              "      <th></th>\n",
              "      <th>Media</th>\n",
              "    </tr>\n",
              "  </thead>\n",
              "  <tbody>\n",
              "    <tr>\n",
              "      <th>NÚMERO DE POSTOS PESQUISADOS</th>\n",
              "      <td>105.888679</td>\n",
              "    </tr>\n",
              "    <tr>\n",
              "      <th>COEF DE VARIAÇÃO DISTRIBUIÇÃO</th>\n",
              "      <td>0.045958</td>\n",
              "    </tr>\n",
              "    <tr>\n",
              "      <th>PREÇO MÉDIO DISTRIBUIÇÃO</th>\n",
              "      <td>13.791260</td>\n",
              "    </tr>\n",
              "    <tr>\n",
              "      <th>COEF DE VARIAÇÃO REVENDA</th>\n",
              "      <td>0.048194</td>\n",
              "    </tr>\n",
              "    <tr>\n",
              "      <th>PREÇO MÉDIO REVENDA</th>\n",
              "      <td>17.811030</td>\n",
              "    </tr>\n",
              "  </tbody>\n",
              "</table>\n",
              "</div>"
            ],
            "text/plain": [
              "                                    Media\n",
              "NÚMERO DE POSTOS PESQUISADOS   105.888679\n",
              "COEF DE VARIAÇÃO DISTRIBUIÇÃO    0.045958\n",
              "PREÇO MÉDIO DISTRIBUIÇÃO        13.791260\n",
              "COEF DE VARIAÇÃO REVENDA         0.048194\n",
              "PREÇO MÉDIO REVENDA             17.811030"
            ]
          },
          "metadata": {},
          "execution_count": 45
        }
      ]
    },
    {
      "cell_type": "markdown",
      "metadata": {
        "id": "qzENBV9Fl8jg"
      },
      "source": [
        "### Sudeste Region"
      ]
    },
    {
      "cell_type": "code",
      "metadata": {
        "colab": {
          "base_uri": "https://localhost:8080/",
          "height": 0
        },
        "id": "dfJ4WnkXl8jg",
        "outputId": "4dc8ba91-8ad9-42dd-8d65-0441814ce7b0"
      },
      "source": [
        "temp = interess_gas_prices_brazil_df[(interess_gas_prices_brazil_df['REGIÃO'] == 'SUDESTE') & (interess_gas_prices_brazil_df['ANO'] == 2019)][coef_med_columns].mean().transpose().to_frame()\n",
        "temp.columns = [\"Media\"]\n",
        "temp"
      ],
      "execution_count": 46,
      "outputs": [
        {
          "output_type": "execute_result",
          "data": {
            "text/html": [
              "<div>\n",
              "<style scoped>\n",
              "    .dataframe tbody tr th:only-of-type {\n",
              "        vertical-align: middle;\n",
              "    }\n",
              "\n",
              "    .dataframe tbody tr th {\n",
              "        vertical-align: top;\n",
              "    }\n",
              "\n",
              "    .dataframe thead th {\n",
              "        text-align: right;\n",
              "    }\n",
              "</style>\n",
              "<table border=\"1\" class=\"dataframe\">\n",
              "  <thead>\n",
              "    <tr style=\"text-align: right;\">\n",
              "      <th></th>\n",
              "      <th>Media</th>\n",
              "    </tr>\n",
              "  </thead>\n",
              "  <tbody>\n",
              "    <tr>\n",
              "      <th>NÚMERO DE POSTOS PESQUISADOS</th>\n",
              "      <td>464.586667</td>\n",
              "    </tr>\n",
              "    <tr>\n",
              "      <th>COEF DE VARIAÇÃO DISTRIBUIÇÃO</th>\n",
              "      <td>0.042948</td>\n",
              "    </tr>\n",
              "    <tr>\n",
              "      <th>PREÇO MÉDIO DISTRIBUIÇÃO</th>\n",
              "      <td>10.787279</td>\n",
              "    </tr>\n",
              "    <tr>\n",
              "      <th>COEF DE VARIAÇÃO REVENDA</th>\n",
              "      <td>0.054463</td>\n",
              "    </tr>\n",
              "    <tr>\n",
              "      <th>PREÇO MÉDIO REVENDA</th>\n",
              "      <td>14.125663</td>\n",
              "    </tr>\n",
              "  </tbody>\n",
              "</table>\n",
              "</div>"
            ],
            "text/plain": [
              "                                    Media\n",
              "NÚMERO DE POSTOS PESQUISADOS   464.586667\n",
              "COEF DE VARIAÇÃO DISTRIBUIÇÃO    0.042948\n",
              "PREÇO MÉDIO DISTRIBUIÇÃO        10.787279\n",
              "COEF DE VARIAÇÃO REVENDA         0.054463\n",
              "PREÇO MÉDIO REVENDA             14.125663"
            ]
          },
          "metadata": {},
          "execution_count": 46
        }
      ]
    },
    {
      "cell_type": "markdown",
      "metadata": {
        "id": "bBn1iVOQmC1O"
      },
      "source": [
        "### Sul Region"
      ]
    },
    {
      "cell_type": "code",
      "metadata": {
        "colab": {
          "base_uri": "https://localhost:8080/",
          "height": 203
        },
        "id": "nypVHnwMmC1P",
        "outputId": "fef3e432-6d57-4686-a3ec-6f7d55defe59"
      },
      "source": [
        "temp = interess_gas_prices_brazil_df[(interess_gas_prices_brazil_df['REGIÃO'] == 'SUL') & (interess_gas_prices_brazil_df['ANO'] == 2019)][coef_med_columns].mean().transpose().to_frame()\n",
        "temp.columns = [\"Media\"]\n",
        "temp"
      ],
      "execution_count": 47,
      "outputs": [
        {
          "output_type": "execute_result",
          "data": {
            "text/html": [
              "<div>\n",
              "<style scoped>\n",
              "    .dataframe tbody tr th:only-of-type {\n",
              "        vertical-align: middle;\n",
              "    }\n",
              "\n",
              "    .dataframe tbody tr th {\n",
              "        vertical-align: top;\n",
              "    }\n",
              "\n",
              "    .dataframe thead th {\n",
              "        text-align: right;\n",
              "    }\n",
              "</style>\n",
              "<table border=\"1\" class=\"dataframe\">\n",
              "  <thead>\n",
              "    <tr style=\"text-align: right;\">\n",
              "      <th></th>\n",
              "      <th>Media</th>\n",
              "    </tr>\n",
              "  </thead>\n",
              "  <tbody>\n",
              "    <tr>\n",
              "      <th>NÚMERO DE POSTOS PESQUISADOS</th>\n",
              "      <td>221.485523</td>\n",
              "    </tr>\n",
              "    <tr>\n",
              "      <th>COEF DE VARIAÇÃO DISTRIBUIÇÃO</th>\n",
              "      <td>0.048385</td>\n",
              "    </tr>\n",
              "    <tr>\n",
              "      <th>PREÇO MÉDIO DISTRIBUIÇÃO</th>\n",
              "      <td>11.039557</td>\n",
              "    </tr>\n",
              "    <tr>\n",
              "      <th>COEF DE VARIAÇÃO REVENDA</th>\n",
              "      <td>0.049693</td>\n",
              "    </tr>\n",
              "    <tr>\n",
              "      <th>PREÇO MÉDIO REVENDA</th>\n",
              "      <td>14.632864</td>\n",
              "    </tr>\n",
              "  </tbody>\n",
              "</table>\n",
              "</div>"
            ],
            "text/plain": [
              "                                    Media\n",
              "NÚMERO DE POSTOS PESQUISADOS   221.485523\n",
              "COEF DE VARIAÇÃO DISTRIBUIÇÃO    0.048385\n",
              "PREÇO MÉDIO DISTRIBUIÇÃO        11.039557\n",
              "COEF DE VARIAÇÃO REVENDA         0.049693\n",
              "PREÇO MÉDIO REVENDA             14.632864"
            ]
          },
          "metadata": {},
          "execution_count": 47
        }
      ]
    },
    {
      "cell_type": "markdown",
      "metadata": {
        "id": "CIQ6k27sFZPG"
      },
      "source": [
        "### Export Format Dataset"
      ]
    },
    {
      "cell_type": "code",
      "metadata": {
        "id": "7g0HnW3wHA6Z"
      },
      "source": [
        " export_columns_gas_prices_brazil_df  = ['REGIÃO', 'ESTADO', 'PRODUTO','NÚMERO DE POSTOS PESQUISADOS','PREÇO MÉDIO REVENDA', 'COEF DE VARIAÇÃO REVENDA','PREÇO MÉDIO DISTRIBUIÇÃO','COEF DE VARIAÇÃO DISTRIBUIÇÃO',  'DATA INICIAL', 'DATA FINAL','MÊS', 'ANO', 'DESVIO PADRÃO REVENDA', 'PREÇO MÍNIMO REVENDA', 'PREÇO MÁXIMO REVENDA', 'MARGEM MÉDIA REVENDA' , 'DESVIO PADRÃO DISTRIBUIÇÃO', 'PREÇO MÍNIMO DISTRIBUIÇÃO', 'PREÇO MÁXIMO DISTRIBUIÇÃO', 'UNIDADE DE MEDIDA']"
      ],
      "execution_count": 49,
      "outputs": []
    },
    {
      "cell_type": "code",
      "metadata": {
        "id": "YZD4UWOKJuXd"
      },
      "source": [
        "export_gas_prices_brazil_df = gas_prices_brazil_df[export_columns_gas_prices_brazil_df]"
      ],
      "execution_count": 50,
      "outputs": []
    },
    {
      "cell_type": "code",
      "metadata": {
        "colab": {
          "base_uri": "https://localhost:8080/",
          "height": 358
        },
        "id": "9v50ArbSJ4pB",
        "outputId": "53f8da0e-b462-4ebf-a7b7-e16f2250f7c5"
      },
      "source": [
        "export_gas_prices_brazil_df.head()"
      ],
      "execution_count": 51,
      "outputs": [
        {
          "output_type": "execute_result",
          "data": {
            "text/html": [
              "<div>\n",
              "<style scoped>\n",
              "    .dataframe tbody tr th:only-of-type {\n",
              "        vertical-align: middle;\n",
              "    }\n",
              "\n",
              "    .dataframe tbody tr th {\n",
              "        vertical-align: top;\n",
              "    }\n",
              "\n",
              "    .dataframe thead th {\n",
              "        text-align: right;\n",
              "    }\n",
              "</style>\n",
              "<table border=\"1\" class=\"dataframe\">\n",
              "  <thead>\n",
              "    <tr style=\"text-align: right;\">\n",
              "      <th></th>\n",
              "      <th>REGIÃO</th>\n",
              "      <th>ESTADO</th>\n",
              "      <th>PRODUTO</th>\n",
              "      <th>NÚMERO DE POSTOS PESQUISADOS</th>\n",
              "      <th>PREÇO MÉDIO REVENDA</th>\n",
              "      <th>COEF DE VARIAÇÃO REVENDA</th>\n",
              "      <th>PREÇO MÉDIO DISTRIBUIÇÃO</th>\n",
              "      <th>COEF DE VARIAÇÃO DISTRIBUIÇÃO</th>\n",
              "      <th>DATA INICIAL</th>\n",
              "      <th>DATA FINAL</th>\n",
              "      <th>MÊS</th>\n",
              "      <th>ANO</th>\n",
              "      <th>DESVIO PADRÃO REVENDA</th>\n",
              "      <th>PREÇO MÍNIMO REVENDA</th>\n",
              "      <th>PREÇO MÁXIMO REVENDA</th>\n",
              "      <th>MARGEM MÉDIA REVENDA</th>\n",
              "      <th>DESVIO PADRÃO DISTRIBUIÇÃO</th>\n",
              "      <th>PREÇO MÍNIMO DISTRIBUIÇÃO</th>\n",
              "      <th>PREÇO MÁXIMO DISTRIBUIÇÃO</th>\n",
              "      <th>UNIDADE DE MEDIDA</th>\n",
              "    </tr>\n",
              "  </thead>\n",
              "  <tbody>\n",
              "    <tr>\n",
              "      <th>0</th>\n",
              "      <td>CENTRO OESTE</td>\n",
              "      <td>DISTRITO FEDERAL</td>\n",
              "      <td>ETANOL HIDRATADO</td>\n",
              "      <td>127</td>\n",
              "      <td>1.288</td>\n",
              "      <td>0.012</td>\n",
              "      <td>0.825</td>\n",
              "      <td>0.133</td>\n",
              "      <td>2004-05-09</td>\n",
              "      <td>2004-05-15</td>\n",
              "      <td>5</td>\n",
              "      <td>2004</td>\n",
              "      <td>0.016</td>\n",
              "      <td>1.19</td>\n",
              "      <td>1.350</td>\n",
              "      <td>0.463</td>\n",
              "      <td>0.11</td>\n",
              "      <td>0.4201</td>\n",
              "      <td>0.9666</td>\n",
              "      <td>R$/l</td>\n",
              "    </tr>\n",
              "    <tr>\n",
              "      <th>1</th>\n",
              "      <td>CENTRO OESTE</td>\n",
              "      <td>GOIAS</td>\n",
              "      <td>ETANOL HIDRATADO</td>\n",
              "      <td>387</td>\n",
              "      <td>1.162</td>\n",
              "      <td>0.098</td>\n",
              "      <td>0.763</td>\n",
              "      <td>0.115</td>\n",
              "      <td>2004-05-09</td>\n",
              "      <td>2004-05-15</td>\n",
              "      <td>5</td>\n",
              "      <td>2004</td>\n",
              "      <td>0.114</td>\n",
              "      <td>0.89</td>\n",
              "      <td>1.449</td>\n",
              "      <td>0.399</td>\n",
              "      <td>0.088</td>\n",
              "      <td>0.5013</td>\n",
              "      <td>1.05</td>\n",
              "      <td>R$/l</td>\n",
              "    </tr>\n",
              "    <tr>\n",
              "      <th>2</th>\n",
              "      <td>CENTRO OESTE</td>\n",
              "      <td>MATO GROSSO</td>\n",
              "      <td>ETANOL HIDRATADO</td>\n",
              "      <td>192</td>\n",
              "      <td>1.389</td>\n",
              "      <td>0.070</td>\n",
              "      <td>0.97</td>\n",
              "      <td>0.098</td>\n",
              "      <td>2004-05-09</td>\n",
              "      <td>2004-05-15</td>\n",
              "      <td>5</td>\n",
              "      <td>2004</td>\n",
              "      <td>0.097</td>\n",
              "      <td>1.18</td>\n",
              "      <td>1.760</td>\n",
              "      <td>0.419</td>\n",
              "      <td>0.095</td>\n",
              "      <td>0.5614</td>\n",
              "      <td>1.161</td>\n",
              "      <td>R$/l</td>\n",
              "    </tr>\n",
              "    <tr>\n",
              "      <th>3</th>\n",
              "      <td>CENTRO OESTE</td>\n",
              "      <td>MATO GROSSO DO SUL</td>\n",
              "      <td>ETANOL HIDRATADO</td>\n",
              "      <td>162</td>\n",
              "      <td>1.262</td>\n",
              "      <td>0.055</td>\n",
              "      <td>0.83</td>\n",
              "      <td>0.143</td>\n",
              "      <td>2004-05-09</td>\n",
              "      <td>2004-05-15</td>\n",
              "      <td>5</td>\n",
              "      <td>2004</td>\n",
              "      <td>0.070</td>\n",
              "      <td>1.09</td>\n",
              "      <td>1.509</td>\n",
              "      <td>0.432</td>\n",
              "      <td>0.119</td>\n",
              "      <td>0.5991</td>\n",
              "      <td>1.22242</td>\n",
              "      <td>R$/l</td>\n",
              "    </tr>\n",
              "    <tr>\n",
              "      <th>4</th>\n",
              "      <td>NORDESTE</td>\n",
              "      <td>ALAGOAS</td>\n",
              "      <td>ETANOL HIDRATADO</td>\n",
              "      <td>103</td>\n",
              "      <td>1.181</td>\n",
              "      <td>0.066</td>\n",
              "      <td>0.941</td>\n",
              "      <td>0.082</td>\n",
              "      <td>2004-05-09</td>\n",
              "      <td>2004-05-15</td>\n",
              "      <td>5</td>\n",
              "      <td>2004</td>\n",
              "      <td>0.078</td>\n",
              "      <td>1.05</td>\n",
              "      <td>1.400</td>\n",
              "      <td>0.24</td>\n",
              "      <td>0.077</td>\n",
              "      <td>0.7441</td>\n",
              "      <td>1.0317</td>\n",
              "      <td>R$/l</td>\n",
              "    </tr>\n",
              "  </tbody>\n",
              "</table>\n",
              "</div>"
            ],
            "text/plain": [
              "         REGIÃO              ESTADO  ... PREÇO MÁXIMO DISTRIBUIÇÃO  UNIDADE DE MEDIDA\n",
              "0  CENTRO OESTE    DISTRITO FEDERAL  ...                    0.9666               R$/l\n",
              "1  CENTRO OESTE               GOIAS  ...                      1.05               R$/l\n",
              "2  CENTRO OESTE         MATO GROSSO  ...                     1.161               R$/l\n",
              "3  CENTRO OESTE  MATO GROSSO DO SUL  ...                   1.22242               R$/l\n",
              "4      NORDESTE             ALAGOAS  ...                    1.0317               R$/l\n",
              "\n",
              "[5 rows x 20 columns]"
            ]
          },
          "metadata": {},
          "execution_count": 51
        }
      ]
    },
    {
      "cell_type": "code",
      "metadata": {
        "colab": {
          "base_uri": "https://localhost:8080/"
        },
        "id": "UVrfqBPiKFJq",
        "outputId": "3361b929-c39a-4cd7-fd58-f76bec41f98a"
      },
      "source": [
        "export_gas_prices_brazil_df.rename(str.lower, axis='columns').columns"
      ],
      "execution_count": 52,
      "outputs": [
        {
          "output_type": "execute_result",
          "data": {
            "text/plain": [
              "Index(['região', 'estado', 'produto', 'número de postos pesquisados',\n",
              "       'preço médio revenda', 'coef de variação revenda',\n",
              "       'preço médio distribuição', 'coef de variação distribuição',\n",
              "       'data inicial', 'data final', 'mês', 'ano', 'desvio padrão revenda',\n",
              "       'preço mínimo revenda', 'preço máximo revenda', 'margem média revenda',\n",
              "       'desvio padrão distribuição', 'preço mínimo distribuição',\n",
              "       'preço máximo distribuição', 'unidade de medida'],\n",
              "      dtype='object')"
            ]
          },
          "metadata": {},
          "execution_count": 52
        }
      ]
    },
    {
      "cell_type": "code",
      "metadata": {
        "id": "McBMczXbLWua"
      },
      "source": [
        "morm_columns = ['regiao', 'estado', 'produto', 'numero_posto_pesquisado',\n",
        "       'preco_medio_revenda', 'coef_variacao_revenda',\n",
        "       'preco_medio_distribuicao', 'coef_variacao_distribuicao',\n",
        "       'data_inicial', 'data_final', 'mes', 'ano', 'desvio_padrao_revenda',\n",
        "       'preco_minimo_revenda', 'preço_maximo_revenda', 'margem_media_revenda',\n",
        "       'desvio_padrao_distribuicao', 'preco_minimo_distribuicao',\n",
        "       'preço_maximo_distribuicao', 'unidade_de_medida']"
      ],
      "execution_count": 53,
      "outputs": []
    },
    {
      "cell_type": "code",
      "metadata": {
        "colab": {
          "base_uri": "https://localhost:8080/",
          "height": 324
        },
        "id": "vVodwjM5MM2a",
        "outputId": "3d6339f5-0e00-4e08-9c87-10e0a807132f"
      },
      "source": [
        "export_gas_prices_brazil_df.columns = morm_columns\n",
        "export_gas_prices_brazil_df.head()"
      ],
      "execution_count": 54,
      "outputs": [
        {
          "output_type": "execute_result",
          "data": {
            "text/html": [
              "<div>\n",
              "<style scoped>\n",
              "    .dataframe tbody tr th:only-of-type {\n",
              "        vertical-align: middle;\n",
              "    }\n",
              "\n",
              "    .dataframe tbody tr th {\n",
              "        vertical-align: top;\n",
              "    }\n",
              "\n",
              "    .dataframe thead th {\n",
              "        text-align: right;\n",
              "    }\n",
              "</style>\n",
              "<table border=\"1\" class=\"dataframe\">\n",
              "  <thead>\n",
              "    <tr style=\"text-align: right;\">\n",
              "      <th></th>\n",
              "      <th>regiao</th>\n",
              "      <th>estado</th>\n",
              "      <th>produto</th>\n",
              "      <th>numero_posto_pesquisado</th>\n",
              "      <th>preco_medio_revenda</th>\n",
              "      <th>coef_variacao_revenda</th>\n",
              "      <th>preco_medio_distribuicao</th>\n",
              "      <th>coef_variacao_distribuicao</th>\n",
              "      <th>data_inicial</th>\n",
              "      <th>data_final</th>\n",
              "      <th>mes</th>\n",
              "      <th>ano</th>\n",
              "      <th>desvio_padrao_revenda</th>\n",
              "      <th>preco_minimo_revenda</th>\n",
              "      <th>preço_maximo_revenda</th>\n",
              "      <th>margem_media_revenda</th>\n",
              "      <th>desvio_padrao_distribuicao</th>\n",
              "      <th>preco_minimo_distribuicao</th>\n",
              "      <th>preço_maximo_distribuicao</th>\n",
              "      <th>unidade_de_medida</th>\n",
              "    </tr>\n",
              "  </thead>\n",
              "  <tbody>\n",
              "    <tr>\n",
              "      <th>0</th>\n",
              "      <td>CENTRO OESTE</td>\n",
              "      <td>DISTRITO FEDERAL</td>\n",
              "      <td>ETANOL HIDRATADO</td>\n",
              "      <td>127</td>\n",
              "      <td>1.288</td>\n",
              "      <td>0.012</td>\n",
              "      <td>0.825</td>\n",
              "      <td>0.133</td>\n",
              "      <td>2004-05-09</td>\n",
              "      <td>2004-05-15</td>\n",
              "      <td>5</td>\n",
              "      <td>2004</td>\n",
              "      <td>0.016</td>\n",
              "      <td>1.19</td>\n",
              "      <td>1.350</td>\n",
              "      <td>0.463</td>\n",
              "      <td>0.11</td>\n",
              "      <td>0.4201</td>\n",
              "      <td>0.9666</td>\n",
              "      <td>R$/l</td>\n",
              "    </tr>\n",
              "    <tr>\n",
              "      <th>1</th>\n",
              "      <td>CENTRO OESTE</td>\n",
              "      <td>GOIAS</td>\n",
              "      <td>ETANOL HIDRATADO</td>\n",
              "      <td>387</td>\n",
              "      <td>1.162</td>\n",
              "      <td>0.098</td>\n",
              "      <td>0.763</td>\n",
              "      <td>0.115</td>\n",
              "      <td>2004-05-09</td>\n",
              "      <td>2004-05-15</td>\n",
              "      <td>5</td>\n",
              "      <td>2004</td>\n",
              "      <td>0.114</td>\n",
              "      <td>0.89</td>\n",
              "      <td>1.449</td>\n",
              "      <td>0.399</td>\n",
              "      <td>0.088</td>\n",
              "      <td>0.5013</td>\n",
              "      <td>1.05</td>\n",
              "      <td>R$/l</td>\n",
              "    </tr>\n",
              "    <tr>\n",
              "      <th>2</th>\n",
              "      <td>CENTRO OESTE</td>\n",
              "      <td>MATO GROSSO</td>\n",
              "      <td>ETANOL HIDRATADO</td>\n",
              "      <td>192</td>\n",
              "      <td>1.389</td>\n",
              "      <td>0.070</td>\n",
              "      <td>0.97</td>\n",
              "      <td>0.098</td>\n",
              "      <td>2004-05-09</td>\n",
              "      <td>2004-05-15</td>\n",
              "      <td>5</td>\n",
              "      <td>2004</td>\n",
              "      <td>0.097</td>\n",
              "      <td>1.18</td>\n",
              "      <td>1.760</td>\n",
              "      <td>0.419</td>\n",
              "      <td>0.095</td>\n",
              "      <td>0.5614</td>\n",
              "      <td>1.161</td>\n",
              "      <td>R$/l</td>\n",
              "    </tr>\n",
              "    <tr>\n",
              "      <th>3</th>\n",
              "      <td>CENTRO OESTE</td>\n",
              "      <td>MATO GROSSO DO SUL</td>\n",
              "      <td>ETANOL HIDRATADO</td>\n",
              "      <td>162</td>\n",
              "      <td>1.262</td>\n",
              "      <td>0.055</td>\n",
              "      <td>0.83</td>\n",
              "      <td>0.143</td>\n",
              "      <td>2004-05-09</td>\n",
              "      <td>2004-05-15</td>\n",
              "      <td>5</td>\n",
              "      <td>2004</td>\n",
              "      <td>0.070</td>\n",
              "      <td>1.09</td>\n",
              "      <td>1.509</td>\n",
              "      <td>0.432</td>\n",
              "      <td>0.119</td>\n",
              "      <td>0.5991</td>\n",
              "      <td>1.22242</td>\n",
              "      <td>R$/l</td>\n",
              "    </tr>\n",
              "    <tr>\n",
              "      <th>4</th>\n",
              "      <td>NORDESTE</td>\n",
              "      <td>ALAGOAS</td>\n",
              "      <td>ETANOL HIDRATADO</td>\n",
              "      <td>103</td>\n",
              "      <td>1.181</td>\n",
              "      <td>0.066</td>\n",
              "      <td>0.941</td>\n",
              "      <td>0.082</td>\n",
              "      <td>2004-05-09</td>\n",
              "      <td>2004-05-15</td>\n",
              "      <td>5</td>\n",
              "      <td>2004</td>\n",
              "      <td>0.078</td>\n",
              "      <td>1.05</td>\n",
              "      <td>1.400</td>\n",
              "      <td>0.24</td>\n",
              "      <td>0.077</td>\n",
              "      <td>0.7441</td>\n",
              "      <td>1.0317</td>\n",
              "      <td>R$/l</td>\n",
              "    </tr>\n",
              "  </tbody>\n",
              "</table>\n",
              "</div>"
            ],
            "text/plain": [
              "         regiao              estado  ... preço_maximo_distribuicao  unidade_de_medida\n",
              "0  CENTRO OESTE    DISTRITO FEDERAL  ...                    0.9666               R$/l\n",
              "1  CENTRO OESTE               GOIAS  ...                      1.05               R$/l\n",
              "2  CENTRO OESTE         MATO GROSSO  ...                     1.161               R$/l\n",
              "3  CENTRO OESTE  MATO GROSSO DO SUL  ...                   1.22242               R$/l\n",
              "4      NORDESTE             ALAGOAS  ...                    1.0317               R$/l\n",
              "\n",
              "[5 rows x 20 columns]"
            ]
          },
          "metadata": {},
          "execution_count": 54
        }
      ]
    },
    {
      "cell_type": "code",
      "metadata": {
        "id": "6eOq8M_wGPIR"
      },
      "source": [
        "export_gas_prices_brazil_df.to_csv('formated_gas_prices_brazil.csv')"
      ],
      "execution_count": 55,
      "outputs": []
    }
  ]
}