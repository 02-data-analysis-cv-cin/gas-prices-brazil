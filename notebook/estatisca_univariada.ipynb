{
  "nbformat": 4,
  "nbformat_minor": 0,
  "metadata": {
    "colab": {
      "name": "estatisca_univariada.ipynb",
      "provenance": [],
      "toc_visible": true
    },
    "kernelspec": {
      "name": "python3",
      "display_name": "Python 3"
    },
    "language_info": {
      "name": "python"
    }
  },
  "cells": [
    {
      "cell_type": "markdown",
      "metadata": {
        "id": "K4KLGlSAMFL3"
      },
      "source": [
        "\n",
        "## Import dependencies\n"
      ]
    },
    {
      "cell_type": "code",
      "metadata": {
        "id": "uJ0xK2EYYnqb"
      },
      "source": [
        "#https://github.com/ProfLuciano/intro_cd/blob/gh-pages/notebooks/pre_processamento1.ipynb\n",
        "#https://github.com/ProfLuciano/intro_cd/"
      ],
      "execution_count": null,
      "outputs": []
    },
    {
      "cell_type": "code",
      "metadata": {
        "id": "x5P6251oLpr0"
      },
      "source": [
        "import pandas as pd\n",
        "import numpy as np"
      ],
      "execution_count": 5,
      "outputs": []
    },
    {
      "cell_type": "markdown",
      "metadata": {
        "id": "oTorvr7MMLLN"
      },
      "source": [
        "### Read the Dataset"
      ]
    },
    {
      "cell_type": "code",
      "metadata": {
        "id": "9ylDhfVmLyQ3"
      },
      "source": [
        "gas_prices_brazil_df = pd.read_csv('https://drive.google.com/uc?id=1CgI-6f3l6i0vX_35tjQPOu7ltpbnIYiE')"
      ],
      "execution_count": 3,
      "outputs": []
    },
    {
      "cell_type": "markdown",
      "metadata": {
        "id": "sPFUHQ_9xtYp"
      },
      "source": [
        "# Estatística Descritiva"
      ]
    },
    {
      "cell_type": "code",
      "metadata": {
        "colab": {
          "base_uri": "https://localhost:8080/",
          "height": 282
        },
        "id": "E9RGoOkFxs_S",
        "outputId": "46aec1b9-c6b8-4a55-da59-9216ab69dd8a"
      },
      "source": [
        "(gas_prices_brazil_df['numero_posto_pesquisado']/1000).hist()"
      ],
      "execution_count": 4,
      "outputs": [
        {
          "output_type": "execute_result",
          "data": {
            "text/plain": [
              "<matplotlib.axes._subplots.AxesSubplot at 0x7fdeb73b8a90>"
            ]
          },
          "metadata": {},
          "execution_count": 4
        },
        {
          "output_type": "display_data",
          "data": {
            "image/png": "[encoded data removed]",
            "text/plain": [
              "<Figure size 432x288 with 1 Axes>"
            ]
          },
          "metadata": {
            "needs_background": "light"
          }
        }
      ]
    },
    {
      "cell_type": "markdown",
      "metadata": {
        "id": "kAAkSjowyDgz"
      },
      "source": [
        "### Apply log function"
      ]
    },
    {
      "cell_type": "code",
      "metadata": {
        "colab": {
          "base_uri": "https://localhost:8080/",
          "height": 282
        },
        "id": "iCQnWTdGyCri",
        "outputId": "4e9c41f6-0978-4df7-cbf4-c3cf8436458f"
      },
      "source": [
        "gas_prices_brazil_df['numero_posto_pesquisado_log'] = gas_prices_brazil_df['numero_posto_pesquisado'].apply(np.log10)\n",
        "gas_prices_brazil_df[gas_prices_brazil_df['numero_posto_pesquisado_log'] > 0]['numero_posto_pesquisado_log'].hist()\n"
      ],
      "execution_count": 8,
      "outputs": [
        {
          "output_type": "execute_result",
          "data": {
            "text/plain": [
              "<matplotlib.axes._subplots.AxesSubplot at 0x7fdeb72d8990>"
            ]
          },
          "metadata": {},
          "execution_count": 8
        },
        {
          "output_type": "display_data",
          "data": {
            "image/png": "[encoded data removed]",
            "text/plain": [
              "<Figure size 432x288 with 1 Axes>"
            ]
          },
          "metadata": {
            "needs_background": "light"
          }
        }
      ]
    },
    {
      "cell_type": "markdown",
      "metadata": {
        "id": "ebyvBZRyyqoS"
      },
      "source": [
        "## Estatísticas univariadas¶\n"
      ]
    },
    {
      "cell_type": "markdown",
      "metadata": {
        "id": "gewzwwIGQfZY"
      },
      "source": [
        "### numero_posto_pesquisado"
      ]
    },
    {
      "cell_type": "code",
      "metadata": {
        "colab": {
          "base_uri": "https://localhost:8080/"
        },
        "id": "N-vgtlVuyziy",
        "outputId": "1cc64af0-f7bb-4bfb-eec3-04df4b48d733"
      },
      "source": [
        "gas_prices_brazil_df['numero_posto_pesquisado'].mean()"
      ],
      "execution_count": 9,
      "outputs": [
        {
          "output_type": "execute_result",
          "data": {
            "text/plain": [
              "233.77097628787809"
            ]
          },
          "metadata": {},
          "execution_count": 9
        }
      ]
    },
    {
      "cell_type": "code",
      "metadata": {
        "colab": {
          "base_uri": "https://localhost:8080/"
        },
        "id": "RXvBGj6NzGcj",
        "outputId": "7c06105c-a97b-4743-9491-3038f93be1cc"
      },
      "source": [
        "gas_prices_brazil_df['numero_posto_pesquisado'].max()"
      ],
      "execution_count": 10,
      "outputs": [
        {
          "output_type": "execute_result",
          "data": {
            "text/plain": [
              "4167"
            ]
          },
          "metadata": {},
          "execution_count": 10
        }
      ]
    },
    {
      "cell_type": "code",
      "metadata": {
        "colab": {
          "base_uri": "https://localhost:8080/"
        },
        "id": "rEi2MjZrzI3y",
        "outputId": "136fef18-15f4-4a41-dfb8-fc4b451d8509"
      },
      "source": [
        "gas_prices_brazil_df['numero_posto_pesquisado'].min()"
      ],
      "execution_count": 11,
      "outputs": [
        {
          "output_type": "execute_result",
          "data": {
            "text/plain": [
              "1"
            ]
          },
          "metadata": {},
          "execution_count": 11
        }
      ]
    },
    {
      "cell_type": "code",
      "metadata": {
        "id": "_PLiHnGxzLni"
      },
      "source": [
        "gas_prices_brazil_df['numero_posto_pesquisado'].var()"
      ],
      "execution_count": null,
      "outputs": []
    },
    {
      "cell_type": "code",
      "metadata": {
        "colab": {
          "base_uri": "https://localhost:8080/"
        },
        "id": "Polx5ywjzRQV",
        "outputId": "e9c7e89f-2786-4bab-c218-a66eef24904c"
      },
      "source": [
        "gas_prices_brazil_df['numero_posto_pesquisado'].std()"
      ],
      "execution_count": 13,
      "outputs": [
        {
          "output_type": "execute_result",
          "data": {
            "text/plain": [
              "403.2825185886979"
            ]
          },
          "metadata": {},
          "execution_count": 13
        }
      ]
    },
    {
      "cell_type": "code",
      "metadata": {
        "colab": {
          "base_uri": "https://localhost:8080/"
        },
        "id": "kfXAgDZJzbAb",
        "outputId": "5e250247-bf3b-470f-8fea-f43550b5e979"
      },
      "source": [
        "gas_prices_brazil_df['numero_posto_pesquisado'].describe()"
      ],
      "execution_count": 14,
      "outputs": [
        {
          "output_type": "execute_result",
          "data": {
            "text/plain": [
              "count    106823.000000\n",
              "mean        233.770976\n",
              "std         403.282519\n",
              "min           1.000000\n",
              "25%          42.000000\n",
              "50%         104.000000\n",
              "75%         243.000000\n",
              "max        4167.000000\n",
              "Name: numero_posto_pesquisado, dtype: float64"
            ]
          },
          "metadata": {},
          "execution_count": 14
        }
      ]
    },
    {
      "cell_type": "code",
      "metadata": {
        "colab": {
          "base_uri": "https://localhost:8080/"
        },
        "id": "Fsoe5fUEzj7k",
        "outputId": "d5799ad3-7d1c-4806-9c0d-2334ca99dfe5"
      },
      "source": [
        "gas_prices_brazil_df['numero_posto_pesquisado'].describe()[6] -gas_prices_brazil_df['numero_posto_pesquisado'].describe()[4]"
      ],
      "execution_count": 15,
      "outputs": [
        {
          "output_type": "execute_result",
          "data": {
            "text/plain": [
              "201.0"
            ]
          },
          "metadata": {},
          "execution_count": 15
        }
      ]
    },
    {
      "cell_type": "markdown",
      "metadata": {
        "id": "fejaYUmezzZS"
      },
      "source": [
        "### Check the Outliers"
      ]
    },
    {
      "cell_type": "code",
      "metadata": {
        "colab": {
          "base_uri": "https://localhost:8080/",
          "height": 283
        },
        "id": "c45bt3Azzrn1",
        "outputId": "94c3f411-1b6f-4249-b632-8dd77905b254"
      },
      "source": [
        "gas_prices_brazil_df.boxplot(column=['numero_posto_pesquisado'])\n"
      ],
      "execution_count": 17,
      "outputs": [
        {
          "output_type": "execute_result",
          "data": {
            "text/plain": [
              "<matplotlib.axes._subplots.AxesSubplot at 0x7fdeb222a350>"
            ]
          },
          "metadata": {},
          "execution_count": 17
        },
        {
          "output_type": "display_data",
          "data": {
            "image/png": "[encoded data removed]",
            "text/plain": [
              "<Figure size 432x288 with 1 Axes>"
            ]
          },
          "metadata": {
            "needs_background": "light"
          }
        }
      ]
    },
    {
      "cell_type": "markdown",
      "metadata": {
        "id": "WsxYdcj20OHW"
      },
      "source": [
        "### Operation"
      ]
    },
    {
      "cell_type": "code",
      "metadata": {
        "id": "Mc8Yi98G0QZj"
      },
      "source": [
        "#gas_prices_brazil_df['numero_posto_pesquisado'] = gas_prices_brazil_df['numero_posto_pesquisado']/lengas_prices_brazil_df['area']\n"
      ],
      "execution_count": null,
      "outputs": []
    },
    {
      "cell_type": "code",
      "metadata": {
        "colab": {
          "base_uri": "https://localhost:8080/"
        },
        "id": "C6x7elWd1W9l",
        "outputId": "cf0e8d1b-5ba9-4d6b-9c39-992c3dae3af0"
      },
      "source": [
        "gas_prices_brazil_df['produto']"
      ],
      "execution_count": 20,
      "outputs": [
        {
          "output_type": "execute_result",
          "data": {
            "text/plain": [
              "0         ETANOL HIDRATADO\n",
              "1         ETANOL HIDRATADO\n",
              "2         ETANOL HIDRATADO\n",
              "3         ETANOL HIDRATADO\n",
              "4         ETANOL HIDRATADO\n",
              "                ...       \n",
              "106818                 GNV\n",
              "106819                 GNV\n",
              "106820                 GNV\n",
              "106821                 GNV\n",
              "106822                 GNV\n",
              "Name: produto, Length: 106823, dtype: object"
            ]
          },
          "metadata": {},
          "execution_count": 20
        }
      ]
    },
    {
      "cell_type": "code",
      "metadata": {
        "id": "8P9Rs0wD1CCS"
      },
      "source": [
        "gas_prices_brazil_df[(gas_prices_brazil_df['produto'] == 'GNV') & (gas_prices_brazil_df.numero_posto_pesquisado >1) & (gas_prices_brazil_df['estado'] == 'PERNAMBUCO')].mean()"
      ],
      "execution_count": null,
      "outputs": []
    },
    {
      "cell_type": "code",
      "metadata": {
        "colab": {
          "base_uri": "https://localhost:8080/"
        },
        "id": "AyZvFa0a2_Aa",
        "outputId": "a9fbdb67-ec60-4a59-eff5-efc45062f6f7"
      },
      "source": [
        "gas_prices_brazil_df[(gas_prices_brazil_df['produto'] == 'ETANOL HIDRATADO') & (gas_prices_brazil_df.numero_posto_pesquisado >1) & (gas_prices_brazil_df['estado'] == 'PERNAMBUCO')].mean()"
      ],
      "execution_count": 26,
      "outputs": [
        {
          "output_type": "execute_result",
          "data": {
            "text/plain": [
              "Unnamed: 0                     38333.623724\n",
              "numero_posto_pesquisado          292.997449\n",
              "preco_medio_revenda                2.207764\n",
              "coef_variacao_revenda              0.066270\n",
              "mes                                6.502551\n",
              "ano                             2011.424745\n",
              "desvio_padrao_revenda              0.138393\n",
              "preco_minimo_revenda               1.965864\n",
              "preco_maximo_revenda               2.653765\n",
              "numero_posto_pesquisado_log        2.437234\n",
              "dtype: float64"
            ]
          },
          "metadata": {},
          "execution_count": 26
        }
      ]
    },
    {
      "cell_type": "markdown",
      "metadata": {
        "id": "YEbBw6Il3XU1"
      },
      "source": [
        ""
      ]
    },
    {
      "cell_type": "code",
      "metadata": {
        "colab": {
          "base_uri": "https://localhost:8080/"
        },
        "id": "OAYofmD03YJM",
        "outputId": "a0809de1-8559-4c65-fa18-e1d18f88898e"
      },
      "source": [
        "gas_prices_brazil_df[gas_prices_brazil_df['produto']=='GNV'].groupby(['estado'])['numero_posto_pesquisado'].mean()\n"
      ],
      "execution_count": 27,
      "outputs": [
        {
          "output_type": "execute_result",
          "data": {
            "text/plain": [
              "estado\n",
              "ACRE                     1.000000\n",
              "ALAGOAS                  8.940568\n",
              "AMAPA                    1.000000\n",
              "AMAZONAS                 1.296117\n",
              "BAHIA                   25.737580\n",
              "CEARA                   15.485350\n",
              "DISTRITO FEDERAL         1.000000\n",
              "ESPIRITO SANTO          10.385696\n",
              "GOIAS                    1.150538\n",
              "MARANHAO                 1.090909\n",
              "MATO GROSSO              2.021429\n",
              "MATO GROSSO DO SUL       3.947917\n",
              "MINAS GERAIS            21.426564\n",
              "PARA                     1.052632\n",
              "PARAIBA                 14.059873\n",
              "PARANA                   7.741268\n",
              "PERNAMBUCO              26.430573\n",
              "PIAUI                    1.000000\n",
              "RIO DE JANEIRO         171.312102\n",
              "RIO GRANDE DO NORTE     18.584713\n",
              "RIO GRANDE DO SUL       20.985987\n",
              "RONDONIA                 2.000000\n",
              "SANTA CATARINA          28.228025\n",
              "SAO PAULO               95.793631\n",
              "SERGIPE                  9.540921\n",
              "TOCANTINS                1.000000\n",
              "Name: numero_posto_pesquisado, dtype: float64"
            ]
          },
          "metadata": {},
          "execution_count": 27
        }
      ]
    },
    {
      "cell_type": "code",
      "metadata": {
        "colab": {
          "base_uri": "https://localhost:8080/",
          "height": 1000
        },
        "id": "hLQ1fg1P3m4a",
        "outputId": "e1422d16-511a-41a8-bd93-5ca4608b0d62"
      },
      "source": [
        "gas_prices_brazil_df[gas_prices_brazil_df['produto']=='GNV'].groupby(['estado']).agg(['mean','median', 'var','std'])\n"
      ],
      "execution_count": 34,
      "outputs": [
        {
          "output_type": "execute_result",
          "data": {
            "text/html": [
              "<div>\n",
              "<style scoped>\n",
              "    .dataframe tbody tr th:only-of-type {\n",
              "        vertical-align: middle;\n",
              "    }\n",
              "\n",
              "    .dataframe tbody tr th {\n",
              "        vertical-align: top;\n",
              "    }\n",
              "\n",
              "    .dataframe thead tr th {\n",
              "        text-align: left;\n",
              "    }\n",
              "\n",
              "    .dataframe thead tr:last-of-type th {\n",
              "        text-align: right;\n",
              "    }\n",
              "</style>\n",
              "<table border=\"1\" class=\"dataframe\">\n",
              "  <thead>\n",
              "    <tr>\n",
              "      <th></th>\n",
              "      <th colspan=\"4\" halign=\"left\">Unnamed: 0</th>\n",
              "      <th colspan=\"4\" halign=\"left\">numero_posto_pesquisado</th>\n",
              "      <th colspan=\"4\" halign=\"left\">preco_medio_revenda</th>\n",
              "      <th colspan=\"4\" halign=\"left\">coef_variacao_revenda</th>\n",
              "      <th colspan=\"4\" halign=\"left\">mes</th>\n",
              "      <th colspan=\"4\" halign=\"left\">ano</th>\n",
              "      <th colspan=\"4\" halign=\"left\">desvio_padrao_revenda</th>\n",
              "      <th colspan=\"4\" halign=\"left\">preco_minimo_revenda</th>\n",
              "      <th colspan=\"4\" halign=\"left\">preco_maximo_revenda</th>\n",
              "      <th colspan=\"4\" halign=\"left\">numero_posto_pesquisado_log</th>\n",
              "    </tr>\n",
              "    <tr>\n",
              "      <th></th>\n",
              "      <th>mean</th>\n",
              "      <th>median</th>\n",
              "      <th>var</th>\n",
              "      <th>std</th>\n",
              "      <th>mean</th>\n",
              "      <th>median</th>\n",
              "      <th>var</th>\n",
              "      <th>std</th>\n",
              "      <th>mean</th>\n",
              "      <th>median</th>\n",
              "      <th>var</th>\n",
              "      <th>std</th>\n",
              "      <th>mean</th>\n",
              "      <th>median</th>\n",
              "      <th>var</th>\n",
              "      <th>std</th>\n",
              "      <th>mean</th>\n",
              "      <th>median</th>\n",
              "      <th>var</th>\n",
              "      <th>std</th>\n",
              "      <th>mean</th>\n",
              "      <th>median</th>\n",
              "      <th>var</th>\n",
              "      <th>std</th>\n",
              "      <th>mean</th>\n",
              "      <th>median</th>\n",
              "      <th>var</th>\n",
              "      <th>std</th>\n",
              "      <th>mean</th>\n",
              "      <th>median</th>\n",
              "      <th>var</th>\n",
              "      <th>std</th>\n",
              "      <th>mean</th>\n",
              "      <th>median</th>\n",
              "      <th>var</th>\n",
              "      <th>std</th>\n",
              "      <th>mean</th>\n",
              "      <th>median</th>\n",
              "      <th>var</th>\n",
              "      <th>std</th>\n",
              "    </tr>\n",
              "    <tr>\n",
              "      <th>estado</th>\n",
              "      <th></th>\n",
              "      <th></th>\n",
              "      <th></th>\n",
              "      <th></th>\n",
              "      <th></th>\n",
              "      <th></th>\n",
              "      <th></th>\n",
              "      <th></th>\n",
              "      <th></th>\n",
              "      <th></th>\n",
              "      <th></th>\n",
              "      <th></th>\n",
              "      <th></th>\n",
              "      <th></th>\n",
              "      <th></th>\n",
              "      <th></th>\n",
              "      <th></th>\n",
              "      <th></th>\n",
              "      <th></th>\n",
              "      <th></th>\n",
              "      <th></th>\n",
              "      <th></th>\n",
              "      <th></th>\n",
              "      <th></th>\n",
              "      <th></th>\n",
              "      <th></th>\n",
              "      <th></th>\n",
              "      <th></th>\n",
              "      <th></th>\n",
              "      <th></th>\n",
              "      <th></th>\n",
              "      <th></th>\n",
              "      <th></th>\n",
              "      <th></th>\n",
              "      <th></th>\n",
              "      <th></th>\n",
              "      <th></th>\n",
              "      <th></th>\n",
              "      <th></th>\n",
              "      <th></th>\n",
              "    </tr>\n",
              "  </thead>\n",
              "  <tbody>\n",
              "    <tr>\n",
              "      <th>ACRE</th>\n",
              "      <td>40882.200000</td>\n",
              "      <td>40854.0</td>\n",
              "      <td>8.701200e+03</td>\n",
              "      <td>93.280223</td>\n",
              "      <td>1.000000</td>\n",
              "      <td>1</td>\n",
              "      <td>0.000000</td>\n",
              "      <td>0.000000</td>\n",
              "      <td>2.322000</td>\n",
              "      <td>2.3500</td>\n",
              "      <td>0.001470</td>\n",
              "      <td>0.038341</td>\n",
              "      <td>0.000000</td>\n",
              "      <td>0.000</td>\n",
              "      <td>0.000000</td>\n",
              "      <td>0.000000</td>\n",
              "      <td>7.000000</td>\n",
              "      <td>11.0</td>\n",
              "      <td>30.000000</td>\n",
              "      <td>5.477226</td>\n",
              "      <td>2009.400000</td>\n",
              "      <td>2009</td>\n",
              "      <td>0.300000</td>\n",
              "      <td>0.547723</td>\n",
              "      <td>0.000000</td>\n",
              "      <td>0.000</td>\n",
              "      <td>0.000000</td>\n",
              "      <td>0.000000</td>\n",
              "      <td>2.322000</td>\n",
              "      <td>2.3500</td>\n",
              "      <td>0.001470</td>\n",
              "      <td>0.038341</td>\n",
              "      <td>2.322000</td>\n",
              "      <td>2.3500</td>\n",
              "      <td>0.001470</td>\n",
              "      <td>0.038341</td>\n",
              "      <td>0.000000</td>\n",
              "      <td>0.000000</td>\n",
              "      <td>0.000000</td>\n",
              "      <td>0.000000</td>\n",
              "    </tr>\n",
              "    <tr>\n",
              "      <th>ALAGOAS</th>\n",
              "      <td>57270.326873</td>\n",
              "      <td>42536.0</td>\n",
              "      <td>5.128932e+08</td>\n",
              "      <td>22647.145376</td>\n",
              "      <td>8.940568</td>\n",
              "      <td>9</td>\n",
              "      <td>19.595428</td>\n",
              "      <td>4.426672</td>\n",
              "      <td>1.931699</td>\n",
              "      <td>1.8600</td>\n",
              "      <td>0.277717</td>\n",
              "      <td>0.526989</td>\n",
              "      <td>0.035129</td>\n",
              "      <td>0.036</td>\n",
              "      <td>0.000876</td>\n",
              "      <td>0.029599</td>\n",
              "      <td>6.470284</td>\n",
              "      <td>6.0</td>\n",
              "      <td>11.801833</td>\n",
              "      <td>3.435380</td>\n",
              "      <td>2011.361757</td>\n",
              "      <td>2011</td>\n",
              "      <td>19.149687</td>\n",
              "      <td>4.376036</td>\n",
              "      <td>0.065994</td>\n",
              "      <td>0.062</td>\n",
              "      <td>0.003433</td>\n",
              "      <td>0.058594</td>\n",
              "      <td>1.910972</td>\n",
              "      <td>1.8450</td>\n",
              "      <td>0.275167</td>\n",
              "      <td>0.524564</td>\n",
              "      <td>2.100915</td>\n",
              "      <td>2.0990</td>\n",
              "      <td>0.287053</td>\n",
              "      <td>0.535773</td>\n",
              "      <td>0.879801</td>\n",
              "      <td>0.954243</td>\n",
              "      <td>0.076859</td>\n",
              "      <td>0.277235</td>\n",
              "    </tr>\n",
              "    <tr>\n",
              "      <th>AMAPA</th>\n",
              "      <td>70406.916667</td>\n",
              "      <td>85340.0</td>\n",
              "      <td>4.751431e+08</td>\n",
              "      <td>21797.776778</td>\n",
              "      <td>1.000000</td>\n",
              "      <td>1</td>\n",
              "      <td>0.000000</td>\n",
              "      <td>0.000000</td>\n",
              "      <td>2.599083</td>\n",
              "      <td>2.7390</td>\n",
              "      <td>0.385422</td>\n",
              "      <td>0.620824</td>\n",
              "      <td>0.000000</td>\n",
              "      <td>0.000</td>\n",
              "      <td>0.000000</td>\n",
              "      <td>0.000000</td>\n",
              "      <td>7.250000</td>\n",
              "      <td>9.5</td>\n",
              "      <td>12.750000</td>\n",
              "      <td>3.570714</td>\n",
              "      <td>2013.916667</td>\n",
              "      <td>2016</td>\n",
              "      <td>9.537879</td>\n",
              "      <td>3.088346</td>\n",
              "      <td>0.000000</td>\n",
              "      <td>0.000</td>\n",
              "      <td>0.000000</td>\n",
              "      <td>0.000000</td>\n",
              "      <td>2.599083</td>\n",
              "      <td>2.7390</td>\n",
              "      <td>0.385422</td>\n",
              "      <td>0.620824</td>\n",
              "      <td>2.599083</td>\n",
              "      <td>2.7390</td>\n",
              "      <td>0.385422</td>\n",
              "      <td>0.620824</td>\n",
              "      <td>0.000000</td>\n",
              "      <td>0.000000</td>\n",
              "      <td>0.000000</td>\n",
              "      <td>0.000000</td>\n",
              "    </tr>\n",
              "    <tr>\n",
              "      <th>AMAZONAS</th>\n",
              "      <td>57613.495146</td>\n",
              "      <td>42845.5</td>\n",
              "      <td>4.863302e+08</td>\n",
              "      <td>22052.896319</td>\n",
              "      <td>1.296117</td>\n",
              "      <td>1</td>\n",
              "      <td>0.335459</td>\n",
              "      <td>0.579189</td>\n",
              "      <td>1.958830</td>\n",
              "      <td>1.6500</td>\n",
              "      <td>0.353714</td>\n",
              "      <td>0.594739</td>\n",
              "      <td>0.004971</td>\n",
              "      <td>0.000</td>\n",
              "      <td>0.001028</td>\n",
              "      <td>0.032065</td>\n",
              "      <td>6.487864</td>\n",
              "      <td>6.0</td>\n",
              "      <td>12.182334</td>\n",
              "      <td>3.490320</td>\n",
              "      <td>2011.660194</td>\n",
              "      <td>2012</td>\n",
              "      <td>16.307609</td>\n",
              "      <td>4.038268</td>\n",
              "      <td>0.009973</td>\n",
              "      <td>0.000</td>\n",
              "      <td>0.002961</td>\n",
              "      <td>0.054419</td>\n",
              "      <td>1.953743</td>\n",
              "      <td>1.6500</td>\n",
              "      <td>0.349992</td>\n",
              "      <td>0.591602</td>\n",
              "      <td>1.968667</td>\n",
              "      <td>1.7000</td>\n",
              "      <td>0.360652</td>\n",
              "      <td>0.600543</td>\n",
              "      <td>0.082028</td>\n",
              "      <td>0.000000</td>\n",
              "      <td>0.022601</td>\n",
              "      <td>0.150336</td>\n",
              "    </tr>\n",
              "    <tr>\n",
              "      <th>BAHIA</th>\n",
              "      <td>57708.935032</td>\n",
              "      <td>42628.0</td>\n",
              "      <td>5.203864e+08</td>\n",
              "      <td>22811.978580</td>\n",
              "      <td>25.737580</td>\n",
              "      <td>26</td>\n",
              "      <td>57.336660</td>\n",
              "      <td>7.572097</td>\n",
              "      <td>1.849818</td>\n",
              "      <td>1.7540</td>\n",
              "      <td>0.229932</td>\n",
              "      <td>0.479512</td>\n",
              "      <td>0.036247</td>\n",
              "      <td>0.037</td>\n",
              "      <td>0.000674</td>\n",
              "      <td>0.025969</td>\n",
              "      <td>6.500637</td>\n",
              "      <td>6.0</td>\n",
              "      <td>11.860012</td>\n",
              "      <td>3.443837</td>\n",
              "      <td>2011.433121</td>\n",
              "      <td>2011</td>\n",
              "      <td>19.256044</td>\n",
              "      <td>4.388171</td>\n",
              "      <td>0.071939</td>\n",
              "      <td>0.076</td>\n",
              "      <td>0.002993</td>\n",
              "      <td>0.054710</td>\n",
              "      <td>1.719982</td>\n",
              "      <td>1.5990</td>\n",
              "      <td>0.186089</td>\n",
              "      <td>0.431381</td>\n",
              "      <td>2.027581</td>\n",
              "      <td>1.9900</td>\n",
              "      <td>0.318866</td>\n",
              "      <td>0.564682</td>\n",
              "      <td>1.389345</td>\n",
              "      <td>1.414973</td>\n",
              "      <td>0.020024</td>\n",
              "      <td>0.141507</td>\n",
              "    </tr>\n",
              "    <tr>\n",
              "      <th>CEARA</th>\n",
              "      <td>57709.935032</td>\n",
              "      <td>42629.0</td>\n",
              "      <td>5.203864e+08</td>\n",
              "      <td>22811.978580</td>\n",
              "      <td>15.485350</td>\n",
              "      <td>15</td>\n",
              "      <td>60.681226</td>\n",
              "      <td>7.789816</td>\n",
              "      <td>1.997502</td>\n",
              "      <td>1.8660</td>\n",
              "      <td>0.379900</td>\n",
              "      <td>0.616360</td>\n",
              "      <td>0.037776</td>\n",
              "      <td>0.022</td>\n",
              "      <td>0.001496</td>\n",
              "      <td>0.038677</td>\n",
              "      <td>6.500637</td>\n",
              "      <td>6.0</td>\n",
              "      <td>11.860012</td>\n",
              "      <td>3.443837</td>\n",
              "      <td>2011.433121</td>\n",
              "      <td>2011</td>\n",
              "      <td>19.256044</td>\n",
              "      <td>4.388171</td>\n",
              "      <td>0.071445</td>\n",
              "      <td>0.052</td>\n",
              "      <td>0.004386</td>\n",
              "      <td>0.066230</td>\n",
              "      <td>1.942116</td>\n",
              "      <td>1.7900</td>\n",
              "      <td>0.354072</td>\n",
              "      <td>0.595039</td>\n",
              "      <td>2.183469</td>\n",
              "      <td>2.1990</td>\n",
              "      <td>0.381970</td>\n",
              "      <td>0.618038</td>\n",
              "      <td>1.128257</td>\n",
              "      <td>1.176091</td>\n",
              "      <td>0.061103</td>\n",
              "      <td>0.247189</td>\n",
              "    </tr>\n",
              "    <tr>\n",
              "      <th>DISTRITO FEDERAL</th>\n",
              "      <td>68937.333333</td>\n",
              "      <td>41145.0</td>\n",
              "      <td>1.111301e+09</td>\n",
              "      <td>33336.184593</td>\n",
              "      <td>1.000000</td>\n",
              "      <td>1</td>\n",
              "      <td>0.000000</td>\n",
              "      <td>0.000000</td>\n",
              "      <td>2.568444</td>\n",
              "      <td>2.0300</td>\n",
              "      <td>0.455148</td>\n",
              "      <td>0.674646</td>\n",
              "      <td>0.000000</td>\n",
              "      <td>0.000</td>\n",
              "      <td>0.000000</td>\n",
              "      <td>0.000000</td>\n",
              "      <td>5.888889</td>\n",
              "      <td>4.0</td>\n",
              "      <td>18.861111</td>\n",
              "      <td>4.342938</td>\n",
              "      <td>2013.555556</td>\n",
              "      <td>2010</td>\n",
              "      <td>26.777778</td>\n",
              "      <td>5.174725</td>\n",
              "      <td>0.000000</td>\n",
              "      <td>0.000</td>\n",
              "      <td>0.000000</td>\n",
              "      <td>0.000000</td>\n",
              "      <td>2.568444</td>\n",
              "      <td>2.0300</td>\n",
              "      <td>0.455148</td>\n",
              "      <td>0.674646</td>\n",
              "      <td>2.568444</td>\n",
              "      <td>2.0300</td>\n",
              "      <td>0.455148</td>\n",
              "      <td>0.674646</td>\n",
              "      <td>0.000000</td>\n",
              "      <td>0.000000</td>\n",
              "      <td>0.000000</td>\n",
              "      <td>0.000000</td>\n",
              "    </tr>\n",
              "    <tr>\n",
              "      <th>ESPIRITO SANTO</th>\n",
              "      <td>57757.256705</td>\n",
              "      <td>42651.0</td>\n",
              "      <td>5.208730e+08</td>\n",
              "      <td>22822.643150</td>\n",
              "      <td>10.385696</td>\n",
              "      <td>11</td>\n",
              "      <td>16.009616</td>\n",
              "      <td>4.001202</td>\n",
              "      <td>1.859960</td>\n",
              "      <td>1.8320</td>\n",
              "      <td>0.246300</td>\n",
              "      <td>0.496287</td>\n",
              "      <td>0.061607</td>\n",
              "      <td>0.070</td>\n",
              "      <td>0.001721</td>\n",
              "      <td>0.041487</td>\n",
              "      <td>6.495530</td>\n",
              "      <td>6.0</td>\n",
              "      <td>11.879456</td>\n",
              "      <td>3.446659</td>\n",
              "      <td>2011.439336</td>\n",
              "      <td>2011</td>\n",
              "      <td>19.290113</td>\n",
              "      <td>4.392051</td>\n",
              "      <td>0.115931</td>\n",
              "      <td>0.135</td>\n",
              "      <td>0.005749</td>\n",
              "      <td>0.075823</td>\n",
              "      <td>1.819222</td>\n",
              "      <td>1.7900</td>\n",
              "      <td>0.234763</td>\n",
              "      <td>0.484524</td>\n",
              "      <td>2.168628</td>\n",
              "      <td>2.2000</td>\n",
              "      <td>0.335222</td>\n",
              "      <td>0.578984</td>\n",
              "      <td>0.976624</td>\n",
              "      <td>1.041393</td>\n",
              "      <td>0.040306</td>\n",
              "      <td>0.200762</td>\n",
              "    </tr>\n",
              "    <tr>\n",
              "      <th>GOIAS</th>\n",
              "      <td>65745.655914</td>\n",
              "      <td>67100.5</td>\n",
              "      <td>1.568438e+08</td>\n",
              "      <td>12523.728732</td>\n",
              "      <td>1.150538</td>\n",
              "      <td>1</td>\n",
              "      <td>0.128567</td>\n",
              "      <td>0.358563</td>\n",
              "      <td>2.390376</td>\n",
              "      <td>2.2500</td>\n",
              "      <td>0.111404</td>\n",
              "      <td>0.333772</td>\n",
              "      <td>0.001774</td>\n",
              "      <td>0.000</td>\n",
              "      <td>0.000247</td>\n",
              "      <td>0.015725</td>\n",
              "      <td>6.419355</td>\n",
              "      <td>6.0</td>\n",
              "      <td>12.320488</td>\n",
              "      <td>3.510055</td>\n",
              "      <td>2013.774194</td>\n",
              "      <td>2014</td>\n",
              "      <td>3.224412</td>\n",
              "      <td>1.795665</td>\n",
              "      <td>0.004651</td>\n",
              "      <td>0.000</td>\n",
              "      <td>0.001556</td>\n",
              "      <td>0.039441</td>\n",
              "      <td>2.387968</td>\n",
              "      <td>2.2500</td>\n",
              "      <td>0.110775</td>\n",
              "      <td>0.332829</td>\n",
              "      <td>2.394602</td>\n",
              "      <td>2.2500</td>\n",
              "      <td>0.114778</td>\n",
              "      <td>0.338790</td>\n",
              "      <td>0.045316</td>\n",
              "      <td>0.000000</td>\n",
              "      <td>0.011651</td>\n",
              "      <td>0.107938</td>\n",
              "    </tr>\n",
              "    <tr>\n",
              "      <th>MARANHAO</th>\n",
              "      <td>63373.227273</td>\n",
              "      <td>41278.0</td>\n",
              "      <td>7.367557e+08</td>\n",
              "      <td>27143.243814</td>\n",
              "      <td>1.090909</td>\n",
              "      <td>1</td>\n",
              "      <td>0.086580</td>\n",
              "      <td>0.294245</td>\n",
              "      <td>2.547727</td>\n",
              "      <td>2.2150</td>\n",
              "      <td>0.494533</td>\n",
              "      <td>0.703231</td>\n",
              "      <td>0.000273</td>\n",
              "      <td>0.000</td>\n",
              "      <td>0.000002</td>\n",
              "      <td>0.001279</td>\n",
              "      <td>5.227273</td>\n",
              "      <td>4.5</td>\n",
              "      <td>13.707792</td>\n",
              "      <td>3.702404</td>\n",
              "      <td>2012.500000</td>\n",
              "      <td>2010</td>\n",
              "      <td>21.023810</td>\n",
              "      <td>4.585173</td>\n",
              "      <td>0.000591</td>\n",
              "      <td>0.000</td>\n",
              "      <td>0.000008</td>\n",
              "      <td>0.002772</td>\n",
              "      <td>2.547273</td>\n",
              "      <td>2.2150</td>\n",
              "      <td>0.495012</td>\n",
              "      <td>0.703571</td>\n",
              "      <td>2.548136</td>\n",
              "      <td>2.2150</td>\n",
              "      <td>0.494110</td>\n",
              "      <td>0.702930</td>\n",
              "      <td>0.027366</td>\n",
              "      <td>0.000000</td>\n",
              "      <td>0.007846</td>\n",
              "      <td>0.088577</td>\n",
              "    </tr>\n",
              "    <tr>\n",
              "      <th>MATO GROSSO</th>\n",
              "      <td>58266.701786</td>\n",
              "      <td>43350.0</td>\n",
              "      <td>4.101388e+08</td>\n",
              "      <td>20251.884932</td>\n",
              "      <td>2.021429</td>\n",
              "      <td>2</td>\n",
              "      <td>0.969129</td>\n",
              "      <td>0.984443</td>\n",
              "      <td>1.990523</td>\n",
              "      <td>1.8900</td>\n",
              "      <td>0.205169</td>\n",
              "      <td>0.452956</td>\n",
              "      <td>0.014164</td>\n",
              "      <td>0.000</td>\n",
              "      <td>0.000937</td>\n",
              "      <td>0.030616</td>\n",
              "      <td>6.487500</td>\n",
              "      <td>7.0</td>\n",
              "      <td>11.828108</td>\n",
              "      <td>3.439202</td>\n",
              "      <td>2012.142857</td>\n",
              "      <td>2012</td>\n",
              "      <td>12.090468</td>\n",
              "      <td>3.477135</td>\n",
              "      <td>0.027655</td>\n",
              "      <td>0.000</td>\n",
              "      <td>0.003282</td>\n",
              "      <td>0.057286</td>\n",
              "      <td>1.964705</td>\n",
              "      <td>1.8900</td>\n",
              "      <td>0.205640</td>\n",
              "      <td>0.453476</td>\n",
              "      <td>2.010696</td>\n",
              "      <td>1.8945</td>\n",
              "      <td>0.205102</td>\n",
              "      <td>0.452882</td>\n",
              "      <td>0.253612</td>\n",
              "      <td>0.301030</td>\n",
              "      <td>0.046164</td>\n",
              "      <td>0.214857</td>\n",
              "    </tr>\n",
              "    <tr>\n",
              "      <th>MATO GROSSO DO SUL</th>\n",
              "      <td>57264.359375</td>\n",
              "      <td>42518.5</td>\n",
              "      <td>5.093957e+08</td>\n",
              "      <td>22569.795132</td>\n",
              "      <td>3.947917</td>\n",
              "      <td>4</td>\n",
              "      <td>4.315406</td>\n",
              "      <td>2.077356</td>\n",
              "      <td>1.913940</td>\n",
              "      <td>1.7990</td>\n",
              "      <td>0.186542</td>\n",
              "      <td>0.431906</td>\n",
              "      <td>0.013770</td>\n",
              "      <td>0.011</td>\n",
              "      <td>0.000346</td>\n",
              "      <td>0.018597</td>\n",
              "      <td>6.449219</td>\n",
              "      <td>6.0</td>\n",
              "      <td>11.791421</td>\n",
              "      <td>3.433864</td>\n",
              "      <td>2011.355469</td>\n",
              "      <td>2011</td>\n",
              "      <td>19.134233</td>\n",
              "      <td>4.374269</td>\n",
              "      <td>0.028880</td>\n",
              "      <td>0.019</td>\n",
              "      <td>0.001733</td>\n",
              "      <td>0.041627</td>\n",
              "      <td>1.885691</td>\n",
              "      <td>1.7990</td>\n",
              "      <td>0.168101</td>\n",
              "      <td>0.410001</td>\n",
              "      <td>1.941115</td>\n",
              "      <td>1.8940</td>\n",
              "      <td>0.194842</td>\n",
              "      <td>0.441409</td>\n",
              "      <td>0.526439</td>\n",
              "      <td>0.602060</td>\n",
              "      <td>0.068677</td>\n",
              "      <td>0.262064</td>\n",
              "    </tr>\n",
              "    <tr>\n",
              "      <th>MINAS GERAIS</th>\n",
              "      <td>57653.545338</td>\n",
              "      <td>42619.0</td>\n",
              "      <td>5.200746e+08</td>\n",
              "      <td>22805.143662</td>\n",
              "      <td>21.426564</td>\n",
              "      <td>18</td>\n",
              "      <td>271.994281</td>\n",
              "      <td>16.492249</td>\n",
              "      <td>1.903991</td>\n",
              "      <td>1.6940</td>\n",
              "      <td>0.298699</td>\n",
              "      <td>0.546534</td>\n",
              "      <td>0.061626</td>\n",
              "      <td>0.056</td>\n",
              "      <td>0.001000</td>\n",
              "      <td>0.031622</td>\n",
              "      <td>6.491699</td>\n",
              "      <td>6.0</td>\n",
              "      <td>11.848716</td>\n",
              "      <td>3.442196</td>\n",
              "      <td>2011.422733</td>\n",
              "      <td>2011</td>\n",
              "      <td>19.262245</td>\n",
              "      <td>4.388877</td>\n",
              "      <td>0.113705</td>\n",
              "      <td>0.108</td>\n",
              "      <td>0.003744</td>\n",
              "      <td>0.061186</td>\n",
              "      <td>1.782057</td>\n",
              "      <td>1.5470</td>\n",
              "      <td>0.305521</td>\n",
              "      <td>0.552739</td>\n",
              "      <td>2.121793</td>\n",
              "      <td>1.9900</td>\n",
              "      <td>0.300410</td>\n",
              "      <td>0.548096</td>\n",
              "      <td>1.176035</td>\n",
              "      <td>1.255273</td>\n",
              "      <td>0.167494</td>\n",
              "      <td>0.409261</td>\n",
              "    </tr>\n",
              "    <tr>\n",
              "      <th>PARA</th>\n",
              "      <td>44781.105263</td>\n",
              "      <td>41325.0</td>\n",
              "      <td>1.212497e+08</td>\n",
              "      <td>11011.342495</td>\n",
              "      <td>1.052632</td>\n",
              "      <td>1</td>\n",
              "      <td>0.052632</td>\n",
              "      <td>0.229416</td>\n",
              "      <td>2.096632</td>\n",
              "      <td>2.1000</td>\n",
              "      <td>0.042486</td>\n",
              "      <td>0.206122</td>\n",
              "      <td>0.000000</td>\n",
              "      <td>0.000</td>\n",
              "      <td>0.000000</td>\n",
              "      <td>0.000000</td>\n",
              "      <td>5.894737</td>\n",
              "      <td>6.0</td>\n",
              "      <td>7.766082</td>\n",
              "      <td>2.786769</td>\n",
              "      <td>2010.315789</td>\n",
              "      <td>2010</td>\n",
              "      <td>3.561404</td>\n",
              "      <td>1.887168</td>\n",
              "      <td>0.000000</td>\n",
              "      <td>0.000</td>\n",
              "      <td>0.000000</td>\n",
              "      <td>0.000000</td>\n",
              "      <td>2.096632</td>\n",
              "      <td>2.1000</td>\n",
              "      <td>0.042486</td>\n",
              "      <td>0.206122</td>\n",
              "      <td>2.096632</td>\n",
              "      <td>2.1000</td>\n",
              "      <td>0.042486</td>\n",
              "      <td>0.206122</td>\n",
              "      <td>0.015844</td>\n",
              "      <td>0.000000</td>\n",
              "      <td>0.004769</td>\n",
              "      <td>0.069061</td>\n",
              "    </tr>\n",
              "    <tr>\n",
              "      <th>PARAIBA</th>\n",
              "      <td>57712.789809</td>\n",
              "      <td>42630.0</td>\n",
              "      <td>5.204655e+08</td>\n",
              "      <td>22813.712372</td>\n",
              "      <td>14.059873</td>\n",
              "      <td>15</td>\n",
              "      <td>42.505339</td>\n",
              "      <td>6.519612</td>\n",
              "      <td>1.968922</td>\n",
              "      <td>1.8140</td>\n",
              "      <td>0.352562</td>\n",
              "      <td>0.593770</td>\n",
              "      <td>0.025752</td>\n",
              "      <td>0.022</td>\n",
              "      <td>0.000543</td>\n",
              "      <td>0.023306</td>\n",
              "      <td>6.500637</td>\n",
              "      <td>6.0</td>\n",
              "      <td>11.860012</td>\n",
              "      <td>3.443837</td>\n",
              "      <td>2011.433121</td>\n",
              "      <td>2011</td>\n",
              "      <td>19.256044</td>\n",
              "      <td>4.388171</td>\n",
              "      <td>0.052768</td>\n",
              "      <td>0.039</td>\n",
              "      <td>0.003195</td>\n",
              "      <td>0.056525</td>\n",
              "      <td>1.915789</td>\n",
              "      <td>1.7800</td>\n",
              "      <td>0.333174</td>\n",
              "      <td>0.577212</td>\n",
              "      <td>2.089688</td>\n",
              "      <td>1.8990</td>\n",
              "      <td>0.380371</td>\n",
              "      <td>0.616742</td>\n",
              "      <td>1.086106</td>\n",
              "      <td>1.176091</td>\n",
              "      <td>0.064777</td>\n",
              "      <td>0.254513</td>\n",
              "    </tr>\n",
              "    <tr>\n",
              "      <th>PARANA</th>\n",
              "      <td>57862.767141</td>\n",
              "      <td>42704.0</td>\n",
              "      <td>5.209549e+08</td>\n",
              "      <td>22824.437470</td>\n",
              "      <td>7.741268</td>\n",
              "      <td>7</td>\n",
              "      <td>18.052142</td>\n",
              "      <td>4.248781</td>\n",
              "      <td>1.830528</td>\n",
              "      <td>1.5990</td>\n",
              "      <td>0.276137</td>\n",
              "      <td>0.525488</td>\n",
              "      <td>0.040199</td>\n",
              "      <td>0.027</td>\n",
              "      <td>0.001703</td>\n",
              "      <td>0.041263</td>\n",
              "      <td>6.486417</td>\n",
              "      <td>6.0</td>\n",
              "      <td>11.957393</td>\n",
              "      <td>3.457946</td>\n",
              "      <td>2011.460543</td>\n",
              "      <td>2012</td>\n",
              "      <td>19.326485</td>\n",
              "      <td>4.396190</td>\n",
              "      <td>0.078404</td>\n",
              "      <td>0.058</td>\n",
              "      <td>0.006958</td>\n",
              "      <td>0.083414</td>\n",
              "      <td>1.774047</td>\n",
              "      <td>1.5790</td>\n",
              "      <td>0.260834</td>\n",
              "      <td>0.510719</td>\n",
              "      <td>1.985060</td>\n",
              "      <td>1.8990</td>\n",
              "      <td>0.358386</td>\n",
              "      <td>0.598653</td>\n",
              "      <td>0.808733</td>\n",
              "      <td>0.845098</td>\n",
              "      <td>0.082712</td>\n",
              "      <td>0.287597</td>\n",
              "    </tr>\n",
              "    <tr>\n",
              "      <th>PERNAMBUCO</th>\n",
              "      <td>57714.217834</td>\n",
              "      <td>42631.0</td>\n",
              "      <td>5.204857e+08</td>\n",
              "      <td>22814.155634</td>\n",
              "      <td>26.430573</td>\n",
              "      <td>30</td>\n",
              "      <td>96.776105</td>\n",
              "      <td>9.837485</td>\n",
              "      <td>1.818466</td>\n",
              "      <td>1.7570</td>\n",
              "      <td>0.156413</td>\n",
              "      <td>0.395491</td>\n",
              "      <td>0.024799</td>\n",
              "      <td>0.019</td>\n",
              "      <td>0.000723</td>\n",
              "      <td>0.026891</td>\n",
              "      <td>6.500637</td>\n",
              "      <td>6.0</td>\n",
              "      <td>11.860012</td>\n",
              "      <td>3.443837</td>\n",
              "      <td>2011.433121</td>\n",
              "      <td>2011</td>\n",
              "      <td>19.256044</td>\n",
              "      <td>4.388171</td>\n",
              "      <td>0.050390</td>\n",
              "      <td>0.031</td>\n",
              "      <td>0.004206</td>\n",
              "      <td>0.064854</td>\n",
              "      <td>1.786773</td>\n",
              "      <td>1.6990</td>\n",
              "      <td>0.152564</td>\n",
              "      <td>0.390595</td>\n",
              "      <td>1.998554</td>\n",
              "      <td>1.8990</td>\n",
              "      <td>0.291889</td>\n",
              "      <td>0.540267</td>\n",
              "      <td>1.375927</td>\n",
              "      <td>1.477121</td>\n",
              "      <td>0.052139</td>\n",
              "      <td>0.228339</td>\n",
              "    </tr>\n",
              "    <tr>\n",
              "      <th>PIAUI</th>\n",
              "      <td>41429.777778</td>\n",
              "      <td>36935.0</td>\n",
              "      <td>2.238738e+08</td>\n",
              "      <td>14962.411241</td>\n",
              "      <td>1.000000</td>\n",
              "      <td>1</td>\n",
              "      <td>0.000000</td>\n",
              "      <td>0.000000</td>\n",
              "      <td>1.596111</td>\n",
              "      <td>1.3990</td>\n",
              "      <td>0.267405</td>\n",
              "      <td>0.517112</td>\n",
              "      <td>0.000000</td>\n",
              "      <td>0.000</td>\n",
              "      <td>0.000000</td>\n",
              "      <td>0.000000</td>\n",
              "      <td>6.916667</td>\n",
              "      <td>7.0</td>\n",
              "      <td>11.457746</td>\n",
              "      <td>3.384929</td>\n",
              "      <td>2006.125000</td>\n",
              "      <td>2005</td>\n",
              "      <td>12.505282</td>\n",
              "      <td>3.536281</td>\n",
              "      <td>0.000000</td>\n",
              "      <td>0.000</td>\n",
              "      <td>0.000000</td>\n",
              "      <td>0.000000</td>\n",
              "      <td>1.596111</td>\n",
              "      <td>1.3990</td>\n",
              "      <td>0.267405</td>\n",
              "      <td>0.517112</td>\n",
              "      <td>1.596111</td>\n",
              "      <td>1.3990</td>\n",
              "      <td>0.267405</td>\n",
              "      <td>0.517112</td>\n",
              "      <td>0.000000</td>\n",
              "      <td>0.000000</td>\n",
              "      <td>0.000000</td>\n",
              "      <td>0.000000</td>\n",
              "    </tr>\n",
              "    <tr>\n",
              "      <th>RIO DE JANEIRO</th>\n",
              "      <td>57717.917197</td>\n",
              "      <td>42636.0</td>\n",
              "      <td>5.203896e+08</td>\n",
              "      <td>22812.049534</td>\n",
              "      <td>171.312102</td>\n",
              "      <td>181</td>\n",
              "      <td>2700.204764</td>\n",
              "      <td>51.963495</td>\n",
              "      <td>1.726745</td>\n",
              "      <td>1.6650</td>\n",
              "      <td>0.243086</td>\n",
              "      <td>0.493038</td>\n",
              "      <td>0.078136</td>\n",
              "      <td>0.082</td>\n",
              "      <td>0.000402</td>\n",
              "      <td>0.020045</td>\n",
              "      <td>6.500637</td>\n",
              "      <td>6.0</td>\n",
              "      <td>11.860012</td>\n",
              "      <td>3.443837</td>\n",
              "      <td>2011.433121</td>\n",
              "      <td>2011</td>\n",
              "      <td>19.256044</td>\n",
              "      <td>4.388171</td>\n",
              "      <td>0.140498</td>\n",
              "      <td>0.140</td>\n",
              "      <td>0.004009</td>\n",
              "      <td>0.063314</td>\n",
              "      <td>1.451740</td>\n",
              "      <td>1.3790</td>\n",
              "      <td>0.200317</td>\n",
              "      <td>0.447568</td>\n",
              "      <td>2.173730</td>\n",
              "      <td>2.0570</td>\n",
              "      <td>0.539172</td>\n",
              "      <td>0.734283</td>\n",
              "      <td>2.210173</td>\n",
              "      <td>2.257679</td>\n",
              "      <td>0.022982</td>\n",
              "      <td>0.151597</td>\n",
              "    </tr>\n",
              "    <tr>\n",
              "      <th>RIO GRANDE DO NORTE</th>\n",
              "      <td>57715.740127</td>\n",
              "      <td>42632.0</td>\n",
              "      <td>5.205031e+08</td>\n",
              "      <td>22814.537039</td>\n",
              "      <td>18.584713</td>\n",
              "      <td>19</td>\n",
              "      <td>39.232929</td>\n",
              "      <td>6.263620</td>\n",
              "      <td>1.972369</td>\n",
              "      <td>1.9060</td>\n",
              "      <td>0.366810</td>\n",
              "      <td>0.605648</td>\n",
              "      <td>0.036466</td>\n",
              "      <td>0.026</td>\n",
              "      <td>0.001002</td>\n",
              "      <td>0.031654</td>\n",
              "      <td>6.500637</td>\n",
              "      <td>6.0</td>\n",
              "      <td>11.860012</td>\n",
              "      <td>3.443837</td>\n",
              "      <td>2011.433121</td>\n",
              "      <td>2011</td>\n",
              "      <td>19.256044</td>\n",
              "      <td>4.388171</td>\n",
              "      <td>0.067424</td>\n",
              "      <td>0.052</td>\n",
              "      <td>0.002372</td>\n",
              "      <td>0.048700</td>\n",
              "      <td>1.877107</td>\n",
              "      <td>1.8600</td>\n",
              "      <td>0.376603</td>\n",
              "      <td>0.613680</td>\n",
              "      <td>2.096795</td>\n",
              "      <td>1.9900</td>\n",
              "      <td>0.400292</td>\n",
              "      <td>0.632686</td>\n",
              "      <td>1.239456</td>\n",
              "      <td>1.278754</td>\n",
              "      <td>0.029216</td>\n",
              "      <td>0.170926</td>\n",
              "    </tr>\n",
              "    <tr>\n",
              "      <th>RIO GRANDE DO SUL</th>\n",
              "      <td>57720.473885</td>\n",
              "      <td>42639.0</td>\n",
              "      <td>5.203697e+08</td>\n",
              "      <td>22811.612531</td>\n",
              "      <td>20.985987</td>\n",
              "      <td>20</td>\n",
              "      <td>64.939854</td>\n",
              "      <td>8.058527</td>\n",
              "      <td>2.043437</td>\n",
              "      <td>1.9040</td>\n",
              "      <td>0.292082</td>\n",
              "      <td>0.540446</td>\n",
              "      <td>0.037335</td>\n",
              "      <td>0.037</td>\n",
              "      <td>0.000231</td>\n",
              "      <td>0.015205</td>\n",
              "      <td>6.500637</td>\n",
              "      <td>6.0</td>\n",
              "      <td>11.860012</td>\n",
              "      <td>3.443837</td>\n",
              "      <td>2011.433121</td>\n",
              "      <td>2011</td>\n",
              "      <td>19.256044</td>\n",
              "      <td>4.388171</td>\n",
              "      <td>0.078476</td>\n",
              "      <td>0.074</td>\n",
              "      <td>0.001705</td>\n",
              "      <td>0.041292</td>\n",
              "      <td>1.947059</td>\n",
              "      <td>1.8790</td>\n",
              "      <td>0.219391</td>\n",
              "      <td>0.468392</td>\n",
              "      <td>2.268738</td>\n",
              "      <td>2.0990</td>\n",
              "      <td>0.368951</td>\n",
              "      <td>0.607413</td>\n",
              "      <td>1.287963</td>\n",
              "      <td>1.301030</td>\n",
              "      <td>0.031866</td>\n",
              "      <td>0.178509</td>\n",
              "    </tr>\n",
              "    <tr>\n",
              "      <th>RONDONIA</th>\n",
              "      <td>39516.333333</td>\n",
              "      <td>40634.0</td>\n",
              "      <td>3.907336e+06</td>\n",
              "      <td>1976.698342</td>\n",
              "      <td>2.000000</td>\n",
              "      <td>2</td>\n",
              "      <td>1.000000</td>\n",
              "      <td>1.000000</td>\n",
              "      <td>2.192333</td>\n",
              "      <td>2.6630</td>\n",
              "      <td>0.710789</td>\n",
              "      <td>0.843083</td>\n",
              "      <td>0.014333</td>\n",
              "      <td>0.009</td>\n",
              "      <td>0.000310</td>\n",
              "      <td>0.017616</td>\n",
              "      <td>8.333333</td>\n",
              "      <td>8.0</td>\n",
              "      <td>0.333333</td>\n",
              "      <td>0.577350</td>\n",
              "      <td>2007.666667</td>\n",
              "      <td>2009</td>\n",
              "      <td>5.333333</td>\n",
              "      <td>2.309401</td>\n",
              "      <td>0.038667</td>\n",
              "      <td>0.024</td>\n",
              "      <td>0.002277</td>\n",
              "      <td>0.047721</td>\n",
              "      <td>2.166000</td>\n",
              "      <td>2.6300</td>\n",
              "      <td>0.672697</td>\n",
              "      <td>0.820181</td>\n",
              "      <td>2.223000</td>\n",
              "      <td>2.6900</td>\n",
              "      <td>0.757237</td>\n",
              "      <td>0.870194</td>\n",
              "      <td>0.259384</td>\n",
              "      <td>0.301030</td>\n",
              "      <td>0.058212</td>\n",
              "      <td>0.241272</td>\n",
              "    </tr>\n",
              "    <tr>\n",
              "      <th>SANTA CATARINA</th>\n",
              "      <td>57721.473885</td>\n",
              "      <td>42640.0</td>\n",
              "      <td>5.203697e+08</td>\n",
              "      <td>22811.612531</td>\n",
              "      <td>28.228025</td>\n",
              "      <td>28</td>\n",
              "      <td>97.992581</td>\n",
              "      <td>9.899120</td>\n",
              "      <td>1.848684</td>\n",
              "      <td>1.8720</td>\n",
              "      <td>0.157085</td>\n",
              "      <td>0.396339</td>\n",
              "      <td>0.031377</td>\n",
              "      <td>0.032</td>\n",
              "      <td>0.000461</td>\n",
              "      <td>0.021468</td>\n",
              "      <td>6.500637</td>\n",
              "      <td>6.0</td>\n",
              "      <td>11.860012</td>\n",
              "      <td>3.443837</td>\n",
              "      <td>2011.433121</td>\n",
              "      <td>2011</td>\n",
              "      <td>19.256044</td>\n",
              "      <td>4.388171</td>\n",
              "      <td>0.063140</td>\n",
              "      <td>0.061</td>\n",
              "      <td>0.002153</td>\n",
              "      <td>0.046404</td>\n",
              "      <td>1.748929</td>\n",
              "      <td>1.7500</td>\n",
              "      <td>0.106883</td>\n",
              "      <td>0.326930</td>\n",
              "      <td>2.038290</td>\n",
              "      <td>2.0590</td>\n",
              "      <td>0.239561</td>\n",
              "      <td>0.489450</td>\n",
              "      <td>1.415273</td>\n",
              "      <td>1.447158</td>\n",
              "      <td>0.037359</td>\n",
              "      <td>0.193285</td>\n",
              "    </tr>\n",
              "    <tr>\n",
              "      <th>SAO PAULO</th>\n",
              "      <td>57720.208917</td>\n",
              "      <td>42637.0</td>\n",
              "      <td>5.204508e+08</td>\n",
              "      <td>22813.390389</td>\n",
              "      <td>95.793631</td>\n",
              "      <td>94</td>\n",
              "      <td>1845.260929</td>\n",
              "      <td>42.956500</td>\n",
              "      <td>1.628559</td>\n",
              "      <td>1.5250</td>\n",
              "      <td>0.194781</td>\n",
              "      <td>0.441340</td>\n",
              "      <td>0.092084</td>\n",
              "      <td>0.090</td>\n",
              "      <td>0.000486</td>\n",
              "      <td>0.022045</td>\n",
              "      <td>6.500637</td>\n",
              "      <td>6.0</td>\n",
              "      <td>11.860012</td>\n",
              "      <td>3.443837</td>\n",
              "      <td>2011.433121</td>\n",
              "      <td>2011</td>\n",
              "      <td>19.256044</td>\n",
              "      <td>4.388171</td>\n",
              "      <td>0.151144</td>\n",
              "      <td>0.149</td>\n",
              "      <td>0.003503</td>\n",
              "      <td>0.059189</td>\n",
              "      <td>1.430862</td>\n",
              "      <td>1.3790</td>\n",
              "      <td>0.154994</td>\n",
              "      <td>0.393692</td>\n",
              "      <td>2.227847</td>\n",
              "      <td>2.2990</td>\n",
              "      <td>0.396619</td>\n",
              "      <td>0.629777</td>\n",
              "      <td>1.934963</td>\n",
              "      <td>1.973128</td>\n",
              "      <td>0.043634</td>\n",
              "      <td>0.208889</td>\n",
              "    </tr>\n",
              "    <tr>\n",
              "      <th>SERGIPE</th>\n",
              "      <td>57567.492327</td>\n",
              "      <td>42608.5</td>\n",
              "      <td>5.165862e+08</td>\n",
              "      <td>22728.532069</td>\n",
              "      <td>9.540921</td>\n",
              "      <td>10</td>\n",
              "      <td>13.009207</td>\n",
              "      <td>3.606828</td>\n",
              "      <td>1.951391</td>\n",
              "      <td>1.8570</td>\n",
              "      <td>0.347820</td>\n",
              "      <td>0.589762</td>\n",
              "      <td>0.026074</td>\n",
              "      <td>0.011</td>\n",
              "      <td>0.001028</td>\n",
              "      <td>0.032070</td>\n",
              "      <td>6.498721</td>\n",
              "      <td>6.0</td>\n",
              "      <td>11.902047</td>\n",
              "      <td>3.449934</td>\n",
              "      <td>2011.409207</td>\n",
              "      <td>2011</td>\n",
              "      <td>19.179326</td>\n",
              "      <td>4.379421</td>\n",
              "      <td>0.050533</td>\n",
              "      <td>0.022</td>\n",
              "      <td>0.003720</td>\n",
              "      <td>0.060996</td>\n",
              "      <td>1.911376</td>\n",
              "      <td>1.7900</td>\n",
              "      <td>0.339258</td>\n",
              "      <td>0.582459</td>\n",
              "      <td>2.076999</td>\n",
              "      <td>1.9440</td>\n",
              "      <td>0.375138</td>\n",
              "      <td>0.612485</td>\n",
              "      <td>0.929558</td>\n",
              "      <td>1.000000</td>\n",
              "      <td>0.058901</td>\n",
              "      <td>0.242696</td>\n",
              "    </tr>\n",
              "    <tr>\n",
              "      <th>TOCANTINS</th>\n",
              "      <td>79059.333333</td>\n",
              "      <td>91918.5</td>\n",
              "      <td>9.767868e+08</td>\n",
              "      <td>31253.588112</td>\n",
              "      <td>1.000000</td>\n",
              "      <td>1</td>\n",
              "      <td>0.000000</td>\n",
              "      <td>0.000000</td>\n",
              "      <td>2.972833</td>\n",
              "      <td>3.2645</td>\n",
              "      <td>0.431695</td>\n",
              "      <td>0.657035</td>\n",
              "      <td>0.000000</td>\n",
              "      <td>0.000</td>\n",
              "      <td>0.000000</td>\n",
              "      <td>0.000000</td>\n",
              "      <td>7.666667</td>\n",
              "      <td>7.5</td>\n",
              "      <td>11.466667</td>\n",
              "      <td>3.386247</td>\n",
              "      <td>2014.666667</td>\n",
              "      <td>2017</td>\n",
              "      <td>27.866667</td>\n",
              "      <td>5.278889</td>\n",
              "      <td>0.000000</td>\n",
              "      <td>0.000</td>\n",
              "      <td>0.000000</td>\n",
              "      <td>0.000000</td>\n",
              "      <td>2.972833</td>\n",
              "      <td>3.2645</td>\n",
              "      <td>0.431695</td>\n",
              "      <td>0.657035</td>\n",
              "      <td>2.972833</td>\n",
              "      <td>3.2645</td>\n",
              "      <td>0.431695</td>\n",
              "      <td>0.657035</td>\n",
              "      <td>0.000000</td>\n",
              "      <td>0.000000</td>\n",
              "      <td>0.000000</td>\n",
              "      <td>0.000000</td>\n",
              "    </tr>\n",
              "  </tbody>\n",
              "</table>\n",
              "</div>"
            ],
            "text/plain": [
              "                       Unnamed: 0           ... numero_posto_pesquisado_log          \n",
              "                             mean   median  ...                         var       std\n",
              "estado                                      ...                                      \n",
              "ACRE                 40882.200000  40854.0  ...                    0.000000  0.000000\n",
              "ALAGOAS              57270.326873  42536.0  ...                    0.076859  0.277235\n",
              "AMAPA                70406.916667  85340.0  ...                    0.000000  0.000000\n",
              "AMAZONAS             57613.495146  42845.5  ...                    0.022601  0.150336\n",
              "BAHIA                57708.935032  42628.0  ...                    0.020024  0.141507\n",
              "CEARA                57709.935032  42629.0  ...                    0.061103  0.247189\n",
              "DISTRITO FEDERAL     68937.333333  41145.0  ...                    0.000000  0.000000\n",
              "ESPIRITO SANTO       57757.256705  42651.0  ...                    0.040306  0.200762\n",
              "GOIAS                65745.655914  67100.5  ...                    0.011651  0.107938\n",
              "MARANHAO             63373.227273  41278.0  ...                    0.007846  0.088577\n",
              "MATO GROSSO          58266.701786  43350.0  ...                    0.046164  0.214857\n",
              "MATO GROSSO DO SUL   57264.359375  42518.5  ...                    0.068677  0.262064\n",
              "MINAS GERAIS         57653.545338  42619.0  ...                    0.167494  0.409261\n",
              "PARA                 44781.105263  41325.0  ...                    0.004769  0.069061\n",
              "PARAIBA              57712.789809  42630.0  ...                    0.064777  0.254513\n",
              "PARANA               57862.767141  42704.0  ...                    0.082712  0.287597\n",
              "PERNAMBUCO           57714.217834  42631.0  ...                    0.052139  0.228339\n",
              "PIAUI                41429.777778  36935.0  ...                    0.000000  0.000000\n",
              "RIO DE JANEIRO       57717.917197  42636.0  ...                    0.022982  0.151597\n",
              "RIO GRANDE DO NORTE  57715.740127  42632.0  ...                    0.029216  0.170926\n",
              "RIO GRANDE DO SUL    57720.473885  42639.0  ...                    0.031866  0.178509\n",
              "RONDONIA             39516.333333  40634.0  ...                    0.058212  0.241272\n",
              "SANTA CATARINA       57721.473885  42640.0  ...                    0.037359  0.193285\n",
              "SAO PAULO            57720.208917  42637.0  ...                    0.043634  0.208889\n",
              "SERGIPE              57567.492327  42608.5  ...                    0.058901  0.242696\n",
              "TOCANTINS            79059.333333  91918.5  ...                    0.000000  0.000000\n",
              "\n",
              "[26 rows x 40 columns]"
            ]
          },
          "metadata": {},
          "execution_count": 34
        }
      ]
    },
    {
      "cell_type": "code",
      "metadata": {
        "id": "I13ODXfu46Y4"
      },
      "source": [
        "gas_prices_brazil_df[gas_prices_brazil_df['produto']=='ETANOL HIDRATADO'].groupby(['estado']).agg(['mean','median', 'var','std'])\n"
      ],
      "execution_count": null,
      "outputs": []
    },
    {
      "cell_type": "code",
      "metadata": {
        "colab": {
          "base_uri": "https://localhost:8080/",
          "height": 303
        },
        "id": "l1dDIcMl5ZVp",
        "outputId": "c8a3dbcd-9186-4f70-edf1-8032b2565fb2"
      },
      "source": [
        "gas_prices_brazil_df[gas_prices_brazil_df['produto']=='GNV'].groupby(['regiao']).agg(['mean','median', 'var','std'])\n"
      ],
      "execution_count": 35,
      "outputs": [
        {
          "output_type": "execute_result",
          "data": {
            "text/html": [
              "<div>\n",
              "<style scoped>\n",
              "    .dataframe tbody tr th:only-of-type {\n",
              "        vertical-align: middle;\n",
              "    }\n",
              "\n",
              "    .dataframe tbody tr th {\n",
              "        vertical-align: top;\n",
              "    }\n",
              "\n",
              "    .dataframe thead tr th {\n",
              "        text-align: left;\n",
              "    }\n",
              "\n",
              "    .dataframe thead tr:last-of-type th {\n",
              "        text-align: right;\n",
              "    }\n",
              "</style>\n",
              "<table border=\"1\" class=\"dataframe\">\n",
              "  <thead>\n",
              "    <tr>\n",
              "      <th></th>\n",
              "      <th colspan=\"4\" halign=\"left\">Unnamed: 0</th>\n",
              "      <th colspan=\"4\" halign=\"left\">numero_posto_pesquisado</th>\n",
              "      <th colspan=\"4\" halign=\"left\">preco_medio_revenda</th>\n",
              "      <th colspan=\"4\" halign=\"left\">coef_variacao_revenda</th>\n",
              "      <th colspan=\"4\" halign=\"left\">mes</th>\n",
              "      <th colspan=\"4\" halign=\"left\">ano</th>\n",
              "      <th colspan=\"4\" halign=\"left\">desvio_padrao_revenda</th>\n",
              "      <th colspan=\"4\" halign=\"left\">preco_minimo_revenda</th>\n",
              "      <th colspan=\"4\" halign=\"left\">preco_maximo_revenda</th>\n",
              "      <th colspan=\"4\" halign=\"left\">numero_posto_pesquisado_log</th>\n",
              "    </tr>\n",
              "    <tr>\n",
              "      <th></th>\n",
              "      <th>mean</th>\n",
              "      <th>median</th>\n",
              "      <th>var</th>\n",
              "      <th>std</th>\n",
              "      <th>mean</th>\n",
              "      <th>median</th>\n",
              "      <th>var</th>\n",
              "      <th>std</th>\n",
              "      <th>mean</th>\n",
              "      <th>median</th>\n",
              "      <th>var</th>\n",
              "      <th>std</th>\n",
              "      <th>mean</th>\n",
              "      <th>median</th>\n",
              "      <th>var</th>\n",
              "      <th>std</th>\n",
              "      <th>mean</th>\n",
              "      <th>median</th>\n",
              "      <th>var</th>\n",
              "      <th>std</th>\n",
              "      <th>mean</th>\n",
              "      <th>median</th>\n",
              "      <th>var</th>\n",
              "      <th>std</th>\n",
              "      <th>mean</th>\n",
              "      <th>median</th>\n",
              "      <th>var</th>\n",
              "      <th>std</th>\n",
              "      <th>mean</th>\n",
              "      <th>median</th>\n",
              "      <th>var</th>\n",
              "      <th>std</th>\n",
              "      <th>mean</th>\n",
              "      <th>median</th>\n",
              "      <th>var</th>\n",
              "      <th>std</th>\n",
              "      <th>mean</th>\n",
              "      <th>median</th>\n",
              "      <th>var</th>\n",
              "      <th>std</th>\n",
              "    </tr>\n",
              "    <tr>\n",
              "      <th>regiao</th>\n",
              "      <th></th>\n",
              "      <th></th>\n",
              "      <th></th>\n",
              "      <th></th>\n",
              "      <th></th>\n",
              "      <th></th>\n",
              "      <th></th>\n",
              "      <th></th>\n",
              "      <th></th>\n",
              "      <th></th>\n",
              "      <th></th>\n",
              "      <th></th>\n",
              "      <th></th>\n",
              "      <th></th>\n",
              "      <th></th>\n",
              "      <th></th>\n",
              "      <th></th>\n",
              "      <th></th>\n",
              "      <th></th>\n",
              "      <th></th>\n",
              "      <th></th>\n",
              "      <th></th>\n",
              "      <th></th>\n",
              "      <th></th>\n",
              "      <th></th>\n",
              "      <th></th>\n",
              "      <th></th>\n",
              "      <th></th>\n",
              "      <th></th>\n",
              "      <th></th>\n",
              "      <th></th>\n",
              "      <th></th>\n",
              "      <th></th>\n",
              "      <th></th>\n",
              "      <th></th>\n",
              "      <th></th>\n",
              "      <th></th>\n",
              "      <th></th>\n",
              "      <th></th>\n",
              "      <th></th>\n",
              "    </tr>\n",
              "  </thead>\n",
              "  <tbody>\n",
              "    <tr>\n",
              "      <th>CENTRO OESTE</th>\n",
              "      <td>58737.694682</td>\n",
              "      <td>43514.0</td>\n",
              "      <td>4.400414e+08</td>\n",
              "      <td>20977.163013</td>\n",
              "      <td>2.880499</td>\n",
              "      <td>2</td>\n",
              "      <td>3.779403</td>\n",
              "      <td>1.944069</td>\n",
              "      <td>2.004153</td>\n",
              "      <td>1.955</td>\n",
              "      <td>0.209582</td>\n",
              "      <td>0.457802</td>\n",
              "      <td>0.012368</td>\n",
              "      <td>0.003</td>\n",
              "      <td>0.000565</td>\n",
              "      <td>0.023778</td>\n",
              "      <td>6.456336</td>\n",
              "      <td>6</td>\n",
              "      <td>11.885576</td>\n",
              "      <td>3.447546</td>\n",
              "      <td>2011.953381</td>\n",
              "      <td>2012</td>\n",
              "      <td>15.229757</td>\n",
              "      <td>3.902532</td>\n",
              "      <td>0.025300</td>\n",
              "      <td>0.005</td>\n",
              "      <td>0.002332</td>\n",
              "      <td>0.048291</td>\n",
              "      <td>1.980121</td>\n",
              "      <td>1.940</td>\n",
              "      <td>0.203059</td>\n",
              "      <td>0.450621</td>\n",
              "      <td>2.025790</td>\n",
              "      <td>1.989</td>\n",
              "      <td>0.211929</td>\n",
              "      <td>0.460357</td>\n",
              "      <td>0.364253</td>\n",
              "      <td>0.301030</td>\n",
              "      <td>0.083973</td>\n",
              "      <td>0.289781</td>\n",
              "    </tr>\n",
              "    <tr>\n",
              "      <th>NORDESTE</th>\n",
              "      <td>57442.697220</td>\n",
              "      <td>42534.0</td>\n",
              "      <td>5.186561e+08</td>\n",
              "      <td>22774.022872</td>\n",
              "      <td>16.719462</td>\n",
              "      <td>15</td>\n",
              "      <td>92.472056</td>\n",
              "      <td>9.616239</td>\n",
              "      <td>1.925318</td>\n",
              "      <td>1.821</td>\n",
              "      <td>0.308228</td>\n",
              "      <td>0.555183</td>\n",
              "      <td>0.031211</td>\n",
              "      <td>0.023</td>\n",
              "      <td>0.000936</td>\n",
              "      <td>0.030588</td>\n",
              "      <td>6.496502</td>\n",
              "      <td>6</td>\n",
              "      <td>11.851396</td>\n",
              "      <td>3.442586</td>\n",
              "      <td>2011.355516</td>\n",
              "      <td>2011</td>\n",
              "      <td>19.486790</td>\n",
              "      <td>4.414384</td>\n",
              "      <td>0.060461</td>\n",
              "      <td>0.044</td>\n",
              "      <td>0.003554</td>\n",
              "      <td>0.059619</td>\n",
              "      <td>1.865387</td>\n",
              "      <td>1.769</td>\n",
              "      <td>0.296644</td>\n",
              "      <td>0.544650</td>\n",
              "      <td>2.077530</td>\n",
              "      <td>1.990</td>\n",
              "      <td>0.353898</td>\n",
              "      <td>0.594893</td>\n",
              "      <td>1.128335</td>\n",
              "      <td>1.176091</td>\n",
              "      <td>0.106474</td>\n",
              "      <td>0.326303</td>\n",
              "    </tr>\n",
              "    <tr>\n",
              "      <th>NORTE</th>\n",
              "      <td>57395.623632</td>\n",
              "      <td>42551.0</td>\n",
              "      <td>4.877093e+08</td>\n",
              "      <td>22084.140636</td>\n",
              "      <td>1.275711</td>\n",
              "      <td>1</td>\n",
              "      <td>0.318553</td>\n",
              "      <td>0.564405</td>\n",
              "      <td>2.000190</td>\n",
              "      <td>1.850</td>\n",
              "      <td>0.362845</td>\n",
              "      <td>0.602366</td>\n",
              "      <td>0.004575</td>\n",
              "      <td>0.000</td>\n",
              "      <td>0.000931</td>\n",
              "      <td>0.030509</td>\n",
              "      <td>6.516411</td>\n",
              "      <td>6</td>\n",
              "      <td>12.057296</td>\n",
              "      <td>3.472362</td>\n",
              "      <td>2011.652079</td>\n",
              "      <td>2011</td>\n",
              "      <td>15.889650</td>\n",
              "      <td>3.986182</td>\n",
              "      <td>0.009245</td>\n",
              "      <td>0.000</td>\n",
              "      <td>0.002693</td>\n",
              "      <td>0.051896</td>\n",
              "      <td>1.995431</td>\n",
              "      <td>1.850</td>\n",
              "      <td>0.359642</td>\n",
              "      <td>0.599702</td>\n",
              "      <td>2.009260</td>\n",
              "      <td>1.850</td>\n",
              "      <td>0.368655</td>\n",
              "      <td>0.607170</td>\n",
              "      <td>0.076312</td>\n",
              "      <td>0.000000</td>\n",
              "      <td>0.021510</td>\n",
              "      <td>0.146664</td>\n",
              "    </tr>\n",
              "    <tr>\n",
              "      <th>SUDESTE</th>\n",
              "      <td>57712.240753</td>\n",
              "      <td>42635.5</td>\n",
              "      <td>5.199503e+08</td>\n",
              "      <td>22802.419206</td>\n",
              "      <td>74.804528</td>\n",
              "      <td>47</td>\n",
              "      <td>5399.095750</td>\n",
              "      <td>73.478539</td>\n",
              "      <td>1.779684</td>\n",
              "      <td>1.694</td>\n",
              "      <td>0.257337</td>\n",
              "      <td>0.507284</td>\n",
              "      <td>0.073378</td>\n",
              "      <td>0.080</td>\n",
              "      <td>0.001063</td>\n",
              "      <td>0.032606</td>\n",
              "      <td>6.497130</td>\n",
              "      <td>6</td>\n",
              "      <td>11.850709</td>\n",
              "      <td>3.442486</td>\n",
              "      <td>2011.432079</td>\n",
              "      <td>2011</td>\n",
              "      <td>19.247698</td>\n",
              "      <td>4.387220</td>\n",
              "      <td>0.130339</td>\n",
              "      <td>0.137</td>\n",
              "      <td>0.004502</td>\n",
              "      <td>0.067095</td>\n",
              "      <td>1.620741</td>\n",
              "      <td>1.499</td>\n",
              "      <td>0.256144</td>\n",
              "      <td>0.506107</td>\n",
              "      <td>2.173035</td>\n",
              "      <td>2.099</td>\n",
              "      <td>0.393989</td>\n",
              "      <td>0.627685</td>\n",
              "      <td>1.575084</td>\n",
              "      <td>1.672098</td>\n",
              "      <td>0.331143</td>\n",
              "      <td>0.575450</td>\n",
              "    </tr>\n",
              "    <tr>\n",
              "      <th>SUL</th>\n",
              "      <td>57767.754161</td>\n",
              "      <td>42657.0</td>\n",
              "      <td>5.201227e+08</td>\n",
              "      <td>22806.197838</td>\n",
              "      <td>19.042680</td>\n",
              "      <td>17</td>\n",
              "      <td>132.194591</td>\n",
              "      <td>11.497591</td>\n",
              "      <td>1.907944</td>\n",
              "      <td>1.800</td>\n",
              "      <td>0.250694</td>\n",
              "      <td>0.500694</td>\n",
              "      <td>0.036284</td>\n",
              "      <td>0.034</td>\n",
              "      <td>0.000806</td>\n",
              "      <td>0.028398</td>\n",
              "      <td>6.495945</td>\n",
              "      <td>6</td>\n",
              "      <td>11.882029</td>\n",
              "      <td>3.447032</td>\n",
              "      <td>2011.442168</td>\n",
              "      <td>2011</td>\n",
              "      <td>19.262986</td>\n",
              "      <td>4.388962</td>\n",
              "      <td>0.073314</td>\n",
              "      <td>0.066</td>\n",
              "      <td>0.003637</td>\n",
              "      <td>0.060311</td>\n",
              "      <td>1.823597</td>\n",
              "      <td>1.730</td>\n",
              "      <td>0.202990</td>\n",
              "      <td>0.450544</td>\n",
              "      <td>2.097937</td>\n",
              "      <td>1.999</td>\n",
              "      <td>0.337015</td>\n",
              "      <td>0.580530</td>\n",
              "      <td>1.172510</td>\n",
              "      <td>1.230449</td>\n",
              "      <td>0.118338</td>\n",
              "      <td>0.344002</td>\n",
              "    </tr>\n",
              "  </tbody>\n",
              "</table>\n",
              "</div>"
            ],
            "text/plain": [
              "                Unnamed: 0                         ... numero_posto_pesquisado_log                    \n",
              "                      mean   median           var  ...                      median       var       std\n",
              "regiao                                             ...                                                \n",
              "CENTRO OESTE  58737.694682  43514.0  4.400414e+08  ...                    0.301030  0.083973  0.289781\n",
              "NORDESTE      57442.697220  42534.0  5.186561e+08  ...                    1.176091  0.106474  0.326303\n",
              "NORTE         57395.623632  42551.0  4.877093e+08  ...                    0.000000  0.021510  0.146664\n",
              "SUDESTE       57712.240753  42635.5  5.199503e+08  ...                    1.672098  0.331143  0.575450\n",
              "SUL           57767.754161  42657.0  5.201227e+08  ...                    1.230449  0.118338  0.344002\n",
              "\n",
              "[5 rows x 40 columns]"
            ]
          },
          "metadata": {},
          "execution_count": 35
        }
      ]
    },
    {
      "cell_type": "code",
      "metadata": {
        "colab": {
          "base_uri": "https://localhost:8080/",
          "height": 303
        },
        "id": "rKQ384dH5ZVr",
        "outputId": "f79a9268-0059-4eb9-aa7c-c7414b5ce86e"
      },
      "source": [
        "gas_prices_brazil_df[gas_prices_brazil_df['produto']=='ETANOL HIDRATADO'].groupby(['regiao']).agg(['mean','median', 'var','std'])\n"
      ],
      "execution_count": 36,
      "outputs": [
        {
          "output_type": "execute_result",
          "data": {
            "text/html": [
              "<div>\n",
              "<style scoped>\n",
              "    .dataframe tbody tr th:only-of-type {\n",
              "        vertical-align: middle;\n",
              "    }\n",
              "\n",
              "    .dataframe tbody tr th {\n",
              "        vertical-align: top;\n",
              "    }\n",
              "\n",
              "    .dataframe thead tr th {\n",
              "        text-align: left;\n",
              "    }\n",
              "\n",
              "    .dataframe thead tr:last-of-type th {\n",
              "        text-align: right;\n",
              "    }\n",
              "</style>\n",
              "<table border=\"1\" class=\"dataframe\">\n",
              "  <thead>\n",
              "    <tr>\n",
              "      <th></th>\n",
              "      <th colspan=\"4\" halign=\"left\">Unnamed: 0</th>\n",
              "      <th colspan=\"4\" halign=\"left\">numero_posto_pesquisado</th>\n",
              "      <th colspan=\"4\" halign=\"left\">preco_medio_revenda</th>\n",
              "      <th colspan=\"4\" halign=\"left\">coef_variacao_revenda</th>\n",
              "      <th colspan=\"4\" halign=\"left\">mes</th>\n",
              "      <th colspan=\"4\" halign=\"left\">ano</th>\n",
              "      <th colspan=\"4\" halign=\"left\">desvio_padrao_revenda</th>\n",
              "      <th colspan=\"4\" halign=\"left\">preco_minimo_revenda</th>\n",
              "      <th colspan=\"4\" halign=\"left\">preco_maximo_revenda</th>\n",
              "      <th colspan=\"4\" halign=\"left\">numero_posto_pesquisado_log</th>\n",
              "    </tr>\n",
              "    <tr>\n",
              "      <th></th>\n",
              "      <th>mean</th>\n",
              "      <th>median</th>\n",
              "      <th>var</th>\n",
              "      <th>std</th>\n",
              "      <th>mean</th>\n",
              "      <th>median</th>\n",
              "      <th>var</th>\n",
              "      <th>std</th>\n",
              "      <th>mean</th>\n",
              "      <th>median</th>\n",
              "      <th>var</th>\n",
              "      <th>std</th>\n",
              "      <th>mean</th>\n",
              "      <th>median</th>\n",
              "      <th>var</th>\n",
              "      <th>std</th>\n",
              "      <th>mean</th>\n",
              "      <th>median</th>\n",
              "      <th>var</th>\n",
              "      <th>std</th>\n",
              "      <th>mean</th>\n",
              "      <th>median</th>\n",
              "      <th>var</th>\n",
              "      <th>std</th>\n",
              "      <th>mean</th>\n",
              "      <th>median</th>\n",
              "      <th>var</th>\n",
              "      <th>std</th>\n",
              "      <th>mean</th>\n",
              "      <th>median</th>\n",
              "      <th>var</th>\n",
              "      <th>std</th>\n",
              "      <th>mean</th>\n",
              "      <th>median</th>\n",
              "      <th>var</th>\n",
              "      <th>std</th>\n",
              "      <th>mean</th>\n",
              "      <th>median</th>\n",
              "      <th>var</th>\n",
              "      <th>std</th>\n",
              "    </tr>\n",
              "    <tr>\n",
              "      <th>regiao</th>\n",
              "      <th></th>\n",
              "      <th></th>\n",
              "      <th></th>\n",
              "      <th></th>\n",
              "      <th></th>\n",
              "      <th></th>\n",
              "      <th></th>\n",
              "      <th></th>\n",
              "      <th></th>\n",
              "      <th></th>\n",
              "      <th></th>\n",
              "      <th></th>\n",
              "      <th></th>\n",
              "      <th></th>\n",
              "      <th></th>\n",
              "      <th></th>\n",
              "      <th></th>\n",
              "      <th></th>\n",
              "      <th></th>\n",
              "      <th></th>\n",
              "      <th></th>\n",
              "      <th></th>\n",
              "      <th></th>\n",
              "      <th></th>\n",
              "      <th></th>\n",
              "      <th></th>\n",
              "      <th></th>\n",
              "      <th></th>\n",
              "      <th></th>\n",
              "      <th></th>\n",
              "      <th></th>\n",
              "      <th></th>\n",
              "      <th></th>\n",
              "      <th></th>\n",
              "      <th></th>\n",
              "      <th></th>\n",
              "      <th></th>\n",
              "      <th></th>\n",
              "      <th></th>\n",
              "      <th></th>\n",
              "    </tr>\n",
              "  </thead>\n",
              "  <tbody>\n",
              "    <tr>\n",
              "      <th>CENTRO OESTE</th>\n",
              "      <td>38402.603822</td>\n",
              "      <td>10580.5</td>\n",
              "      <td>1.488575e+09</td>\n",
              "      <td>38582.060876</td>\n",
              "      <td>154.982484</td>\n",
              "      <td>140.0</td>\n",
              "      <td>6394.021675</td>\n",
              "      <td>79.962627</td>\n",
              "      <td>2.135950</td>\n",
              "      <td>2.0010</td>\n",
              "      <td>0.314893</td>\n",
              "      <td>0.561154</td>\n",
              "      <td>0.055482</td>\n",
              "      <td>0.053</td>\n",
              "      <td>0.000980</td>\n",
              "      <td>0.031299</td>\n",
              "      <td>6.500637</td>\n",
              "      <td>6</td>\n",
              "      <td>11.848678</td>\n",
              "      <td>3.442191</td>\n",
              "      <td>2011.433121</td>\n",
              "      <td>2011</td>\n",
              "      <td>19.237641</td>\n",
              "      <td>4.386074</td>\n",
              "      <td>0.111622</td>\n",
              "      <td>0.1110</td>\n",
              "      <td>0.002991</td>\n",
              "      <td>0.054694</td>\n",
              "      <td>1.927421</td>\n",
              "      <td>1.8000</td>\n",
              "      <td>0.302041</td>\n",
              "      <td>0.549582</td>\n",
              "      <td>2.432146</td>\n",
              "      <td>2.290</td>\n",
              "      <td>0.350445</td>\n",
              "      <td>0.591984</td>\n",
              "      <td>2.126390</td>\n",
              "      <td>2.146128</td>\n",
              "      <td>0.064230</td>\n",
              "      <td>0.253437</td>\n",
              "    </tr>\n",
              "    <tr>\n",
              "      <th>NORDESTE</th>\n",
              "      <td>38399.334088</td>\n",
              "      <td>10586.5</td>\n",
              "      <td>1.487905e+09</td>\n",
              "      <td>38573.365258</td>\n",
              "      <td>153.857022</td>\n",
              "      <td>109.0</td>\n",
              "      <td>14464.839246</td>\n",
              "      <td>120.269860</td>\n",
              "      <td>2.322075</td>\n",
              "      <td>2.1880</td>\n",
              "      <td>0.366171</td>\n",
              "      <td>0.605121</td>\n",
              "      <td>0.052014</td>\n",
              "      <td>0.049</td>\n",
              "      <td>0.000415</td>\n",
              "      <td>0.020382</td>\n",
              "      <td>6.500849</td>\n",
              "      <td>6</td>\n",
              "      <td>11.847939</td>\n",
              "      <td>3.442084</td>\n",
              "      <td>2011.432191</td>\n",
              "      <td>2011</td>\n",
              "      <td>19.230854</td>\n",
              "      <td>4.385300</td>\n",
              "      <td>0.115420</td>\n",
              "      <td>0.1110</td>\n",
              "      <td>0.001657</td>\n",
              "      <td>0.040703</td>\n",
              "      <td>2.101505</td>\n",
              "      <td>1.9600</td>\n",
              "      <td>0.350412</td>\n",
              "      <td>0.591956</td>\n",
              "      <td>2.655658</td>\n",
              "      <td>2.490</td>\n",
              "      <td>0.420732</td>\n",
              "      <td>0.648638</td>\n",
              "      <td>2.062281</td>\n",
              "      <td>2.037426</td>\n",
              "      <td>0.111724</td>\n",
              "      <td>0.334252</td>\n",
              "    </tr>\n",
              "    <tr>\n",
              "      <th>NORTE</th>\n",
              "      <td>37573.257032</td>\n",
              "      <td>10434.5</td>\n",
              "      <td>1.461730e+09</td>\n",
              "      <td>38232.582714</td>\n",
              "      <td>46.100296</td>\n",
              "      <td>39.0</td>\n",
              "      <td>1042.524087</td>\n",
              "      <td>32.288142</td>\n",
              "      <td>2.530796</td>\n",
              "      <td>2.3430</td>\n",
              "      <td>0.429576</td>\n",
              "      <td>0.655421</td>\n",
              "      <td>0.049130</td>\n",
              "      <td>0.048</td>\n",
              "      <td>0.000686</td>\n",
              "      <td>0.026201</td>\n",
              "      <td>6.499445</td>\n",
              "      <td>6</td>\n",
              "      <td>11.858412</td>\n",
              "      <td>3.443604</td>\n",
              "      <td>2011.346040</td>\n",
              "      <td>2011</td>\n",
              "      <td>18.947419</td>\n",
              "      <td>4.352863</td>\n",
              "      <td>0.120423</td>\n",
              "      <td>0.1150</td>\n",
              "      <td>0.004604</td>\n",
              "      <td>0.067850</td>\n",
              "      <td>2.355618</td>\n",
              "      <td>2.1800</td>\n",
              "      <td>0.413230</td>\n",
              "      <td>0.642829</td>\n",
              "      <td>2.857434</td>\n",
              "      <td>2.700</td>\n",
              "      <td>0.501839</td>\n",
              "      <td>0.708406</td>\n",
              "      <td>1.487886</td>\n",
              "      <td>1.591065</td>\n",
              "      <td>0.227600</td>\n",
              "      <td>0.477074</td>\n",
              "    </tr>\n",
              "    <tr>\n",
              "      <th>SUDESTE</th>\n",
              "      <td>38416.782803</td>\n",
              "      <td>10600.5</td>\n",
              "      <td>1.488078e+09</td>\n",
              "      <td>38575.609846</td>\n",
              "      <td>1037.788217</td>\n",
              "      <td>729.0</td>\n",
              "      <td>865182.174630</td>\n",
              "      <td>930.151694</td>\n",
              "      <td>2.164832</td>\n",
              "      <td>2.0435</td>\n",
              "      <td>0.425567</td>\n",
              "      <td>0.652355</td>\n",
              "      <td>0.064103</td>\n",
              "      <td>0.063</td>\n",
              "      <td>0.000278</td>\n",
              "      <td>0.016659</td>\n",
              "      <td>6.500637</td>\n",
              "      <td>6</td>\n",
              "      <td>11.848678</td>\n",
              "      <td>3.442191</td>\n",
              "      <td>2011.433121</td>\n",
              "      <td>2011</td>\n",
              "      <td>19.237641</td>\n",
              "      <td>4.386074</td>\n",
              "      <td>0.134500</td>\n",
              "      <td>0.1255</td>\n",
              "      <td>0.001825</td>\n",
              "      <td>0.042720</td>\n",
              "      <td>1.811892</td>\n",
              "      <td>1.7495</td>\n",
              "      <td>0.354770</td>\n",
              "      <td>0.595626</td>\n",
              "      <td>2.631190</td>\n",
              "      <td>2.499</td>\n",
              "      <td>0.525566</td>\n",
              "      <td>0.724960</td>\n",
              "      <td>2.811970</td>\n",
              "      <td>2.862728</td>\n",
              "      <td>0.221824</td>\n",
              "      <td>0.470982</td>\n",
              "    </tr>\n",
              "    <tr>\n",
              "      <th>SUL</th>\n",
              "      <td>38395.100255</td>\n",
              "      <td>10603.5</td>\n",
              "      <td>1.487366e+09</td>\n",
              "      <td>38566.380167</td>\n",
              "      <td>454.700510</td>\n",
              "      <td>500.5</td>\n",
              "      <td>32242.809970</td>\n",
              "      <td>179.562830</td>\n",
              "      <td>2.268864</td>\n",
              "      <td>2.1140</td>\n",
              "      <td>0.495007</td>\n",
              "      <td>0.703567</td>\n",
              "      <td>0.055959</td>\n",
              "      <td>0.053</td>\n",
              "      <td>0.000239</td>\n",
              "      <td>0.015455</td>\n",
              "      <td>6.501274</td>\n",
              "      <td>6</td>\n",
              "      <td>11.854015</td>\n",
              "      <td>3.442966</td>\n",
              "      <td>2011.430331</td>\n",
              "      <td>2011</td>\n",
              "      <td>19.229526</td>\n",
              "      <td>4.385148</td>\n",
              "      <td>0.123692</td>\n",
              "      <td>0.1130</td>\n",
              "      <td>0.001848</td>\n",
              "      <td>0.042988</td>\n",
              "      <td>1.947870</td>\n",
              "      <td>1.8380</td>\n",
              "      <td>0.416157</td>\n",
              "      <td>0.645103</td>\n",
              "      <td>2.673207</td>\n",
              "      <td>2.498</td>\n",
              "      <td>0.638403</td>\n",
              "      <td>0.799002</td>\n",
              "      <td>2.612873</td>\n",
              "      <td>2.699404</td>\n",
              "      <td>0.047238</td>\n",
              "      <td>0.217343</td>\n",
              "    </tr>\n",
              "  </tbody>\n",
              "</table>\n",
              "</div>"
            ],
            "text/plain": [
              "                Unnamed: 0                         ... numero_posto_pesquisado_log                    \n",
              "                      mean   median           var  ...                      median       var       std\n",
              "regiao                                             ...                                                \n",
              "CENTRO OESTE  38402.603822  10580.5  1.488575e+09  ...                    2.146128  0.064230  0.253437\n",
              "NORDESTE      38399.334088  10586.5  1.487905e+09  ...                    2.037426  0.111724  0.334252\n",
              "NORTE         37573.257032  10434.5  1.461730e+09  ...                    1.591065  0.227600  0.477074\n",
              "SUDESTE       38416.782803  10600.5  1.488078e+09  ...                    2.862728  0.221824  0.470982\n",
              "SUL           38395.100255  10603.5  1.487366e+09  ...                    2.699404  0.047238  0.217343\n",
              "\n",
              "[5 rows x 40 columns]"
            ]
          },
          "metadata": {},
          "execution_count": 36
        }
      ]
    },
    {
      "cell_type": "code",
      "metadata": {
        "colab": {
          "base_uri": "https://localhost:8080/",
          "height": 731
        },
        "id": "XB8KLU6q51vk",
        "outputId": "0eb6f90f-6ce3-408e-a74b-591450c95b6e"
      },
      "source": [
        "gas_prices_brazil_df[gas_prices_brazil_df['produto']=='GNV'].groupby(['estado'])['numero_posto_pesquisado'].median().sort_values(ascending=False).plot.bar(figsize=(20,10))"
      ],
      "execution_count": 38,
      "outputs": [
        {
          "output_type": "execute_result",
          "data": {
            "text/plain": [
              "<matplotlib.axes._subplots.AxesSubplot at 0x7fdeb20bc8d0>"
            ]
          },
          "metadata": {},
          "execution_count": 38
        },
        {
          "output_type": "display_data",
          "data": {
            "image/png": "[encoded data removed]",
            "text/plain": [
              "<Figure size 1440x720 with 1 Axes>"
            ]
          },
          "metadata": {
            "needs_background": "light"
          }
        }
      ]
    },
    {
      "cell_type": "code",
      "metadata": {
        "colab": {
          "base_uri": "https://localhost:8080/",
          "height": 731
        },
        "id": "XJ0RqpGj6ELe",
        "outputId": "e7a84f5a-630e-46c7-f8f1-98a53537e3dc"
      },
      "source": [
        "gas_prices_brazil_df[gas_prices_brazil_df['produto']=='ETANOL HIDRATADO'].groupby(['estado'])['numero_posto_pesquisado'].median().sort_values(ascending=False).plot.bar(figsize=(20,10))"
      ],
      "execution_count": 39,
      "outputs": [
        {
          "output_type": "execute_result",
          "data": {
            "text/plain": [
              "<matplotlib.axes._subplots.AxesSubplot at 0x7fdeb1fef050>"
            ]
          },
          "metadata": {},
          "execution_count": 39
        },
        {
          "output_type": "display_data",
          "data": {
            "image/png": "[encoded data removed]",
            "text/plain": [
              "<Figure size 1440x720 with 1 Axes>"
            ]
          },
          "metadata": {
            "needs_background": "light"
          }
        }
      ]
    },
    {
      "cell_type": "code",
      "metadata": {
        "colab": {
          "base_uri": "https://localhost:8080/",
          "height": 689
        },
        "id": "6pbFPSG76sTD",
        "outputId": "9e8c3ba1-fd58-420e-8e26-9b21f6c52f33"
      },
      "source": [
        "gas_prices_brazil_df[gas_prices_brazil_df['produto']=='ETANOL HIDRATADO'].groupby(['regiao'])['preco_medio_revenda'].median().sort_values(ascending=False).plot.bar(figsize=(20,10))"
      ],
      "execution_count": 40,
      "outputs": [
        {
          "output_type": "execute_result",
          "data": {
            "text/plain": [
              "<matplotlib.axes._subplots.AxesSubplot at 0x7fdeb1eb5dd0>"
            ]
          },
          "metadata": {},
          "execution_count": 40
        },
        {
          "output_type": "display_data",
          "data": {
            "image/png": "[encoded data removed]",
            "text/plain": [
              "<Figure size 1440x720 with 1 Axes>"
            ]
          },
          "metadata": {
            "needs_background": "light"
          }
        }
      ]
    },
    {
      "cell_type": "code",
      "metadata": {
        "colab": {
          "base_uri": "https://localhost:8080/",
          "height": 689
        },
        "id": "kJBagHLK7Hh3",
        "outputId": "358f6c0e-7c36-49b7-e01a-9a3eb42f0de8"
      },
      "source": [
        "gas_prices_brazil_df[gas_prices_brazil_df['produto']=='ETANOL HIDRATADO'].groupby(['regiao'])['coef_variacao_revenda'].median().sort_values(ascending=False).plot.bar(figsize=(20,10))"
      ],
      "execution_count": 49,
      "outputs": [
        {
          "output_type": "execute_result",
          "data": {
            "text/plain": [
              "<matplotlib.axes._subplots.AxesSubplot at 0x7fdeb1f1fbd0>"
            ]
          },
          "metadata": {},
          "execution_count": 49
        },
        {
          "output_type": "display_data",
          "data": {
            "image/png": "[encoded data removed]",
            "text/plain": [
              "<Figure size 1440x720 with 1 Axes>"
            ]
          },
          "metadata": {
            "needs_background": "light"
          }
        }
      ]
    },
    {
      "cell_type": "code",
      "metadata": {
        "colab": {
          "base_uri": "https://localhost:8080/"
        },
        "id": "EuNiGbi_igcC",
        "outputId": "c67c7bbb-5576-43e2-828a-3928c7b43055"
      },
      "source": [
        "gas_prices_brazil_df.dtypes"
      ],
      "execution_count": null,
      "outputs": [
        {
          "output_type": "execute_result",
          "data": {
            "text/plain": [
              "Unnamed: 0                      int64\n",
              "regiao                         object\n",
              "estado                         object\n",
              "produto                        object\n",
              "numero_posto_pesquisado         int64\n",
              "preco_medio_revenda           float64\n",
              "coef_variacao_revenda         float64\n",
              "preco_medio_distribuicao       object\n",
              "coef_variacao_distribuicao     object\n",
              "data_inicial                   object\n",
              "data_final                     object\n",
              "mes                             int64\n",
              "ano                             int64\n",
              "desvio_padrao_revenda         float64\n",
              "preco_minimo_revenda          float64\n",
              "preco_maximo_revenda          float64\n",
              "margem_media_revenda           object\n",
              "desvio_padrao_distribuicao     object\n",
              "preco_minimo_distribuicao      object\n",
              "preco_maximo_distribuicao      object\n",
              "unidade_de_medida              object\n",
              "dtype: object"
            ]
          },
          "metadata": {},
          "execution_count": 5
        }
      ]
    },
    {
      "cell_type": "code",
      "metadata": {
        "id": "QB9Jg0nCkZkf"
      },
      "source": [
        "\n",
        "# values from preco_medio_distribuicao column contains \"-\"\n",
        "gas_prices_brazil_df['preco_medio_distribuicao'] = gas_prices_brazil_df['preco_medio_distribuicao'].apply(lambda x : 0 if x == '-' else x)\n",
        "\n",
        "gas_prices_brazil_df['preco_medio_distribuicao'] = pd.to_numeric(gas_prices_brazil_df['preco_medio_distribuicao'], downcast='float')\n",
        "# values from coef_variacao_distribuicao column contains \"-\"\n",
        "gas_prices_brazil_df['coef_variacao_distribuicao'] = gas_prices_brazil_df['coef_variacao_distribuicao'].apply(lambda x : 0 if x == '-' else x)\n",
        "\n",
        "\n",
        "gas_prices_brazil_df['coef_variacao_distribuicao'] = pd.to_numeric(gas_prices_brazil_df['coef_variacao_distribuicao'], downcast='float')\n",
        "\n",
        "gas_prices_brazil_df['desvio_padrao_revenda'] = pd.to_numeric(gas_prices_brazil_df['desvio_padrao_revenda'], downcast='float')\n",
        "gas_prices_brazil_df['preco_minimo_revenda'] = pd.to_numeric(gas_prices_brazil_df['preco_minimo_revenda'], downcast='float')\n",
        "gas_prices_brazil_df['preco_maximo_revenda'] = pd.to_numeric(gas_prices_brazil_df['preco_maximo_revenda'], downcast='float')\n",
        "\n",
        "# values from margem_media_revenda column contains \"-\"\n",
        "gas_prices_brazil_df['margem_media_revenda'] = gas_prices_brazil_df['margem_media_revenda'].apply(lambda x : 0 if x == '-' else x)\n",
        "gas_prices_brazil_df['margem_media_revenda'] = pd.to_numeric(gas_prices_brazil_df['margem_media_revenda'], downcast='float')\n",
        "\n",
        "# values from margem_media_revenda column contains \"-\"\n",
        "gas_prices_brazil_df['margem_media_revenda'] = pd.to_numeric(gas_prices_brazil_df['margem_media_revenda'], downcast='float')\n",
        "gas_prices_brazil_df['margem_media_revenda'] = gas_prices_brazil_df['margem_media_revenda'].apply(lambda x : 0 if x == '-' else x)\n",
        "\n",
        "gas_prices_brazil_df['desvio_padrao_distribuicao'] = gas_prices_brazil_df['desvio_padrao_distribuicao'].apply(lambda x : 0 if x == '-' else x)\n",
        "\n",
        "gas_prices_brazil_df['desvio_padrao_distribuicao'] = pd.to_numeric(gas_prices_brazil_df['desvio_padrao_distribuicao'], downcast='float')\n",
        "\n",
        "# values from margem_media_revenda column contains \"-\"\n",
        "gas_prices_brazil_df['preco_minimo_distribuicao'] = gas_prices_brazil_df['preco_minimo_distribuicao'].apply(lambda x : 0 if x == '-' else x)\n",
        "gas_prices_brazil_df['preco_minimo_distribuicao'] = pd.to_numeric(gas_prices_brazil_df['preco_minimo_distribuicao'], downcast='float')\n",
        "\n",
        "# values from margem_media_revenda column contains \"-\"\n",
        "gas_prices_brazil_df['preco_maximo_distribuicao'] = gas_prices_brazil_df['preco_maximo_distribuicao'].apply(lambda x : 0 if x == '-' else x)\n",
        "gas_prices_brazil_df['preco_maximo_distribuicao'] = pd.to_numeric(gas_prices_brazil_df['preco_maximo_distribuicao'], downcast='float')\n",
        "\n"
      ],
      "execution_count": null,
      "outputs": []
    },
    {
      "cell_type": "code",
      "metadata": {
        "colab": {
          "base_uri": "https://localhost:8080/"
        },
        "id": "AdUQBUAMnhMQ",
        "outputId": "28aa1fb8-3d6f-4f08-bc2e-7d23f1d56082"
      },
      "source": [
        "gas_prices_brazil_df.dtypes"
      ],
      "execution_count": null,
      "outputs": [
        {
          "output_type": "execute_result",
          "data": {
            "text/plain": [
              "Unnamed: 0                      int64\n",
              "regiao                         object\n",
              "estado                         object\n",
              "produto                        object\n",
              "numero_posto_pesquisado         int64\n",
              "preco_medio_revenda           float64\n",
              "coef_variacao_revenda         float64\n",
              "preco_medio_distribuicao      float32\n",
              "coef_variacao_distribuicao    float32\n",
              "data_inicial                   object\n",
              "data_final                     object\n",
              "mes                             int64\n",
              "ano                             int64\n",
              "desvio_padrao_revenda         float32\n",
              "preco_minimo_revenda          float32\n",
              "preco_maximo_revenda          float32\n",
              "margem_media_revenda          float64\n",
              "desvio_padrao_distribuicao    float32\n",
              "preco_minimo_distribuicao     float32\n",
              "preco_maximo_distribuicao     float32\n",
              "unidade_de_medida              object\n",
              "dtype: object"
            ]
          },
          "metadata": {},
          "execution_count": 7
        }
      ]
    },
    {
      "cell_type": "markdown",
      "metadata": {
        "id": "bSYryvJPoHJi"
      },
      "source": [
        "# Transform to categories"
      ]
    },
    {
      "cell_type": "code",
      "metadata": {
        "id": "zxfS_IkhoKf-"
      },
      "source": [
        "gas_prices_brazil_df['regiao'] = gas_prices_brazil_df['regiao'].astype('category')\n",
        "gas_prices_brazil_df['estado'] = gas_prices_brazil_df['estado'].astype('category')\n",
        "gas_prices_brazil_df['produto'] = gas_prices_brazil_df['produto'].astype('category')"
      ],
      "execution_count": null,
      "outputs": []
    },
    {
      "cell_type": "markdown",
      "metadata": {
        "id": "9mcmma8Co2ZP"
      },
      "source": [
        "# Transform Category to Code"
      ]
    },
    {
      "cell_type": "code",
      "metadata": {
        "id": "UBRra_x3o1H8"
      },
      "source": [
        "gas_prices_brazil_df['regiao_code'] = gas_prices_brazil_df['regiao'].cat.codes\n",
        "gas_prices_brazil_df['estado_code'] = gas_prices_brazil_df['estado'].cat.codes\n",
        "gas_prices_brazil_df['produto_code'] = gas_prices_brazil_df['produto'].cat.codes"
      ],
      "execution_count": null,
      "outputs": []
    },
    {
      "cell_type": "code",
      "metadata": {
        "colab": {
          "base_uri": "https://localhost:8080/",
          "height": 203
        },
        "id": "BsRXdOfbpSEi",
        "outputId": "4dd3d59d-319b-434d-fbba-c9845a465ba5"
      },
      "source": [
        "gas_prices_brazil_df[['regiao_code', 'estado_code', 'produto_code']].head()"
      ],
      "execution_count": null,
      "outputs": [
        {
          "output_type": "execute_result",
          "data": {
            "text/html": [
              "<div>\n",
              "<style scoped>\n",
              "    .dataframe tbody tr th:only-of-type {\n",
              "        vertical-align: middle;\n",
              "    }\n",
              "\n",
              "    .dataframe tbody tr th {\n",
              "        vertical-align: top;\n",
              "    }\n",
              "\n",
              "    .dataframe thead th {\n",
              "        text-align: right;\n",
              "    }\n",
              "</style>\n",
              "<table border=\"1\" class=\"dataframe\">\n",
              "  <thead>\n",
              "    <tr style=\"text-align: right;\">\n",
              "      <th></th>\n",
              "      <th>regiao_code</th>\n",
              "      <th>estado_code</th>\n",
              "      <th>produto_code</th>\n",
              "    </tr>\n",
              "  </thead>\n",
              "  <tbody>\n",
              "    <tr>\n",
              "      <th>0</th>\n",
              "      <td>0</td>\n",
              "      <td>6</td>\n",
              "      <td>0</td>\n",
              "    </tr>\n",
              "    <tr>\n",
              "      <th>1</th>\n",
              "      <td>0</td>\n",
              "      <td>8</td>\n",
              "      <td>0</td>\n",
              "    </tr>\n",
              "    <tr>\n",
              "      <th>2</th>\n",
              "      <td>0</td>\n",
              "      <td>10</td>\n",
              "      <td>0</td>\n",
              "    </tr>\n",
              "    <tr>\n",
              "      <th>3</th>\n",
              "      <td>0</td>\n",
              "      <td>11</td>\n",
              "      <td>0</td>\n",
              "    </tr>\n",
              "    <tr>\n",
              "      <th>4</th>\n",
              "      <td>1</td>\n",
              "      <td>1</td>\n",
              "      <td>0</td>\n",
              "    </tr>\n",
              "  </tbody>\n",
              "</table>\n",
              "</div>"
            ],
            "text/plain": [
              "   regiao_code  estado_code  produto_code\n",
              "0            0            6             0\n",
              "1            0            8             0\n",
              "2            0           10             0\n",
              "3            0           11             0\n",
              "4            1            1             0"
            ]
          },
          "metadata": {},
          "execution_count": 10
        }
      ]
    },
    {
      "cell_type": "markdown",
      "metadata": {
        "id": "AjnB2JsKpc0k"
      },
      "source": [
        "# Check Null Values"
      ]
    },
    {
      "cell_type": "code",
      "metadata": {
        "id": "KDjNE1fDpe3a",
        "colab": {
          "base_uri": "https://localhost:8080/"
        },
        "outputId": "8a20f3f3-2ce1-4185-defc-5f8abbe67df7"
      },
      "source": [
        "gas_prices_brazil_df.isnull().sum()"
      ],
      "execution_count": null,
      "outputs": [
        {
          "output_type": "execute_result",
          "data": {
            "text/plain": [
              "Unnamed: 0                    0\n",
              "regiao                        0\n",
              "estado                        0\n",
              "produto                       0\n",
              "numero_posto_pesquisado       0\n",
              "preco_medio_revenda           0\n",
              "coef_variacao_revenda         0\n",
              "preco_medio_distribuicao      0\n",
              "coef_variacao_distribuicao    0\n",
              "data_inicial                  0\n",
              "data_final                    0\n",
              "mes                           0\n",
              "ano                           0\n",
              "desvio_padrao_revenda         0\n",
              "preco_minimo_revenda          0\n",
              "preco_maximo_revenda          0\n",
              "margem_media_revenda          0\n",
              "desvio_padrao_distribuicao    0\n",
              "preco_minimo_distribuicao     0\n",
              "preco_maximo_distribuicao     0\n",
              "unidade_de_medida             0\n",
              "regiao_code                   0\n",
              "estado_code                   0\n",
              "produto_code                  0\n",
              "dtype: int64"
            ]
          },
          "metadata": {},
          "execution_count": 11
        }
      ]
    },
    {
      "cell_type": "code",
      "metadata": {
        "colab": {
          "base_uri": "https://localhost:8080/"
        },
        "id": "rl145A6xQjFn",
        "outputId": "78963dd5-dbde-47f4-8368-80b5fe923e6e"
      },
      "source": [
        "gas_prices_brazil_df.shape"
      ],
      "execution_count": null,
      "outputs": [
        {
          "output_type": "execute_result",
          "data": {
            "text/plain": [
              "(106823, 24)"
            ]
          },
          "metadata": {},
          "execution_count": 12
        }
      ]
    },
    {
      "cell_type": "markdown",
      "metadata": {
        "id": "lfeEhp0SRF2J"
      },
      "source": [
        "### Check Types"
      ]
    },
    {
      "cell_type": "code",
      "metadata": {
        "colab": {
          "base_uri": "https://localhost:8080/"
        },
        "id": "LW31Zhx9RIDw",
        "outputId": "99549dcf-6d99-4c15-a44e-b634a7218e75"
      },
      "source": [
        "gas_prices_brazil_df.dtypes"
      ],
      "execution_count": null,
      "outputs": [
        {
          "output_type": "execute_result",
          "data": {
            "text/plain": [
              "Unnamed: 0                       int64\n",
              "regiao                        category\n",
              "estado                        category\n",
              "produto                       category\n",
              "numero_posto_pesquisado          int64\n",
              "preco_medio_revenda            float64\n",
              "coef_variacao_revenda          float64\n",
              "preco_medio_distribuicao       float32\n",
              "coef_variacao_distribuicao     float32\n",
              "data_inicial                    object\n",
              "data_final                      object\n",
              "mes                              int64\n",
              "ano                              int64\n",
              "desvio_padrao_revenda          float32\n",
              "preco_minimo_revenda           float32\n",
              "preco_maximo_revenda           float32\n",
              "margem_media_revenda           float64\n",
              "desvio_padrao_distribuicao     float32\n",
              "preco_minimo_distribuicao      float32\n",
              "preco_maximo_distribuicao      float32\n",
              "unidade_de_medida               object\n",
              "regiao_code                       int8\n",
              "estado_code                       int8\n",
              "produto_code                      int8\n",
              "dtype: object"
            ]
          },
          "metadata": {},
          "execution_count": 13
        }
      ]
    },
    {
      "cell_type": "markdown",
      "metadata": {
        "id": "saA-udF-H5gV"
      },
      "source": [
        "### Check Correlation"
      ]
    },
    {
      "cell_type": "code",
      "metadata": {
        "colab": {
          "base_uri": "https://localhost:8080/",
          "height": 223
        },
        "id": "rUGoV0j2H7mh",
        "outputId": "c264f0cd-3689-487e-b4ba-8d053d8752ba"
      },
      "source": [
        " interess_columns  = ['numero_posto_pesquisado', 'preco_medio_revenda', 'coef_variacao_revenda', 'preco_medio_distribuicao', 'coef_variacao_distribuicao']\n",
        "\n",
        "gas_prices_brazil_df[interess_columns].corr(method='spearman')"
      ],
      "execution_count": null,
      "outputs": [
        {
          "output_type": "execute_result",
          "data": {
            "text/html": [
              "<div>\n",
              "<style scoped>\n",
              "    .dataframe tbody tr th:only-of-type {\n",
              "        vertical-align: middle;\n",
              "    }\n",
              "\n",
              "    .dataframe tbody tr th {\n",
              "        vertical-align: top;\n",
              "    }\n",
              "\n",
              "    .dataframe thead th {\n",
              "        text-align: right;\n",
              "    }\n",
              "</style>\n",
              "<table border=\"1\" class=\"dataframe\">\n",
              "  <thead>\n",
              "    <tr style=\"text-align: right;\">\n",
              "      <th></th>\n",
              "      <th>numero_posto_pesquisado</th>\n",
              "      <th>preco_medio_revenda</th>\n",
              "      <th>coef_variacao_revenda</th>\n",
              "      <th>preco_medio_distribuicao</th>\n",
              "      <th>coef_variacao_distribuicao</th>\n",
              "    </tr>\n",
              "  </thead>\n",
              "  <tbody>\n",
              "    <tr>\n",
              "      <th>numero_posto_pesquisado</th>\n",
              "      <td>1.000000</td>\n",
              "      <td>0.032969</td>\n",
              "      <td>0.294354</td>\n",
              "      <td>0.120888</td>\n",
              "      <td>0.165392</td>\n",
              "    </tr>\n",
              "    <tr>\n",
              "      <th>preco_medio_revenda</th>\n",
              "      <td>0.032969</td>\n",
              "      <td>1.000000</td>\n",
              "      <td>0.189490</td>\n",
              "      <td>0.926830</td>\n",
              "      <td>0.061463</td>\n",
              "    </tr>\n",
              "    <tr>\n",
              "      <th>coef_variacao_revenda</th>\n",
              "      <td>0.294354</td>\n",
              "      <td>0.189490</td>\n",
              "      <td>1.000000</td>\n",
              "      <td>0.185918</td>\n",
              "      <td>0.474178</td>\n",
              "    </tr>\n",
              "    <tr>\n",
              "      <th>preco_medio_distribuicao</th>\n",
              "      <td>0.120888</td>\n",
              "      <td>0.926830</td>\n",
              "      <td>0.185918</td>\n",
              "      <td>1.000000</td>\n",
              "      <td>0.126634</td>\n",
              "    </tr>\n",
              "    <tr>\n",
              "      <th>coef_variacao_distribuicao</th>\n",
              "      <td>0.165392</td>\n",
              "      <td>0.061463</td>\n",
              "      <td>0.474178</td>\n",
              "      <td>0.126634</td>\n",
              "      <td>1.000000</td>\n",
              "    </tr>\n",
              "  </tbody>\n",
              "</table>\n",
              "</div>"
            ],
            "text/plain": [
              "                            numero_posto_pesquisado  ...  coef_variacao_distribuicao\n",
              "numero_posto_pesquisado                    1.000000  ...                    0.165392\n",
              "preco_medio_revenda                        0.032969  ...                    0.061463\n",
              "coef_variacao_revenda                      0.294354  ...                    0.474178\n",
              "preco_medio_distribuicao                   0.120888  ...                    0.126634\n",
              "coef_variacao_distribuicao                 0.165392  ...                    1.000000\n",
              "\n",
              "[5 rows x 5 columns]"
            ]
          },
          "metadata": {},
          "execution_count": 18
        }
      ]
    },
    {
      "cell_type": "markdown",
      "metadata": {
        "id": "Sv1rZ9L_KVrQ"
      },
      "source": [
        "### Describe Statiscal Info"
      ]
    },
    {
      "cell_type": "code",
      "metadata": {
        "colab": {
          "base_uri": "https://localhost:8080/",
          "height": 315
        },
        "id": "5PZYr_diKXFA",
        "outputId": "7b575cbe-11a4-4c79-b3c6-256f6899f789"
      },
      "source": [
        "gas_prices_brazil_df[interess_columns].describe()"
      ],
      "execution_count": null,
      "outputs": [
        {
          "output_type": "execute_result",
          "data": {
            "text/html": [
              "<div>\n",
              "<style scoped>\n",
              "    .dataframe tbody tr th:only-of-type {\n",
              "        vertical-align: middle;\n",
              "    }\n",
              "\n",
              "    .dataframe tbody tr th {\n",
              "        vertical-align: top;\n",
              "    }\n",
              "\n",
              "    .dataframe thead th {\n",
              "        text-align: right;\n",
              "    }\n",
              "</style>\n",
              "<table border=\"1\" class=\"dataframe\">\n",
              "  <thead>\n",
              "    <tr style=\"text-align: right;\">\n",
              "      <th></th>\n",
              "      <th>numero_posto_pesquisado</th>\n",
              "      <th>preco_medio_revenda</th>\n",
              "      <th>coef_variacao_revenda</th>\n",
              "      <th>preco_medio_distribuicao</th>\n",
              "      <th>coef_variacao_distribuicao</th>\n",
              "    </tr>\n",
              "  </thead>\n",
              "  <tbody>\n",
              "    <tr>\n",
              "      <th>count</th>\n",
              "      <td>106823.000000</td>\n",
              "      <td>106823.000000</td>\n",
              "      <td>106823.000000</td>\n",
              "      <td>106823.000000</td>\n",
              "      <td>106823.000000</td>\n",
              "    </tr>\n",
              "    <tr>\n",
              "      <th>mean</th>\n",
              "      <td>233.770976</td>\n",
              "      <td>10.870780</td>\n",
              "      <td>0.045418</td>\n",
              "      <td>8.285548</td>\n",
              "      <td>0.045151</td>\n",
              "    </tr>\n",
              "    <tr>\n",
              "      <th>std</th>\n",
              "      <td>403.282519</td>\n",
              "      <td>17.752533</td>\n",
              "      <td>0.025066</td>\n",
              "      <td>13.469183</td>\n",
              "      <td>0.042258</td>\n",
              "    </tr>\n",
              "    <tr>\n",
              "      <th>min</th>\n",
              "      <td>1.000000</td>\n",
              "      <td>0.766000</td>\n",
              "      <td>0.000000</td>\n",
              "      <td>0.000000</td>\n",
              "      <td>0.000000</td>\n",
              "    </tr>\n",
              "    <tr>\n",
              "      <th>25%</th>\n",
              "      <td>42.000000</td>\n",
              "      <td>2.072000</td>\n",
              "      <td>0.029000</td>\n",
              "      <td>1.745000</td>\n",
              "      <td>0.020000</td>\n",
              "    </tr>\n",
              "    <tr>\n",
              "      <th>50%</th>\n",
              "      <td>104.000000</td>\n",
              "      <td>2.718000</td>\n",
              "      <td>0.041000</td>\n",
              "      <td>2.303000</td>\n",
              "      <td>0.030000</td>\n",
              "    </tr>\n",
              "    <tr>\n",
              "      <th>75%</th>\n",
              "      <td>243.000000</td>\n",
              "      <td>3.752000</td>\n",
              "      <td>0.058000</td>\n",
              "      <td>3.265000</td>\n",
              "      <td>0.059000</td>\n",
              "    </tr>\n",
              "    <tr>\n",
              "      <th>max</th>\n",
              "      <td>4167.000000</td>\n",
              "      <td>99.357000</td>\n",
              "      <td>0.395000</td>\n",
              "      <td>83.137001</td>\n",
              "      <td>0.780000</td>\n",
              "    </tr>\n",
              "  </tbody>\n",
              "</table>\n",
              "</div>"
            ],
            "text/plain": [
              "       numero_posto_pesquisado  ...  coef_variacao_distribuicao\n",
              "count            106823.000000  ...               106823.000000\n",
              "mean                233.770976  ...                    0.045151\n",
              "std                 403.282519  ...                    0.042258\n",
              "min                   1.000000  ...                    0.000000\n",
              "25%                  42.000000  ...                    0.020000\n",
              "50%                 104.000000  ...                    0.030000\n",
              "75%                 243.000000  ...                    0.059000\n",
              "max                4167.000000  ...                    0.780000\n",
              "\n",
              "[8 rows x 5 columns]"
            ]
          },
          "metadata": {},
          "execution_count": 21
        }
      ]
    },
    {
      "cell_type": "markdown",
      "metadata": {
        "id": "QrE1wq2jKmw4"
      },
      "source": [
        "## Normalization"
      ]
    },
    {
      "cell_type": "code",
      "metadata": {
        "id": "28GziZhsLhpi"
      },
      "source": [
        "import numpy as np"
      ],
      "execution_count": null,
      "outputs": []
    },
    {
      "cell_type": "code",
      "metadata": {
        "colab": {
          "base_uri": "https://localhost:8080/"
        },
        "id": "nWgQrOo-LH9a",
        "outputId": "f1f51bd9-14aa-4ab1-a998-c5c818ba495b"
      },
      "source": [
        "interess_columns  = ['numero_posto_pesquisado', 'preco_medio_revenda', 'coef_variacao_revenda', 'preco_medio_distribuicao', 'coef_variacao_distribuicao']\n",
        "num_gas_prices_brazil_df = gas_prices_brazil_df[interess_columns]\n",
        "\n",
        "dist = np.linalg.norm(num_gas_prices_brazil_df.values[1]-num_gas_prices_brazil_df.values[2])\n",
        "dist"
      ],
      "execution_count": null,
      "outputs": [
        {
          "output_type": "execute_result",
          "data": {
            "text/plain": [
              "195.00024474601886"
            ]
          },
          "metadata": {},
          "execution_count": 32
        }
      ]
    },
    {
      "cell_type": "code",
      "metadata": {
        "colab": {
          "base_uri": "https://localhost:8080/",
          "height": 223
        },
        "id": "N5jS-gL2MrXw",
        "outputId": "29d0af3e-3ce3-45d0-d71f-6db02f853ddc"
      },
      "source": [
        "norm_gas_prices_brazil_df =  (num_gas_prices_brazil_df - num_gas_prices_brazil_df.min()) / (num_gas_prices_brazil_df.max() - num_gas_prices_brazil_df.min())\n",
        "norm_gas_prices_brazil_df.head()"
      ],
      "execution_count": null,
      "outputs": [
        {
          "output_type": "execute_result",
          "data": {
            "text/html": [
              "<div>\n",
              "<style scoped>\n",
              "    .dataframe tbody tr th:only-of-type {\n",
              "        vertical-align: middle;\n",
              "    }\n",
              "\n",
              "    .dataframe tbody tr th {\n",
              "        vertical-align: top;\n",
              "    }\n",
              "\n",
              "    .dataframe thead th {\n",
              "        text-align: right;\n",
              "    }\n",
              "</style>\n",
              "<table border=\"1\" class=\"dataframe\">\n",
              "  <thead>\n",
              "    <tr style=\"text-align: right;\">\n",
              "      <th></th>\n",
              "      <th>numero_posto_pesquisado</th>\n",
              "      <th>preco_medio_revenda</th>\n",
              "      <th>coef_variacao_revenda</th>\n",
              "      <th>preco_medio_distribuicao</th>\n",
              "      <th>coef_variacao_distribuicao</th>\n",
              "    </tr>\n",
              "  </thead>\n",
              "  <tbody>\n",
              "    <tr>\n",
              "      <th>0</th>\n",
              "      <td>0.030245</td>\n",
              "      <td>0.005295</td>\n",
              "      <td>0.030380</td>\n",
              "      <td>0.009923</td>\n",
              "      <td>0.170513</td>\n",
              "    </tr>\n",
              "    <tr>\n",
              "      <th>1</th>\n",
              "      <td>0.092655</td>\n",
              "      <td>0.004017</td>\n",
              "      <td>0.248101</td>\n",
              "      <td>0.009178</td>\n",
              "      <td>0.147436</td>\n",
              "    </tr>\n",
              "    <tr>\n",
              "      <th>2</th>\n",
              "      <td>0.045847</td>\n",
              "      <td>0.006319</td>\n",
              "      <td>0.177215</td>\n",
              "      <td>0.011667</td>\n",
              "      <td>0.125641</td>\n",
              "    </tr>\n",
              "    <tr>\n",
              "      <th>3</th>\n",
              "      <td>0.038646</td>\n",
              "      <td>0.005031</td>\n",
              "      <td>0.139241</td>\n",
              "      <td>0.009984</td>\n",
              "      <td>0.183333</td>\n",
              "    </tr>\n",
              "    <tr>\n",
              "      <th>4</th>\n",
              "      <td>0.024484</td>\n",
              "      <td>0.004209</td>\n",
              "      <td>0.167089</td>\n",
              "      <td>0.011319</td>\n",
              "      <td>0.105128</td>\n",
              "    </tr>\n",
              "  </tbody>\n",
              "</table>\n",
              "</div>"
            ],
            "text/plain": [
              "   numero_posto_pesquisado  ...  coef_variacao_distribuicao\n",
              "0                 0.030245  ...                    0.170513\n",
              "1                 0.092655  ...                    0.147436\n",
              "2                 0.045847  ...                    0.125641\n",
              "3                 0.038646  ...                    0.183333\n",
              "4                 0.024484  ...                    0.105128\n",
              "\n",
              "[5 rows x 5 columns]"
            ]
          },
          "metadata": {},
          "execution_count": 33
        }
      ]
    },
    {
      "cell_type": "code",
      "metadata": {
        "colab": {
          "base_uri": "https://localhost:8080/"
        },
        "id": "auhET3-0NLdx",
        "outputId": "db218f63-7bad-4c90-ea83-444bf380cd1d"
      },
      "source": [
        "dist = np.linalg.norm(norm_gas_prices_brazil_df.values[1]-norm_gas_prices_brazil_df.values[2])\n",
        "dist"
      ],
      "execution_count": null,
      "outputs": [
        {
          "output_type": "execute_result",
          "data": {
            "text/plain": [
              "0.08776271537704362"
            ]
          },
          "metadata": {},
          "execution_count": 35
        }
      ]
    },
    {
      "cell_type": "code",
      "metadata": {
        "colab": {
          "base_uri": "https://localhost:8080/"
        },
        "id": "XGMbGXI7PG46",
        "outputId": "61ff34f4-6c4d-48e4-87e8-4f6319dea1d6"
      },
      "source": [
        "gas_prices_brazil_df['numero_posto_pesquisado_norm'] = (gas_prices_brazil_df['numero_posto_pesquisado'] - gas_prices_brazil_df['numero_posto_pesquisado'].min()) / (gas_prices_brazil_df['numero_posto_pesquisado'].max() - gas_prices_brazil_df['numero_posto_pesquisado'].min())\n",
        "\n",
        "gas_prices_brazil_df['numero_posto_pesquisado_norm'].describe()\n"
      ],
      "execution_count": null,
      "outputs": [
        {
          "output_type": "execute_result",
          "data": {
            "text/plain": [
              "count    106823.000000\n",
              "mean          0.055874\n",
              "std           0.096803\n",
              "min           0.000000\n",
              "25%           0.009842\n",
              "50%           0.024724\n",
              "75%           0.058089\n",
              "max           1.000000\n",
              "Name: numero_posto_pesquisado_norm, dtype: float64"
            ]
          },
          "metadata": {},
          "execution_count": 37
        }
      ]
    },
    {
      "cell_type": "markdown",
      "metadata": {
        "id": "W5Gonb13QGJi"
      },
      "source": [
        "### preco_medio_revenda_norm"
      ]
    },
    {
      "cell_type": "code",
      "metadata": {
        "colab": {
          "base_uri": "https://localhost:8080/"
        },
        "id": "pkW6K5YxP9un",
        "outputId": "038e37b1-32e9-4f3e-9045-c97faa58806d"
      },
      "source": [
        "gas_prices_brazil_df['preco_medio_revenda_norm'] = (gas_prices_brazil_df['preco_medio_revenda'] - gas_prices_brazil_df['preco_medio_revenda'].min()) / (gas_prices_brazil_df['preco_medio_revenda'].max() - gas_prices_brazil_df['preco_medio_revenda'].min())\n",
        "gas_prices_brazil_df['preco_medio_revenda_norm'].describe()\n"
      ],
      "execution_count": null,
      "outputs": [
        {
          "output_type": "execute_result",
          "data": {
            "text/plain": [
              "count    106823.000000\n",
              "mean          0.102492\n",
              "std           0.180062\n",
              "min           0.000000\n",
              "25%           0.013247\n",
              "50%           0.019799\n",
              "75%           0.030287\n",
              "max           1.000000\n",
              "Name: preco_medio_revenda_norm, dtype: float64"
            ]
          },
          "metadata": {},
          "execution_count": 39
        }
      ]
    },
    {
      "cell_type": "markdown",
      "metadata": {
        "id": "kbDO7FX9QZo5"
      },
      "source": [
        "### coef_variacao_revenda_norm"
      ]
    },
    {
      "cell_type": "code",
      "metadata": {
        "colab": {
          "base_uri": "https://localhost:8080/"
        },
        "id": "mb-POJZ5NVRc",
        "outputId": "562b74c1-23be-4a8e-da50-5c77c1b250fc"
      },
      "source": [
        "gas_prices_brazil_df['coef_variacao_revenda_norm'] = (gas_prices_brazil_df['coef_variacao_revenda'] - gas_prices_brazil_df['coef_variacao_revenda'].min()) / (gas_prices_brazil_df['coef_variacao_revenda'].max() - gas_prices_brazil_df['coef_variacao_revenda'].min())\n",
        "gas_prices_brazil_df['coef_variacao_revenda_norm'].describe()\n"
      ],
      "execution_count": null,
      "outputs": [
        {
          "output_type": "execute_result",
          "data": {
            "text/plain": [
              "count    106823.000000\n",
              "mean          0.114982\n",
              "std           0.063459\n",
              "min           0.000000\n",
              "25%           0.073418\n",
              "50%           0.103797\n",
              "75%           0.146835\n",
              "max           1.000000\n",
              "Name: coef_variacao_revenda_norm, dtype: float64"
            ]
          },
          "metadata": {},
          "execution_count": 40
        }
      ]
    },
    {
      "cell_type": "markdown",
      "metadata": {
        "id": "HqTtz-zbRAHr"
      },
      "source": [
        "### preco_medio_distribuicao_norm"
      ]
    },
    {
      "cell_type": "code",
      "metadata": {
        "colab": {
          "base_uri": "https://localhost:8080/"
        },
        "id": "vXUh5OymQhvQ",
        "outputId": "35edb6cc-1733-4fa1-bb2f-dd21322b6bed"
      },
      "source": [
        "gas_prices_brazil_df['preco_medio_distribuicao_norm'] = (gas_prices_brazil_df['preco_medio_distribuicao'] - gas_prices_brazil_df['preco_medio_distribuicao'].min()) / (gas_prices_brazil_df['preco_medio_distribuicao'].max() - gas_prices_brazil_df['preco_medio_distribuicao'].min())\n",
        "gas_prices_brazil_df['preco_medio_distribuicao_norm'].describe()\n"
      ],
      "execution_count": null,
      "outputs": [
        {
          "output_type": "execute_result",
          "data": {
            "text/plain": [
              "count    106823.000000\n",
              "mean          0.099662\n",
              "std           0.162010\n",
              "min           0.000000\n",
              "25%           0.020989\n",
              "50%           0.027701\n",
              "75%           0.039273\n",
              "max           1.000000\n",
              "Name: preco_medio_distribuicao_norm, dtype: float64"
            ]
          },
          "metadata": {},
          "execution_count": 41
        }
      ]
    },
    {
      "cell_type": "markdown",
      "metadata": {
        "id": "2-ZxTg3AR24r"
      },
      "source": [
        "### coef_variacao_distribuicao_norm"
      ]
    },
    {
      "cell_type": "code",
      "metadata": {
        "colab": {
          "base_uri": "https://localhost:8080/"
        },
        "id": "o8VjD5IjRFXg",
        "outputId": "f693f868-730c-45de-ff5d-12449e27a0fa"
      },
      "source": [
        "gas_prices_brazil_df['coef_variacao_distribuicao_norm'] = (gas_prices_brazil_df['coef_variacao_distribuicao'] - gas_prices_brazil_df['coef_variacao_distribuicao'].min()) / (gas_prices_brazil_df['coef_variacao_distribuicao'].max() - gas_prices_brazil_df['coef_variacao_distribuicao'].min())\n",
        "gas_prices_brazil_df['coef_variacao_distribuicao_norm'].describe()\n"
      ],
      "execution_count": null,
      "outputs": [
        {
          "output_type": "execute_result",
          "data": {
            "text/plain": [
              "count    106823.000000\n",
              "mean          0.057887\n",
              "std           0.054177\n",
              "min           0.000000\n",
              "25%           0.025641\n",
              "50%           0.038462\n",
              "75%           0.075641\n",
              "max           1.000000\n",
              "Name: coef_variacao_distribuicao_norm, dtype: float64"
            ]
          },
          "metadata": {},
          "execution_count": 43
        }
      ]
    },
    {
      "cell_type": "markdown",
      "metadata": {
        "id": "G_vSjfTwTwMy"
      },
      "source": [
        "## Discretation "
      ]
    },
    {
      "cell_type": "markdown",
      "metadata": {
        "id": "jgz1nND6UssH"
      },
      "source": [
        "### preco_medio_revenda_dist"
      ]
    },
    {
      "cell_type": "code",
      "metadata": {
        "id": "RD-Nn06sUssP"
      },
      "source": [
        "gas_prices_brazil_df['preco_medio_revenda_dist'] = pd.cut(gas_prices_brazil_df['preco_medio_revenda'],10)"
      ],
      "execution_count": null,
      "outputs": []
    },
    {
      "cell_type": "code",
      "metadata": {
        "colab": {
          "base_uri": "https://localhost:8080/"
        },
        "id": "6UUWmQ6lUssQ",
        "outputId": "ec258a5d-a2e1-4a30-b70c-0ef2acdf94bd"
      },
      "source": [
        "gas_prices_brazil_df['preco_medio_revenda_dist'].value_counts()"
      ],
      "execution_count": null,
      "outputs": [
        {
          "output_type": "execute_result",
          "data": {
            "text/plain": [
              "(0.667, 10.625]     85637\n",
              "(30.343, 40.202]     9705\n",
              "(40.202, 50.062]     4813\n",
              "(50.062, 59.921]     2477\n",
              "(59.921, 69.78]      1844\n",
              "(69.78, 79.639]      1107\n",
              "(20.484, 30.343]      951\n",
              "(79.639, 89.498]      199\n",
              "(89.498, 99.357]       90\n",
              "(10.625, 20.484]        0\n",
              "Name: preco_medio_revenda_dist, dtype: int64"
            ]
          },
          "metadata": {},
          "execution_count": 52
        }
      ]
    },
    {
      "cell_type": "code",
      "metadata": {
        "colab": {
          "base_uri": "https://localhost:8080/",
          "height": 282
        },
        "id": "29JGp75TWRUM",
        "outputId": "bcffe37e-889c-4842-cb08-76a184dbbd9e"
      },
      "source": [
        "counts = gas_prices_brazil_df['preco_medio_revenda_dist'].value_counts()\n",
        "counts.plot.bar(rot=0)"
      ],
      "execution_count": null,
      "outputs": [
        {
          "output_type": "execute_result",
          "data": {
            "text/plain": [
              "<matplotlib.axes._subplots.AxesSubplot at 0x7ff69b2779d0>"
            ]
          },
          "metadata": {},
          "execution_count": 54
        },
        {
          "output_type": "display_data",
          "data": {
            "image/png": "[encoded data removed]",
            "text/plain": [
              "<Figure size 432x288 with 1 Axes>"
            ]
          },
          "metadata": {
            "needs_background": "light"
          }
        }
      ]
    },
    {
      "cell_type": "code",
      "metadata": {
        "id": "VpyZOWLgWZP8"
      },
      "source": [
        "gas_prices_brazil_df['preco_medio_revenda_dist'] = pd.cut(gas_prices_brazil_df['preco_medio_revenda'],4)"
      ],
      "execution_count": null,
      "outputs": []
    },
    {
      "cell_type": "code",
      "metadata": {
        "colab": {
          "base_uri": "https://localhost:8080/",
          "height": 282
        },
        "id": "7JxSYZsmWi-x",
        "outputId": "e1679e7b-b9f9-4615-bbad-bdf2c08789fd"
      },
      "source": [
        "counts = gas_prices_brazil_df['preco_medio_revenda_dist'].value_counts()\n",
        "counts.plot.bar(rot=0, color=['red','green', 'blue', 'orange'])"
      ],
      "execution_count": null,
      "outputs": [
        {
          "output_type": "execute_result",
          "data": {
            "text/plain": [
              "<matplotlib.axes._subplots.AxesSubplot at 0x7ff69ad43450>"
            ]
          },
          "metadata": {},
          "execution_count": 60
        },
        {
          "output_type": "display_data",
          "data": {
            "image/png": "[encoded data removed]",
            "text/plain": [
              "<Figure size 432x288 with 1 Axes>"
            ]
          },
          "metadata": {
            "needs_background": "light"
          }
        }
      ]
    },
    {
      "cell_type": "markdown",
      "metadata": {
        "id": "kaEcT5NkUjS3"
      },
      "source": [
        "### coef_variacao_revenda_dist"
      ]
    },
    {
      "cell_type": "code",
      "metadata": {
        "id": "hIhuCwLcUjS_"
      },
      "source": [
        "gas_prices_brazil_df['coef_variacao_revenda_dist'] = pd.cut(gas_prices_brazil_df['coef_variacao_revenda'],10)"
      ],
      "execution_count": null,
      "outputs": []
    },
    {
      "cell_type": "code",
      "metadata": {
        "colab": {
          "base_uri": "https://localhost:8080/"
        },
        "id": "M-iDF4VDUjS_",
        "outputId": "23103cee-437d-42bd-de8b-5bfbf1ff29bc"
      },
      "source": [
        "gas_prices_brazil_df['coef_variacao_revenda_dist'].value_counts()"
      ],
      "execution_count": null,
      "outputs": [
        {
          "output_type": "execute_result",
          "data": {
            "text/plain": [
              "(-0.000395, 0.0395]    49520\n",
              "(0.0395, 0.079]        47313\n",
              "(0.079, 0.118]          8607\n",
              "(0.118, 0.158]          1262\n",
              "(0.158, 0.198]           102\n",
              "(0.198, 0.237]            13\n",
              "(0.237, 0.276]             3\n",
              "(0.356, 0.395]             1\n",
              "(0.316, 0.356]             1\n",
              "(0.276, 0.316]             1\n",
              "Name: coef_variacao_revenda_dist, dtype: int64"
            ]
          },
          "metadata": {},
          "execution_count": 50
        }
      ]
    },
    {
      "cell_type": "code",
      "metadata": {
        "id": "tgQJxUw_Xmj3"
      },
      "source": [
        "gas_prices_brazil_df['coef_variacao_revenda_dist'] = pd.cut(gas_prices_brazil_df['coef_variacao_revenda'],4)"
      ],
      "execution_count": null,
      "outputs": []
    },
    {
      "cell_type": "code",
      "metadata": {
        "colab": {
          "base_uri": "https://localhost:8080/",
          "height": 282
        },
        "id": "vbNOKIRoXmj3",
        "outputId": "c3fd1cc1-14f4-4422-8fac-b17b0f563613"
      },
      "source": [
        "counts = gas_prices_brazil_df['coef_variacao_revenda_dist'].value_counts()\n",
        "counts.plot.bar(rot=0, color=['red','green', 'blue', 'orange'])"
      ],
      "execution_count": null,
      "outputs": [
        {
          "output_type": "execute_result",
          "data": {
            "text/plain": [
              "<matplotlib.axes._subplots.AxesSubplot at 0x7ff69ac49110>"
            ]
          },
          "metadata": {},
          "execution_count": 64
        },
        {
          "output_type": "display_data",
          "data": {
            "image/png": "[encoded data removed]",
            "text/plain": [
              "<Figure size 432x288 with 1 Axes>"
            ]
          },
          "metadata": {
            "needs_background": "light"
          }
        }
      ]
    },
    {
      "cell_type": "markdown",
      "metadata": {
        "id": "D4dsNFw9UOB8"
      },
      "source": [
        "### preco_medio_distribuicao_dist"
      ]
    },
    {
      "cell_type": "code",
      "metadata": {
        "id": "TCfVf3L-UOB9"
      },
      "source": [
        "gas_prices_brazil_df['preco_medio_distribuicao_dist'] = pd.cut(gas_prices_brazil_df['preco_medio_distribuicao'],10)"
      ],
      "execution_count": null,
      "outputs": []
    },
    {
      "cell_type": "code",
      "metadata": {
        "colab": {
          "base_uri": "https://localhost:8080/"
        },
        "id": "YQIw0udMUOB-",
        "outputId": "767ee771-e9b1-48ed-c733-0e6172e0c944"
      },
      "source": [
        "gas_prices_brazil_df['preco_medio_distribuicao_dist'].value_counts()"
      ],
      "execution_count": null,
      "outputs": [
        {
          "output_type": "execute_result",
          "data": {
            "text/plain": [
              "(-0.0831, 8.314]    86507\n",
              "(24.941, 33.255]    10621\n",
              "(33.255, 41.569]     4582\n",
              "(41.569, 49.882]     1973\n",
              "(49.882, 58.196]     1360\n",
              "(16.627, 24.941]     1136\n",
              "(58.196, 66.51]       434\n",
              "(66.51, 74.823]       178\n",
              "(74.823, 83.137]       32\n",
              "(8.314, 16.627]         0\n",
              "Name: preco_medio_distribuicao_dist, dtype: int64"
            ]
          },
          "metadata": {},
          "execution_count": 48
        }
      ]
    },
    {
      "cell_type": "code",
      "metadata": {
        "id": "BJr2Qe0sX9N4"
      },
      "source": [
        "gas_prices_brazil_df['preco_medio_distribuicao_dist'] = pd.cut(gas_prices_brazil_df['preco_medio_distribuicao'],4)"
      ],
      "execution_count": null,
      "outputs": []
    },
    {
      "cell_type": "code",
      "metadata": {
        "colab": {
          "base_uri": "https://localhost:8080/",
          "height": 282
        },
        "id": "4EVvHHOYX9N4",
        "outputId": "5b5e1679-5311-4b5b-f693-4dba10a0abbd"
      },
      "source": [
        "counts = gas_prices_brazil_df['preco_medio_distribuicao_dist'].value_counts()\n",
        "counts.plot.bar(rot=0, color=['red','green', 'blue', 'orange'])"
      ],
      "execution_count": null,
      "outputs": [
        {
          "output_type": "execute_result",
          "data": {
            "text/plain": [
              "<matplotlib.axes._subplots.AxesSubplot at 0x7ff69b287f50>"
            ]
          },
          "metadata": {},
          "execution_count": 66
        },
        {
          "output_type": "display_data",
          "data": {
            "image/png": "[encoded data removed]",
            "text/plain": [
              "<Figure size 432x288 with 1 Axes>"
            ]
          },
          "metadata": {
            "needs_background": "light"
          }
        }
      ]
    },
    {
      "cell_type": "markdown",
      "metadata": {
        "id": "5Fj8cGlWT9mL"
      },
      "source": [
        "### coef_variacao_distribuicao_dist"
      ]
    },
    {
      "cell_type": "code",
      "metadata": {
        "id": "DDDN46hwTx9J"
      },
      "source": [
        "gas_prices_brazil_df['coef_variacao_distribuicao_dist'] = pd.cut(gas_prices_brazil_df['coef_variacao_distribuicao'],10)"
      ],
      "execution_count": null,
      "outputs": []
    },
    {
      "cell_type": "code",
      "metadata": {
        "colab": {
          "base_uri": "https://localhost:8080/"
        },
        "id": "Tf2EwwAuUDup",
        "outputId": "63f2e97d-5832-4f6a-c668-4ddfabb9629c"
      },
      "source": [
        "gas_prices_brazil_df['coef_variacao_distribuicao_dist'].value_counts()"
      ],
      "execution_count": null,
      "outputs": [
        {
          "output_type": "execute_result",
          "data": {
            "text/plain": [
              "(-0.00078, 0.078]    88240\n",
              "(0.078, 0.156]       15904\n",
              "(0.156, 0.234]        2315\n",
              "(0.234, 0.312]         245\n",
              "(0.312, 0.39]           57\n",
              "(0.39, 0.468]           37\n",
              "(0.468, 0.546]          12\n",
              "(0.546, 0.624]          11\n",
              "(0.702, 0.78]            1\n",
              "(0.624, 0.702]           1\n",
              "Name: coef_variacao_distribuicao_dist, dtype: int64"
            ]
          },
          "metadata": {},
          "execution_count": 46
        }
      ]
    },
    {
      "cell_type": "code",
      "metadata": {
        "id": "bGGMLILuYFrn"
      },
      "source": [
        "gas_prices_brazil_df['coef_variacao_distribuicao_dist'] = pd.cut(gas_prices_brazil_df['coef_variacao_distribuicao'],4)"
      ],
      "execution_count": null,
      "outputs": []
    },
    {
      "cell_type": "code",
      "metadata": {
        "colab": {
          "base_uri": "https://localhost:8080/",
          "height": 282
        },
        "id": "zN7IIJ4lYFrn",
        "outputId": "eaeb0ec3-2d4f-4c86-cd37-baedffe44d8b"
      },
      "source": [
        "counts = gas_prices_brazil_df['coef_variacao_distribuicao_dist'].value_counts()\n",
        "counts.plot.bar(rot=0, color=['red','green', 'blue', 'orange'])"
      ],
      "execution_count": null,
      "outputs": [
        {
          "output_type": "execute_result",
          "data": {
            "text/plain": [
              "<matplotlib.axes._subplots.AxesSubplot at 0x7ff69ad49d90>"
            ]
          },
          "metadata": {},
          "execution_count": 68
        },
        {
          "output_type": "display_data",
          "data": {
            "image/png": "[encoded data removed]",
            "text/plain": [
              "<Figure size 432x288 with 1 Axes>"
            ]
          },
          "metadata": {
            "needs_background": "light"
          }
        }
      ]
    },
    {
      "cell_type": "markdown",
      "metadata": {
        "id": "O3r64rGmVCXn"
      },
      "source": [
        "## Export Format Dataset"
      ]
    },
    {
      "cell_type": "code",
      "metadata": {
        "id": "ebq_CzPeVXjz"
      },
      "source": [
        "gas_prices_brazil_df.to_csv('norm_dist_gas_prices_brazil.csv')"
      ],
      "execution_count": null,
      "outputs": []
    },
    {
      "cell_type": "markdown",
      "metadata": {
        "id": "9l5Fi_NlQstW"
      },
      "source": [
        "### Info Dataframe"
      ]
    },
    {
      "cell_type": "code",
      "metadata": {
        "colab": {
          "base_uri": "https://localhost:8080/"
        },
        "id": "SSTo0iCCQvIw",
        "outputId": "6bce703a-dc45-442b-b4d6-eb5691f178dd"
      },
      "source": [
        "gas_prices_brazil_df.info()"
      ],
      "execution_count": null,
      "outputs": [
        {
          "output_type": "stream",
          "name": "stdout",
          "text": [
            "<class 'pandas.core.frame.DataFrame'>\n",
            "RangeIndex: 106823 entries, 0 to 106822\n",
            "Data columns (total 21 columns):\n",
            " #   Column                         Non-Null Count   Dtype  \n",
            "---  ------                         --------------   -----  \n",
            " 0   Unnamed: 0                     106823 non-null  int64  \n",
            " 1   DATA INICIAL                   106823 non-null  object \n",
            " 2   DATA FINAL                     106823 non-null  object \n",
            " 3   REGIÃO                         106823 non-null  object \n",
            " 4   ESTADO                         106823 non-null  object \n",
            " 5   PRODUTO                        106823 non-null  object \n",
            " 6   NÚMERO DE POSTOS PESQUISADOS   106823 non-null  int64  \n",
            " 7   UNIDADE DE MEDIDA              106823 non-null  object \n",
            " 8   PREÇO MÉDIO REVENDA            106823 non-null  float64\n",
            " 9   DESVIO PADRÃO REVENDA          106823 non-null  float64\n",
            " 10  PREÇO MÍNIMO REVENDA           106823 non-null  float64\n",
            " 11  PREÇO MÁXIMO REVENDA           106823 non-null  float64\n",
            " 12  MARGEM MÉDIA REVENDA           106823 non-null  object \n",
            " 13  COEF DE VARIAÇÃO REVENDA       106823 non-null  float64\n",
            " 14  PREÇO MÉDIO DISTRIBUIÇÃO       106823 non-null  object \n",
            " 15  DESVIO PADRÃO DISTRIBUIÇÃO     106823 non-null  object \n",
            " 16  PREÇO MÍNIMO DISTRIBUIÇÃO      106823 non-null  object \n",
            " 17  PREÇO MÁXIMO DISTRIBUIÇÃO      106823 non-null  object \n",
            " 18  COEF DE VARIAÇÃO DISTRIBUIÇÃO  106823 non-null  object \n",
            " 19  MÊS                            106823 non-null  int64  \n",
            " 20  ANO                            106823 non-null  int64  \n",
            "dtypes: float64(5), int64(4), object(12)\n",
            "memory usage: 17.1+ MB\n"
          ]
        }
      ]
    },
    {
      "cell_type": "markdown",
      "metadata": {
        "id": "4ptiVU0bL76H"
      },
      "source": [
        "### Visualize the fifth intances"
      ]
    },
    {
      "cell_type": "code",
      "metadata": {
        "colab": {
          "base_uri": "https://localhost:8080/",
          "height": 358
        },
        "id": "RfgjEt23MDvy",
        "outputId": "a3209e80-14eb-4f2d-88ec-e53ab37819d1"
      },
      "source": [
        "gas_prices_brazil_df.head()"
      ],
      "execution_count": null,
      "outputs": [
        {
          "output_type": "execute_result",
          "data": {
            "text/html": [
              "<div>\n",
              "<style scoped>\n",
              "    .dataframe tbody tr th:only-of-type {\n",
              "        vertical-align: middle;\n",
              "    }\n",
              "\n",
              "    .dataframe tbody tr th {\n",
              "        vertical-align: top;\n",
              "    }\n",
              "\n",
              "    .dataframe thead th {\n",
              "        text-align: right;\n",
              "    }\n",
              "</style>\n",
              "<table border=\"1\" class=\"dataframe\">\n",
              "  <thead>\n",
              "    <tr style=\"text-align: right;\">\n",
              "      <th></th>\n",
              "      <th>Unnamed: 0</th>\n",
              "      <th>DATA INICIAL</th>\n",
              "      <th>DATA FINAL</th>\n",
              "      <th>REGIÃO</th>\n",
              "      <th>ESTADO</th>\n",
              "      <th>PRODUTO</th>\n",
              "      <th>NÚMERO DE POSTOS PESQUISADOS</th>\n",
              "      <th>UNIDADE DE MEDIDA</th>\n",
              "      <th>PREÇO MÉDIO REVENDA</th>\n",
              "      <th>DESVIO PADRÃO REVENDA</th>\n",
              "      <th>PREÇO MÍNIMO REVENDA</th>\n",
              "      <th>PREÇO MÁXIMO REVENDA</th>\n",
              "      <th>MARGEM MÉDIA REVENDA</th>\n",
              "      <th>COEF DE VARIAÇÃO REVENDA</th>\n",
              "      <th>PREÇO MÉDIO DISTRIBUIÇÃO</th>\n",
              "      <th>DESVIO PADRÃO DISTRIBUIÇÃO</th>\n",
              "      <th>PREÇO MÍNIMO DISTRIBUIÇÃO</th>\n",
              "      <th>PREÇO MÁXIMO DISTRIBUIÇÃO</th>\n",
              "      <th>COEF DE VARIAÇÃO DISTRIBUIÇÃO</th>\n",
              "      <th>MÊS</th>\n",
              "      <th>ANO</th>\n",
              "    </tr>\n",
              "  </thead>\n",
              "  <tbody>\n",
              "    <tr>\n",
              "      <th>0</th>\n",
              "      <td>0</td>\n",
              "      <td>2004-05-09</td>\n",
              "      <td>2004-05-15</td>\n",
              "      <td>CENTRO OESTE</td>\n",
              "      <td>DISTRITO FEDERAL</td>\n",
              "      <td>ETANOL HIDRATADO</td>\n",
              "      <td>127</td>\n",
              "      <td>R$/l</td>\n",
              "      <td>1.288</td>\n",
              "      <td>0.016</td>\n",
              "      <td>1.19</td>\n",
              "      <td>1.350</td>\n",
              "      <td>0.463</td>\n",
              "      <td>0.012</td>\n",
              "      <td>0.825</td>\n",
              "      <td>0.11</td>\n",
              "      <td>0.4201</td>\n",
              "      <td>0.9666</td>\n",
              "      <td>0.133</td>\n",
              "      <td>5</td>\n",
              "      <td>2004</td>\n",
              "    </tr>\n",
              "    <tr>\n",
              "      <th>1</th>\n",
              "      <td>1</td>\n",
              "      <td>2004-05-09</td>\n",
              "      <td>2004-05-15</td>\n",
              "      <td>CENTRO OESTE</td>\n",
              "      <td>GOIAS</td>\n",
              "      <td>ETANOL HIDRATADO</td>\n",
              "      <td>387</td>\n",
              "      <td>R$/l</td>\n",
              "      <td>1.162</td>\n",
              "      <td>0.114</td>\n",
              "      <td>0.89</td>\n",
              "      <td>1.449</td>\n",
              "      <td>0.399</td>\n",
              "      <td>0.098</td>\n",
              "      <td>0.763</td>\n",
              "      <td>0.088</td>\n",
              "      <td>0.5013</td>\n",
              "      <td>1.05</td>\n",
              "      <td>0.115</td>\n",
              "      <td>5</td>\n",
              "      <td>2004</td>\n",
              "    </tr>\n",
              "    <tr>\n",
              "      <th>2</th>\n",
              "      <td>2</td>\n",
              "      <td>2004-05-09</td>\n",
              "      <td>2004-05-15</td>\n",
              "      <td>CENTRO OESTE</td>\n",
              "      <td>MATO GROSSO</td>\n",
              "      <td>ETANOL HIDRATADO</td>\n",
              "      <td>192</td>\n",
              "      <td>R$/l</td>\n",
              "      <td>1.389</td>\n",
              "      <td>0.097</td>\n",
              "      <td>1.18</td>\n",
              "      <td>1.760</td>\n",
              "      <td>0.419</td>\n",
              "      <td>0.070</td>\n",
              "      <td>0.97</td>\n",
              "      <td>0.095</td>\n",
              "      <td>0.5614</td>\n",
              "      <td>1.161</td>\n",
              "      <td>0.098</td>\n",
              "      <td>5</td>\n",
              "      <td>2004</td>\n",
              "    </tr>\n",
              "    <tr>\n",
              "      <th>3</th>\n",
              "      <td>3</td>\n",
              "      <td>2004-05-09</td>\n",
              "      <td>2004-05-15</td>\n",
              "      <td>CENTRO OESTE</td>\n",
              "      <td>MATO GROSSO DO SUL</td>\n",
              "      <td>ETANOL HIDRATADO</td>\n",
              "      <td>162</td>\n",
              "      <td>R$/l</td>\n",
              "      <td>1.262</td>\n",
              "      <td>0.070</td>\n",
              "      <td>1.09</td>\n",
              "      <td>1.509</td>\n",
              "      <td>0.432</td>\n",
              "      <td>0.055</td>\n",
              "      <td>0.83</td>\n",
              "      <td>0.119</td>\n",
              "      <td>0.5991</td>\n",
              "      <td>1.22242</td>\n",
              "      <td>0.143</td>\n",
              "      <td>5</td>\n",
              "      <td>2004</td>\n",
              "    </tr>\n",
              "    <tr>\n",
              "      <th>4</th>\n",
              "      <td>4</td>\n",
              "      <td>2004-05-09</td>\n",
              "      <td>2004-05-15</td>\n",
              "      <td>NORDESTE</td>\n",
              "      <td>ALAGOAS</td>\n",
              "      <td>ETANOL HIDRATADO</td>\n",
              "      <td>103</td>\n",
              "      <td>R$/l</td>\n",
              "      <td>1.181</td>\n",
              "      <td>0.078</td>\n",
              "      <td>1.05</td>\n",
              "      <td>1.400</td>\n",
              "      <td>0.24</td>\n",
              "      <td>0.066</td>\n",
              "      <td>0.941</td>\n",
              "      <td>0.077</td>\n",
              "      <td>0.7441</td>\n",
              "      <td>1.0317</td>\n",
              "      <td>0.082</td>\n",
              "      <td>5</td>\n",
              "      <td>2004</td>\n",
              "    </tr>\n",
              "  </tbody>\n",
              "</table>\n",
              "</div>"
            ],
            "text/plain": [
              "   Unnamed: 0 DATA INICIAL  DATA FINAL  ... COEF DE VARIAÇÃO DISTRIBUIÇÃO MÊS   ANO\n",
              "0           0   2004-05-09  2004-05-15  ...                         0.133   5  2004\n",
              "1           1   2004-05-09  2004-05-15  ...                         0.115   5  2004\n",
              "2           2   2004-05-09  2004-05-15  ...                         0.098   5  2004\n",
              "3           3   2004-05-09  2004-05-15  ...                         0.143   5  2004\n",
              "4           4   2004-05-09  2004-05-15  ...                         0.082   5  2004\n",
              "\n",
              "[5 rows x 21 columns]"
            ]
          },
          "metadata": {},
          "execution_count": 6
        }
      ]
    },
    {
      "cell_type": "markdown",
      "metadata": {
        "id": "bHKoXuUqP3X3"
      },
      "source": [
        "### Describe statiscal "
      ]
    },
    {
      "cell_type": "code",
      "metadata": {
        "colab": {
          "base_uri": "https://localhost:8080/",
          "height": 349
        },
        "id": "3E8_V3KhQTKo",
        "outputId": "5f714250-9c1e-45a0-a78b-cd9a718c4d93"
      },
      "source": [
        "gas_prices_brazil_df.describe()"
      ],
      "execution_count": null,
      "outputs": [
        {
          "output_type": "execute_result",
          "data": {
            "text/html": [
              "<div>\n",
              "<style scoped>\n",
              "    .dataframe tbody tr th:only-of-type {\n",
              "        vertical-align: middle;\n",
              "    }\n",
              "\n",
              "    .dataframe tbody tr th {\n",
              "        vertical-align: top;\n",
              "    }\n",
              "\n",
              "    .dataframe thead th {\n",
              "        text-align: right;\n",
              "    }\n",
              "</style>\n",
              "<table border=\"1\" class=\"dataframe\">\n",
              "  <thead>\n",
              "    <tr style=\"text-align: right;\">\n",
              "      <th></th>\n",
              "      <th>Unnamed: 0</th>\n",
              "      <th>NÚMERO DE POSTOS PESQUISADOS</th>\n",
              "      <th>PREÇO MÉDIO REVENDA</th>\n",
              "      <th>DESVIO PADRÃO REVENDA</th>\n",
              "      <th>PREÇO MÍNIMO REVENDA</th>\n",
              "      <th>PREÇO MÁXIMO REVENDA</th>\n",
              "      <th>COEF DE VARIAÇÃO REVENDA</th>\n",
              "      <th>MÊS</th>\n",
              "      <th>ANO</th>\n",
              "    </tr>\n",
              "  </thead>\n",
              "  <tbody>\n",
              "    <tr>\n",
              "      <th>count</th>\n",
              "      <td>106823.00000</td>\n",
              "      <td>106823.000000</td>\n",
              "      <td>106823.000000</td>\n",
              "      <td>106823.000000</td>\n",
              "      <td>106823.000000</td>\n",
              "      <td>106823.000000</td>\n",
              "      <td>106823.000000</td>\n",
              "      <td>106823.000000</td>\n",
              "      <td>106823.000000</td>\n",
              "    </tr>\n",
              "    <tr>\n",
              "      <th>mean</th>\n",
              "      <td>53411.00000</td>\n",
              "      <td>233.770976</td>\n",
              "      <td>10.870780</td>\n",
              "      <td>0.657227</td>\n",
              "      <td>9.416038</td>\n",
              "      <td>12.537731</td>\n",
              "      <td>0.045418</td>\n",
              "      <td>6.484006</td>\n",
              "      <td>2011.802271</td>\n",
              "    </tr>\n",
              "    <tr>\n",
              "      <th>std</th>\n",
              "      <td>30837.28824</td>\n",
              "      <td>403.282519</td>\n",
              "      <td>17.752533</td>\n",
              "      <td>1.349169</td>\n",
              "      <td>15.092193</td>\n",
              "      <td>20.841497</td>\n",
              "      <td>0.025066</td>\n",
              "      <td>3.443391</td>\n",
              "      <td>4.391530</td>\n",
              "    </tr>\n",
              "    <tr>\n",
              "      <th>min</th>\n",
              "      <td>0.00000</td>\n",
              "      <td>1.000000</td>\n",
              "      <td>0.766000</td>\n",
              "      <td>0.000000</td>\n",
              "      <td>0.590000</td>\n",
              "      <td>0.999000</td>\n",
              "      <td>0.000000</td>\n",
              "      <td>1.000000</td>\n",
              "      <td>2004.000000</td>\n",
              "    </tr>\n",
              "    <tr>\n",
              "      <th>25%</th>\n",
              "      <td>26705.50000</td>\n",
              "      <td>42.000000</td>\n",
              "      <td>2.072000</td>\n",
              "      <td>0.072000</td>\n",
              "      <td>1.900000</td>\n",
              "      <td>2.310000</td>\n",
              "      <td>0.029000</td>\n",
              "      <td>4.000000</td>\n",
              "      <td>2008.000000</td>\n",
              "    </tr>\n",
              "    <tr>\n",
              "      <th>50%</th>\n",
              "      <td>53411.00000</td>\n",
              "      <td>104.000000</td>\n",
              "      <td>2.718000</td>\n",
              "      <td>0.114000</td>\n",
              "      <td>2.510000</td>\n",
              "      <td>2.999000</td>\n",
              "      <td>0.041000</td>\n",
              "      <td>6.000000</td>\n",
              "      <td>2012.000000</td>\n",
              "    </tr>\n",
              "    <tr>\n",
              "      <th>75%</th>\n",
              "      <td>80116.50000</td>\n",
              "      <td>243.000000</td>\n",
              "      <td>3.752000</td>\n",
              "      <td>0.191000</td>\n",
              "      <td>3.499000</td>\n",
              "      <td>4.150000</td>\n",
              "      <td>0.058000</td>\n",
              "      <td>9.000000</td>\n",
              "      <td>2016.000000</td>\n",
              "    </tr>\n",
              "    <tr>\n",
              "      <th>max</th>\n",
              "      <td>106822.00000</td>\n",
              "      <td>4167.000000</td>\n",
              "      <td>99.357000</td>\n",
              "      <td>10.748000</td>\n",
              "      <td>90.000000</td>\n",
              "      <td>120.000000</td>\n",
              "      <td>0.395000</td>\n",
              "      <td>12.000000</td>\n",
              "      <td>2019.000000</td>\n",
              "    </tr>\n",
              "  </tbody>\n",
              "</table>\n",
              "</div>"
            ],
            "text/plain": [
              "         Unnamed: 0  NÚMERO DE POSTOS PESQUISADOS  ...            MÊS            ANO\n",
              "count  106823.00000                 106823.000000  ...  106823.000000  106823.000000\n",
              "mean    53411.00000                    233.770976  ...       6.484006    2011.802271\n",
              "std     30837.28824                    403.282519  ...       3.443391       4.391530\n",
              "min         0.00000                      1.000000  ...       1.000000    2004.000000\n",
              "25%     26705.50000                     42.000000  ...       4.000000    2008.000000\n",
              "50%     53411.00000                    104.000000  ...       6.000000    2012.000000\n",
              "75%     80116.50000                    243.000000  ...       9.000000    2016.000000\n",
              "max    106822.00000                   4167.000000  ...      12.000000    2019.000000\n",
              "\n",
              "[8 rows x 9 columns]"
            ]
          },
          "metadata": {},
          "execution_count": 7
        }
      ]
    },
    {
      "cell_type": "markdown",
      "metadata": {
        "id": "PqjQRJUmP3G2"
      },
      "source": [
        "### Select multiple Columns"
      ]
    },
    {
      "cell_type": "code",
      "metadata": {
        "colab": {
          "base_uri": "https://localhost:8080/"
        },
        "id": "WhvJPRR9Rdi3",
        "outputId": "d22cd5e7-4cf3-4763-e770-83154a1e2f08"
      },
      "source": [
        "columns_gas_prices_brazil_df = gas_prices_brazil_df.columns.to_list()\n",
        "columns_gas_prices_brazil_df"
      ],
      "execution_count": null,
      "outputs": [
        {
          "output_type": "execute_result",
          "data": {
            "text/plain": [
              "['Unnamed: 0',\n",
              " 'DATA INICIAL',\n",
              " 'DATA FINAL',\n",
              " 'REGIÃO',\n",
              " 'ESTADO',\n",
              " 'PRODUTO',\n",
              " 'NÚMERO DE POSTOS PESQUISADOS',\n",
              " 'UNIDADE DE MEDIDA',\n",
              " 'PREÇO MÉDIO REVENDA',\n",
              " 'DESVIO PADRÃO REVENDA',\n",
              " 'PREÇO MÍNIMO REVENDA',\n",
              " 'PREÇO MÁXIMO REVENDA',\n",
              " 'MARGEM MÉDIA REVENDA',\n",
              " 'COEF DE VARIAÇÃO REVENDA',\n",
              " 'PREÇO MÉDIO DISTRIBUIÇÃO',\n",
              " 'DESVIO PADRÃO DISTRIBUIÇÃO',\n",
              " 'PREÇO MÍNIMO DISTRIBUIÇÃO',\n",
              " 'PREÇO MÁXIMO DISTRIBUIÇÃO',\n",
              " 'COEF DE VARIAÇÃO DISTRIBUIÇÃO',\n",
              " 'MÊS',\n",
              " 'ANO']"
            ]
          },
          "metadata": {},
          "execution_count": 8
        }
      ]
    },
    {
      "cell_type": "code",
      "metadata": {
        "id": "J9hWZWSoSGw_"
      },
      "source": [
        " interess_columns_gas_prices_brazil_df  = ['REGIÃO', 'ESTADO', 'PRODUTO','NÚMERO DE POSTOS PESQUISADOS', 'COEF DE VARIAÇÃO REVENDA','PREÇO MÉDIO REVENDA','COEF DE VARIAÇÃO DISTRIBUIÇÃO', 'PREÇO MÉDIO DISTRIBUIÇÃO',  'DATA INICIAL', 'DATA FINAL','MÊS', 'ANO' ]"
      ],
      "execution_count": null,
      "outputs": []
    },
    {
      "cell_type": "code",
      "metadata": {
        "colab": {
          "base_uri": "https://localhost:8080/",
          "height": 358
        },
        "id": "MWpuuxPZRW1Q",
        "outputId": "f063e00b-2d2e-467b-805c-8fec226c711f"
      },
      "source": [
        "interess_gas_prices_brazil_df = gas_prices_brazil_df[interess_columns_gas_prices_brazil_df]\n",
        "\n",
        "interess_gas_prices_brazil_df.head()"
      ],
      "execution_count": null,
      "outputs": [
        {
          "output_type": "execute_result",
          "data": {
            "text/html": [
              "<div>\n",
              "<style scoped>\n",
              "    .dataframe tbody tr th:only-of-type {\n",
              "        vertical-align: middle;\n",
              "    }\n",
              "\n",
              "    .dataframe tbody tr th {\n",
              "        vertical-align: top;\n",
              "    }\n",
              "\n",
              "    .dataframe thead th {\n",
              "        text-align: right;\n",
              "    }\n",
              "</style>\n",
              "<table border=\"1\" class=\"dataframe\">\n",
              "  <thead>\n",
              "    <tr style=\"text-align: right;\">\n",
              "      <th></th>\n",
              "      <th>REGIÃO</th>\n",
              "      <th>ESTADO</th>\n",
              "      <th>PRODUTO</th>\n",
              "      <th>NÚMERO DE POSTOS PESQUISADOS</th>\n",
              "      <th>COEF DE VARIAÇÃO REVENDA</th>\n",
              "      <th>PREÇO MÉDIO REVENDA</th>\n",
              "      <th>COEF DE VARIAÇÃO DISTRIBUIÇÃO</th>\n",
              "      <th>PREÇO MÉDIO DISTRIBUIÇÃO</th>\n",
              "      <th>DATA INICIAL</th>\n",
              "      <th>DATA FINAL</th>\n",
              "      <th>MÊS</th>\n",
              "      <th>ANO</th>\n",
              "    </tr>\n",
              "  </thead>\n",
              "  <tbody>\n",
              "    <tr>\n",
              "      <th>0</th>\n",
              "      <td>CENTRO OESTE</td>\n",
              "      <td>DISTRITO FEDERAL</td>\n",
              "      <td>ETANOL HIDRATADO</td>\n",
              "      <td>127</td>\n",
              "      <td>0.012</td>\n",
              "      <td>1.288</td>\n",
              "      <td>0.133</td>\n",
              "      <td>0.825</td>\n",
              "      <td>2004-05-09</td>\n",
              "      <td>2004-05-15</td>\n",
              "      <td>5</td>\n",
              "      <td>2004</td>\n",
              "    </tr>\n",
              "    <tr>\n",
              "      <th>1</th>\n",
              "      <td>CENTRO OESTE</td>\n",
              "      <td>GOIAS</td>\n",
              "      <td>ETANOL HIDRATADO</td>\n",
              "      <td>387</td>\n",
              "      <td>0.098</td>\n",
              "      <td>1.162</td>\n",
              "      <td>0.115</td>\n",
              "      <td>0.763</td>\n",
              "      <td>2004-05-09</td>\n",
              "      <td>2004-05-15</td>\n",
              "      <td>5</td>\n",
              "      <td>2004</td>\n",
              "    </tr>\n",
              "    <tr>\n",
              "      <th>2</th>\n",
              "      <td>CENTRO OESTE</td>\n",
              "      <td>MATO GROSSO</td>\n",
              "      <td>ETANOL HIDRATADO</td>\n",
              "      <td>192</td>\n",
              "      <td>0.070</td>\n",
              "      <td>1.389</td>\n",
              "      <td>0.098</td>\n",
              "      <td>0.97</td>\n",
              "      <td>2004-05-09</td>\n",
              "      <td>2004-05-15</td>\n",
              "      <td>5</td>\n",
              "      <td>2004</td>\n",
              "    </tr>\n",
              "    <tr>\n",
              "      <th>3</th>\n",
              "      <td>CENTRO OESTE</td>\n",
              "      <td>MATO GROSSO DO SUL</td>\n",
              "      <td>ETANOL HIDRATADO</td>\n",
              "      <td>162</td>\n",
              "      <td>0.055</td>\n",
              "      <td>1.262</td>\n",
              "      <td>0.143</td>\n",
              "      <td>0.83</td>\n",
              "      <td>2004-05-09</td>\n",
              "      <td>2004-05-15</td>\n",
              "      <td>5</td>\n",
              "      <td>2004</td>\n",
              "    </tr>\n",
              "    <tr>\n",
              "      <th>4</th>\n",
              "      <td>NORDESTE</td>\n",
              "      <td>ALAGOAS</td>\n",
              "      <td>ETANOL HIDRATADO</td>\n",
              "      <td>103</td>\n",
              "      <td>0.066</td>\n",
              "      <td>1.181</td>\n",
              "      <td>0.082</td>\n",
              "      <td>0.941</td>\n",
              "      <td>2004-05-09</td>\n",
              "      <td>2004-05-15</td>\n",
              "      <td>5</td>\n",
              "      <td>2004</td>\n",
              "    </tr>\n",
              "  </tbody>\n",
              "</table>\n",
              "</div>"
            ],
            "text/plain": [
              "         REGIÃO              ESTADO           PRODUTO  ...  DATA FINAL  MÊS   ANO\n",
              "0  CENTRO OESTE    DISTRITO FEDERAL  ETANOL HIDRATADO  ...  2004-05-15    5  2004\n",
              "1  CENTRO OESTE               GOIAS  ETANOL HIDRATADO  ...  2004-05-15    5  2004\n",
              "2  CENTRO OESTE         MATO GROSSO  ETANOL HIDRATADO  ...  2004-05-15    5  2004\n",
              "3  CENTRO OESTE  MATO GROSSO DO SUL  ETANOL HIDRATADO  ...  2004-05-15    5  2004\n",
              "4      NORDESTE             ALAGOAS  ETANOL HIDRATADO  ...  2004-05-15    5  2004\n",
              "\n",
              "[5 rows x 12 columns]"
            ]
          },
          "metadata": {},
          "execution_count": 10
        }
      ]
    },
    {
      "cell_type": "markdown",
      "metadata": {
        "id": "UOSZZ9WYTfT_"
      },
      "source": [
        "### Select the last Five line"
      ]
    },
    {
      "cell_type": "code",
      "metadata": {
        "colab": {
          "base_uri": "https://localhost:8080/"
        },
        "id": "RTHt_mh7Tj2W",
        "outputId": "12597f16-4040-4ae6-ce88-d0673a5d89eb"
      },
      "source": [
        "interess_gas_prices_brazil_df[-6:-1]"
      ],
      "execution_count": null,
      "outputs": [
        {
          "output_type": "execute_result",
          "data": {
            "text/html": [
              "<div>\n",
              "<style scoped>\n",
              "    .dataframe tbody tr th:only-of-type {\n",
              "        vertical-align: middle;\n",
              "    }\n",
              "\n",
              "    .dataframe tbody tr th {\n",
              "        vertical-align: top;\n",
              "    }\n",
              "\n",
              "    .dataframe thead th {\n",
              "        text-align: right;\n",
              "    }\n",
              "</style>\n",
              "<table border=\"1\" class=\"dataframe\">\n",
              "  <thead>\n",
              "    <tr style=\"text-align: right;\">\n",
              "      <th></th>\n",
              "      <th>REGIÃO</th>\n",
              "      <th>ESTADO</th>\n",
              "      <th>PRODUTO</th>\n",
              "      <th>NÚMERO DE POSTOS PESQUISADOS</th>\n",
              "      <th>COEF DE VARIAÇÃO REVENDA</th>\n",
              "      <th>PREÇO MÉDIO REVENDA</th>\n",
              "      <th>COEF DE VARIAÇÃO DISTRIBUIÇÃO</th>\n",
              "      <th>PREÇO MÉDIO DISTRIBUIÇÃO</th>\n",
              "      <th>DATA INICIAL</th>\n",
              "      <th>DATA FINAL</th>\n",
              "      <th>MÊS</th>\n",
              "      <th>ANO</th>\n",
              "    </tr>\n",
              "  </thead>\n",
              "  <tbody>\n",
              "    <tr>\n",
              "      <th>106817</th>\n",
              "      <td>SUDESTE</td>\n",
              "      <td>RIO DE JANEIRO</td>\n",
              "      <td>GNV</td>\n",
              "      <td>124</td>\n",
              "      <td>0.084</td>\n",
              "      <td>3.111</td>\n",
              "      <td>0.072</td>\n",
              "      <td>2.404</td>\n",
              "      <td>2019-06-23</td>\n",
              "      <td>2019-06-29</td>\n",
              "      <td>6</td>\n",
              "      <td>2019</td>\n",
              "    </tr>\n",
              "    <tr>\n",
              "      <th>106818</th>\n",
              "      <td>NORDESTE</td>\n",
              "      <td>RIO GRANDE DO NORTE</td>\n",
              "      <td>GNV</td>\n",
              "      <td>7</td>\n",
              "      <td>0.018</td>\n",
              "      <td>3.574</td>\n",
              "      <td>0</td>\n",
              "      <td>2.756</td>\n",
              "      <td>2019-06-23</td>\n",
              "      <td>2019-06-29</td>\n",
              "      <td>6</td>\n",
              "      <td>2019</td>\n",
              "    </tr>\n",
              "    <tr>\n",
              "      <th>106819</th>\n",
              "      <td>SUL</td>\n",
              "      <td>RIO GRANDE DO SUL</td>\n",
              "      <td>GNV</td>\n",
              "      <td>23</td>\n",
              "      <td>0.038</td>\n",
              "      <td>3.401</td>\n",
              "      <td>0.164</td>\n",
              "      <td>2.451</td>\n",
              "      <td>2019-06-23</td>\n",
              "      <td>2019-06-29</td>\n",
              "      <td>6</td>\n",
              "      <td>2019</td>\n",
              "    </tr>\n",
              "    <tr>\n",
              "      <th>106820</th>\n",
              "      <td>SUL</td>\n",
              "      <td>SANTA CATARINA</td>\n",
              "      <td>GNV</td>\n",
              "      <td>24</td>\n",
              "      <td>0.065</td>\n",
              "      <td>2.912</td>\n",
              "      <td>0</td>\n",
              "      <td>1.998</td>\n",
              "      <td>2019-06-23</td>\n",
              "      <td>2019-06-29</td>\n",
              "      <td>6</td>\n",
              "      <td>2019</td>\n",
              "    </tr>\n",
              "    <tr>\n",
              "      <th>106821</th>\n",
              "      <td>SUDESTE</td>\n",
              "      <td>SAO PAULO</td>\n",
              "      <td>GNV</td>\n",
              "      <td>52</td>\n",
              "      <td>0.076</td>\n",
              "      <td>3.020</td>\n",
              "      <td>0.07</td>\n",
              "      <td>2.374</td>\n",
              "      <td>2019-06-23</td>\n",
              "      <td>2019-06-29</td>\n",
              "      <td>6</td>\n",
              "      <td>2019</td>\n",
              "    </tr>\n",
              "  </tbody>\n",
              "</table>\n",
              "</div>"
            ],
            "text/plain": [
              "          REGIÃO               ESTADO PRODUTO  ...  DATA FINAL  MÊS   ANO\n",
              "106817   SUDESTE       RIO DE JANEIRO     GNV  ...  2019-06-29    6  2019\n",
              "106818  NORDESTE  RIO GRANDE DO NORTE     GNV  ...  2019-06-29    6  2019\n",
              "106819       SUL    RIO GRANDE DO SUL     GNV  ...  2019-06-29    6  2019\n",
              "106820       SUL       SANTA CATARINA     GNV  ...  2019-06-29    6  2019\n",
              "106821   SUDESTE            SAO PAULO     GNV  ...  2019-06-29    6  2019\n",
              "\n",
              "[5 rows x 12 columns]"
            ]
          },
          "metadata": {},
          "execution_count": 11
        }
      ]
    },
    {
      "cell_type": "markdown",
      "metadata": {
        "id": "-2IH_mw5USwZ"
      },
      "source": [
        "### Select loc"
      ]
    },
    {
      "cell_type": "code",
      "metadata": {
        "colab": {
          "base_uri": "https://localhost:8080/"
        },
        "id": "OPBBGYzWVkuq",
        "outputId": "8668b8eb-15f1-4199-83f8-4ac039fc6cd2"
      },
      "source": [
        "nordeste_region_filter = interess_gas_prices_brazil_df['REGIÃO'] == \"NORDESTE\"\n",
        "nordeste_region_filter"
      ],
      "execution_count": null,
      "outputs": [
        {
          "output_type": "execute_result",
          "data": {
            "text/plain": [
              "0         False\n",
              "1         False\n",
              "2         False\n",
              "3         False\n",
              "4          True\n",
              "          ...  \n",
              "106818     True\n",
              "106819    False\n",
              "106820    False\n",
              "106821    False\n",
              "106822     True\n",
              "Name: REGIÃO, Length: 106823, dtype: bool"
            ]
          },
          "metadata": {},
          "execution_count": 12
        }
      ]
    },
    {
      "cell_type": "code",
      "metadata": {
        "id": "nr-MPrmGUZ0W"
      },
      "source": [
        "nordeste_region_filter = interess_gas_prices_brazil_df['REGIÃO'] == \"NORDESTE\"\n",
        "pernambuco_estado_filter = interess_gas_prices_brazil_df['ESTADO'] == \"PERNAMBUCO\"\n",
        "ano_filter = interess_gas_prices_brazil_df['ANO'] == 2019\n",
        "\n"
      ],
      "execution_count": null,
      "outputs": []
    },
    {
      "cell_type": "markdown",
      "metadata": {
        "id": "79Q_cUYfV4Oi"
      },
      "source": [
        "### Select nordest region_filter"
      ]
    },
    {
      "cell_type": "code",
      "metadata": {
        "colab": {
          "base_uri": "https://localhost:8080/"
        },
        "id": "flkPhLxeV7cS",
        "outputId": "c889d218-38b7-4180-9063-24142928085a"
      },
      "source": [
        "interess_gas_prices_brazil_df.loc[nordeste_region_filter,interess_columns_gas_prices_brazil_df]\n"
      ],
      "execution_count": null,
      "outputs": [
        {
          "output_type": "execute_result",
          "data": {
            "text/html": [
              "<div>\n",
              "<style scoped>\n",
              "    .dataframe tbody tr th:only-of-type {\n",
              "        vertical-align: middle;\n",
              "    }\n",
              "\n",
              "    .dataframe tbody tr th {\n",
              "        vertical-align: top;\n",
              "    }\n",
              "\n",
              "    .dataframe thead th {\n",
              "        text-align: right;\n",
              "    }\n",
              "</style>\n",
              "<table border=\"1\" class=\"dataframe\">\n",
              "  <thead>\n",
              "    <tr style=\"text-align: right;\">\n",
              "      <th></th>\n",
              "      <th>REGIÃO</th>\n",
              "      <th>ESTADO</th>\n",
              "      <th>PRODUTO</th>\n",
              "      <th>NÚMERO DE POSTOS PESQUISADOS</th>\n",
              "      <th>COEF DE VARIAÇÃO REVENDA</th>\n",
              "      <th>PREÇO MÉDIO REVENDA</th>\n",
              "      <th>COEF DE VARIAÇÃO DISTRIBUIÇÃO</th>\n",
              "      <th>PREÇO MÉDIO DISTRIBUIÇÃO</th>\n",
              "      <th>DATA INICIAL</th>\n",
              "      <th>DATA FINAL</th>\n",
              "      <th>MÊS</th>\n",
              "      <th>ANO</th>\n",
              "    </tr>\n",
              "  </thead>\n",
              "  <tbody>\n",
              "    <tr>\n",
              "      <th>4</th>\n",
              "      <td>NORDESTE</td>\n",
              "      <td>ALAGOAS</td>\n",
              "      <td>ETANOL HIDRATADO</td>\n",
              "      <td>103</td>\n",
              "      <td>0.066</td>\n",
              "      <td>1.181</td>\n",
              "      <td>0.082</td>\n",
              "      <td>0.941</td>\n",
              "      <td>2004-05-09</td>\n",
              "      <td>2004-05-15</td>\n",
              "      <td>5</td>\n",
              "      <td>2004</td>\n",
              "    </tr>\n",
              "    <tr>\n",
              "      <th>5</th>\n",
              "      <td>NORDESTE</td>\n",
              "      <td>BAHIA</td>\n",
              "      <td>ETANOL HIDRATADO</td>\n",
              "      <td>408</td>\n",
              "      <td>0.095</td>\n",
              "      <td>1.383</td>\n",
              "      <td>0.134</td>\n",
              "      <td>0.957</td>\n",
              "      <td>2004-05-09</td>\n",
              "      <td>2004-05-15</td>\n",
              "      <td>5</td>\n",
              "      <td>2004</td>\n",
              "    </tr>\n",
              "    <tr>\n",
              "      <th>6</th>\n",
              "      <td>NORDESTE</td>\n",
              "      <td>CEARA</td>\n",
              "      <td>ETANOL HIDRATADO</td>\n",
              "      <td>278</td>\n",
              "      <td>0.150</td>\n",
              "      <td>1.453</td>\n",
              "      <td>0.062</td>\n",
              "      <td>1.1</td>\n",
              "      <td>2004-05-09</td>\n",
              "      <td>2004-05-15</td>\n",
              "      <td>5</td>\n",
              "      <td>2004</td>\n",
              "    </tr>\n",
              "    <tr>\n",
              "      <th>7</th>\n",
              "      <td>NORDESTE</td>\n",
              "      <td>MARANHAO</td>\n",
              "      <td>ETANOL HIDRATADO</td>\n",
              "      <td>105</td>\n",
              "      <td>0.097</td>\n",
              "      <td>1.631</td>\n",
              "      <td>0.082</td>\n",
              "      <td>1.116</td>\n",
              "      <td>2004-05-09</td>\n",
              "      <td>2004-05-15</td>\n",
              "      <td>5</td>\n",
              "      <td>2004</td>\n",
              "    </tr>\n",
              "    <tr>\n",
              "      <th>8</th>\n",
              "      <td>NORDESTE</td>\n",
              "      <td>PARAIBA</td>\n",
              "      <td>ETANOL HIDRATADO</td>\n",
              "      <td>125</td>\n",
              "      <td>0.101</td>\n",
              "      <td>1.284</td>\n",
              "      <td>0.077</td>\n",
              "      <td>0.931</td>\n",
              "      <td>2004-05-09</td>\n",
              "      <td>2004-05-15</td>\n",
              "      <td>5</td>\n",
              "      <td>2004</td>\n",
              "    </tr>\n",
              "    <tr>\n",
              "      <th>...</th>\n",
              "      <td>...</td>\n",
              "      <td>...</td>\n",
              "      <td>...</td>\n",
              "      <td>...</td>\n",
              "      <td>...</td>\n",
              "      <td>...</td>\n",
              "      <td>...</td>\n",
              "      <td>...</td>\n",
              "      <td>...</td>\n",
              "      <td>...</td>\n",
              "      <td>...</td>\n",
              "      <td>...</td>\n",
              "    </tr>\n",
              "    <tr>\n",
              "      <th>106810</th>\n",
              "      <td>NORDESTE</td>\n",
              "      <td>CEARA</td>\n",
              "      <td>GNV</td>\n",
              "      <td>16</td>\n",
              "      <td>0.009</td>\n",
              "      <td>3.656</td>\n",
              "      <td>0</td>\n",
              "      <td>2.78</td>\n",
              "      <td>2019-06-23</td>\n",
              "      <td>2019-06-29</td>\n",
              "      <td>6</td>\n",
              "      <td>2019</td>\n",
              "    </tr>\n",
              "    <tr>\n",
              "      <th>106814</th>\n",
              "      <td>NORDESTE</td>\n",
              "      <td>PARAIBA</td>\n",
              "      <td>GNV</td>\n",
              "      <td>11</td>\n",
              "      <td>0.004</td>\n",
              "      <td>3.688</td>\n",
              "      <td>0.008</td>\n",
              "      <td>3.068</td>\n",
              "      <td>2019-06-23</td>\n",
              "      <td>2019-06-29</td>\n",
              "      <td>6</td>\n",
              "      <td>2019</td>\n",
              "    </tr>\n",
              "    <tr>\n",
              "      <th>106816</th>\n",
              "      <td>NORDESTE</td>\n",
              "      <td>PERNAMBUCO</td>\n",
              "      <td>GNV</td>\n",
              "      <td>12</td>\n",
              "      <td>0.096</td>\n",
              "      <td>2.698</td>\n",
              "      <td>0.103</td>\n",
              "      <td>1.907</td>\n",
              "      <td>2019-06-23</td>\n",
              "      <td>2019-06-29</td>\n",
              "      <td>6</td>\n",
              "      <td>2019</td>\n",
              "    </tr>\n",
              "    <tr>\n",
              "      <th>106818</th>\n",
              "      <td>NORDESTE</td>\n",
              "      <td>RIO GRANDE DO NORTE</td>\n",
              "      <td>GNV</td>\n",
              "      <td>7</td>\n",
              "      <td>0.018</td>\n",
              "      <td>3.574</td>\n",
              "      <td>0</td>\n",
              "      <td>2.756</td>\n",
              "      <td>2019-06-23</td>\n",
              "      <td>2019-06-29</td>\n",
              "      <td>6</td>\n",
              "      <td>2019</td>\n",
              "    </tr>\n",
              "    <tr>\n",
              "      <th>106822</th>\n",
              "      <td>NORDESTE</td>\n",
              "      <td>SERGIPE</td>\n",
              "      <td>GNV</td>\n",
              "      <td>4</td>\n",
              "      <td>0.001</td>\n",
              "      <td>3.697</td>\n",
              "      <td>0</td>\n",
              "      <td>2.518</td>\n",
              "      <td>2019-06-23</td>\n",
              "      <td>2019-06-29</td>\n",
              "      <td>6</td>\n",
              "      <td>2019</td>\n",
              "    </tr>\n",
              "  </tbody>\n",
              "</table>\n",
              "<p>36869 rows × 12 columns</p>\n",
              "</div>"
            ],
            "text/plain": [
              "          REGIÃO               ESTADO           PRODUTO  ...  DATA FINAL  MÊS   ANO\n",
              "4       NORDESTE              ALAGOAS  ETANOL HIDRATADO  ...  2004-05-15    5  2004\n",
              "5       NORDESTE                BAHIA  ETANOL HIDRATADO  ...  2004-05-15    5  2004\n",
              "6       NORDESTE                CEARA  ETANOL HIDRATADO  ...  2004-05-15    5  2004\n",
              "7       NORDESTE             MARANHAO  ETANOL HIDRATADO  ...  2004-05-15    5  2004\n",
              "8       NORDESTE              PARAIBA  ETANOL HIDRATADO  ...  2004-05-15    5  2004\n",
              "...          ...                  ...               ...  ...         ...  ...   ...\n",
              "106810  NORDESTE                CEARA               GNV  ...  2019-06-29    6  2019\n",
              "106814  NORDESTE              PARAIBA               GNV  ...  2019-06-29    6  2019\n",
              "106816  NORDESTE           PERNAMBUCO               GNV  ...  2019-06-29    6  2019\n",
              "106818  NORDESTE  RIO GRANDE DO NORTE               GNV  ...  2019-06-29    6  2019\n",
              "106822  NORDESTE              SERGIPE               GNV  ...  2019-06-29    6  2019\n",
              "\n",
              "[36869 rows x 12 columns]"
            ]
          },
          "metadata": {},
          "execution_count": 14
        }
      ]
    },
    {
      "cell_type": "markdown",
      "metadata": {
        "id": "W_9GDHC7WDI-"
      },
      "source": [
        "### Select Pernambuco state filter"
      ]
    },
    {
      "cell_type": "code",
      "metadata": {
        "colab": {
          "base_uri": "https://localhost:8080/"
        },
        "id": "OmnsiUWPWGCv",
        "outputId": "b172fa22-168f-4198-952a-5a55a40a16c3"
      },
      "source": [
        "interess_gas_prices_brazil_df.loc[pernambuco_estado_filter,interess_columns_gas_prices_brazil_df]\n"
      ],
      "execution_count": null,
      "outputs": [
        {
          "output_type": "execute_result",
          "data": {
            "text/html": [
              "<div>\n",
              "<style scoped>\n",
              "    .dataframe tbody tr th:only-of-type {\n",
              "        vertical-align: middle;\n",
              "    }\n",
              "\n",
              "    .dataframe tbody tr th {\n",
              "        vertical-align: top;\n",
              "    }\n",
              "\n",
              "    .dataframe thead th {\n",
              "        text-align: right;\n",
              "    }\n",
              "</style>\n",
              "<table border=\"1\" class=\"dataframe\">\n",
              "  <thead>\n",
              "    <tr style=\"text-align: right;\">\n",
              "      <th></th>\n",
              "      <th>REGIÃO</th>\n",
              "      <th>ESTADO</th>\n",
              "      <th>PRODUTO</th>\n",
              "      <th>NÚMERO DE POSTOS PESQUISADOS</th>\n",
              "      <th>COEF DE VARIAÇÃO REVENDA</th>\n",
              "      <th>PREÇO MÉDIO REVENDA</th>\n",
              "      <th>COEF DE VARIAÇÃO DISTRIBUIÇÃO</th>\n",
              "      <th>PREÇO MÉDIO DISTRIBUIÇÃO</th>\n",
              "      <th>DATA INICIAL</th>\n",
              "      <th>DATA FINAL</th>\n",
              "      <th>MÊS</th>\n",
              "      <th>ANO</th>\n",
              "    </tr>\n",
              "  </thead>\n",
              "  <tbody>\n",
              "    <tr>\n",
              "      <th>9</th>\n",
              "      <td>NORDESTE</td>\n",
              "      <td>PERNAMBUCO</td>\n",
              "      <td>ETANOL HIDRATADO</td>\n",
              "      <td>423</td>\n",
              "      <td>0.115</td>\n",
              "      <td>1.224</td>\n",
              "      <td>0.096</td>\n",
              "      <td>0.947</td>\n",
              "      <td>2004-05-09</td>\n",
              "      <td>2004-05-15</td>\n",
              "      <td>5</td>\n",
              "      <td>2004</td>\n",
              "    </tr>\n",
              "    <tr>\n",
              "      <th>36</th>\n",
              "      <td>NORDESTE</td>\n",
              "      <td>PERNAMBUCO</td>\n",
              "      <td>ETANOL HIDRATADO</td>\n",
              "      <td>435</td>\n",
              "      <td>0.113</td>\n",
              "      <td>1.217</td>\n",
              "      <td>0.084</td>\n",
              "      <td>0.931</td>\n",
              "      <td>2004-05-16</td>\n",
              "      <td>2004-05-22</td>\n",
              "      <td>5</td>\n",
              "      <td>2004</td>\n",
              "    </tr>\n",
              "    <tr>\n",
              "      <th>63</th>\n",
              "      <td>NORDESTE</td>\n",
              "      <td>PERNAMBUCO</td>\n",
              "      <td>ETANOL HIDRATADO</td>\n",
              "      <td>421</td>\n",
              "      <td>0.112</td>\n",
              "      <td>1.217</td>\n",
              "      <td>0.084</td>\n",
              "      <td>0.946</td>\n",
              "      <td>2004-05-23</td>\n",
              "      <td>2004-05-29</td>\n",
              "      <td>5</td>\n",
              "      <td>2004</td>\n",
              "    </tr>\n",
              "    <tr>\n",
              "      <th>90</th>\n",
              "      <td>NORDESTE</td>\n",
              "      <td>PERNAMBUCO</td>\n",
              "      <td>ETANOL HIDRATADO</td>\n",
              "      <td>425</td>\n",
              "      <td>0.108</td>\n",
              "      <td>1.216</td>\n",
              "      <td>0.078</td>\n",
              "      <td>0.963</td>\n",
              "      <td>2004-05-30</td>\n",
              "      <td>2004-06-05</td>\n",
              "      <td>5</td>\n",
              "      <td>2004</td>\n",
              "    </tr>\n",
              "    <tr>\n",
              "      <th>117</th>\n",
              "      <td>NORDESTE</td>\n",
              "      <td>PERNAMBUCO</td>\n",
              "      <td>ETANOL HIDRATADO</td>\n",
              "      <td>415</td>\n",
              "      <td>0.096</td>\n",
              "      <td>1.235</td>\n",
              "      <td>0.086</td>\n",
              "      <td>0.972</td>\n",
              "      <td>2004-06-06</td>\n",
              "      <td>2004-06-12</td>\n",
              "      <td>6</td>\n",
              "      <td>2004</td>\n",
              "    </tr>\n",
              "    <tr>\n",
              "      <th>...</th>\n",
              "      <td>...</td>\n",
              "      <td>...</td>\n",
              "      <td>...</td>\n",
              "      <td>...</td>\n",
              "      <td>...</td>\n",
              "      <td>...</td>\n",
              "      <td>...</td>\n",
              "      <td>...</td>\n",
              "      <td>...</td>\n",
              "      <td>...</td>\n",
              "      <td>...</td>\n",
              "      <td>...</td>\n",
              "    </tr>\n",
              "    <tr>\n",
              "      <th>106716</th>\n",
              "      <td>NORDESTE</td>\n",
              "      <td>PERNAMBUCO</td>\n",
              "      <td>ÓLEO DIESEL</td>\n",
              "      <td>8</td>\n",
              "      <td>0.036</td>\n",
              "      <td>3.681</td>\n",
              "      <td>0.038</td>\n",
              "      <td>3.276</td>\n",
              "      <td>2019-06-23</td>\n",
              "      <td>2019-06-29</td>\n",
              "      <td>6</td>\n",
              "      <td>2019</td>\n",
              "    </tr>\n",
              "    <tr>\n",
              "      <th>106743</th>\n",
              "      <td>NORDESTE</td>\n",
              "      <td>PERNAMBUCO</td>\n",
              "      <td>ÓLEO DIESEL S10</td>\n",
              "      <td>174</td>\n",
              "      <td>0.040</td>\n",
              "      <td>3.556</td>\n",
              "      <td>0.032</td>\n",
              "      <td>3.106</td>\n",
              "      <td>2019-06-23</td>\n",
              "      <td>2019-06-29</td>\n",
              "      <td>6</td>\n",
              "      <td>2019</td>\n",
              "    </tr>\n",
              "    <tr>\n",
              "      <th>106770</th>\n",
              "      <td>NORDESTE</td>\n",
              "      <td>PERNAMBUCO</td>\n",
              "      <td>GASOLINA COMUM</td>\n",
              "      <td>192</td>\n",
              "      <td>0.042</td>\n",
              "      <td>4.445</td>\n",
              "      <td>0.018</td>\n",
              "      <td>3.945</td>\n",
              "      <td>2019-06-23</td>\n",
              "      <td>2019-06-29</td>\n",
              "      <td>6</td>\n",
              "      <td>2019</td>\n",
              "    </tr>\n",
              "    <tr>\n",
              "      <th>106797</th>\n",
              "      <td>NORDESTE</td>\n",
              "      <td>PERNAMBUCO</td>\n",
              "      <td>GLP</td>\n",
              "      <td>165</td>\n",
              "      <td>0.055</td>\n",
              "      <td>66.735</td>\n",
              "      <td>0.06</td>\n",
              "      <td>53.498</td>\n",
              "      <td>2019-06-23</td>\n",
              "      <td>2019-06-29</td>\n",
              "      <td>6</td>\n",
              "      <td>2019</td>\n",
              "    </tr>\n",
              "    <tr>\n",
              "      <th>106816</th>\n",
              "      <td>NORDESTE</td>\n",
              "      <td>PERNAMBUCO</td>\n",
              "      <td>GNV</td>\n",
              "      <td>12</td>\n",
              "      <td>0.096</td>\n",
              "      <td>2.698</td>\n",
              "      <td>0.103</td>\n",
              "      <td>1.907</td>\n",
              "      <td>2019-06-23</td>\n",
              "      <td>2019-06-29</td>\n",
              "      <td>6</td>\n",
              "      <td>2019</td>\n",
              "    </tr>\n",
              "  </tbody>\n",
              "</table>\n",
              "<p>4262 rows × 12 columns</p>\n",
              "</div>"
            ],
            "text/plain": [
              "          REGIÃO      ESTADO           PRODUTO  ...  DATA FINAL  MÊS   ANO\n",
              "9       NORDESTE  PERNAMBUCO  ETANOL HIDRATADO  ...  2004-05-15    5  2004\n",
              "36      NORDESTE  PERNAMBUCO  ETANOL HIDRATADO  ...  2004-05-22    5  2004\n",
              "63      NORDESTE  PERNAMBUCO  ETANOL HIDRATADO  ...  2004-05-29    5  2004\n",
              "90      NORDESTE  PERNAMBUCO  ETANOL HIDRATADO  ...  2004-06-05    5  2004\n",
              "117     NORDESTE  PERNAMBUCO  ETANOL HIDRATADO  ...  2004-06-12    6  2004\n",
              "...          ...         ...               ...  ...         ...  ...   ...\n",
              "106716  NORDESTE  PERNAMBUCO       ÓLEO DIESEL  ...  2019-06-29    6  2019\n",
              "106743  NORDESTE  PERNAMBUCO   ÓLEO DIESEL S10  ...  2019-06-29    6  2019\n",
              "106770  NORDESTE  PERNAMBUCO    GASOLINA COMUM  ...  2019-06-29    6  2019\n",
              "106797  NORDESTE  PERNAMBUCO               GLP  ...  2019-06-29    6  2019\n",
              "106816  NORDESTE  PERNAMBUCO               GNV  ...  2019-06-29    6  2019\n",
              "\n",
              "[4262 rows x 12 columns]"
            ]
          },
          "metadata": {},
          "execution_count": 15
        }
      ]
    },
    {
      "cell_type": "markdown",
      "metadata": {
        "id": "6wtaU3yNWyoI"
      },
      "source": [
        "### Select 2019 Year Filter"
      ]
    },
    {
      "cell_type": "code",
      "metadata": {
        "colab": {
          "base_uri": "https://localhost:8080/"
        },
        "id": "zJPRCFuLW1Ow",
        "outputId": "530943cf-dadc-443a-f2fe-2817c145c4be"
      },
      "source": [
        "interess_gas_prices_brazil_df.loc[ano_filter,interess_columns_gas_prices_brazil_df]\n"
      ],
      "execution_count": null,
      "outputs": [
        {
          "output_type": "execute_result",
          "data": {
            "text/html": [
              "<div>\n",
              "<style scoped>\n",
              "    .dataframe tbody tr th:only-of-type {\n",
              "        vertical-align: middle;\n",
              "    }\n",
              "\n",
              "    .dataframe tbody tr th {\n",
              "        vertical-align: top;\n",
              "    }\n",
              "\n",
              "    .dataframe thead th {\n",
              "        text-align: right;\n",
              "    }\n",
              "</style>\n",
              "<table border=\"1\" class=\"dataframe\">\n",
              "  <thead>\n",
              "    <tr style=\"text-align: right;\">\n",
              "      <th></th>\n",
              "      <th>REGIÃO</th>\n",
              "      <th>ESTADO</th>\n",
              "      <th>PRODUTO</th>\n",
              "      <th>NÚMERO DE POSTOS PESQUISADOS</th>\n",
              "      <th>COEF DE VARIAÇÃO REVENDA</th>\n",
              "      <th>PREÇO MÉDIO REVENDA</th>\n",
              "      <th>COEF DE VARIAÇÃO DISTRIBUIÇÃO</th>\n",
              "      <th>PREÇO MÉDIO DISTRIBUIÇÃO</th>\n",
              "      <th>DATA INICIAL</th>\n",
              "      <th>DATA FINAL</th>\n",
              "      <th>MÊS</th>\n",
              "      <th>ANO</th>\n",
              "    </tr>\n",
              "  </thead>\n",
              "  <tbody>\n",
              "    <tr>\n",
              "      <th>103069</th>\n",
              "      <td>NORTE</td>\n",
              "      <td>ACRE</td>\n",
              "      <td>ETANOL HIDRATADO</td>\n",
              "      <td>18</td>\n",
              "      <td>0.070</td>\n",
              "      <td>4.032</td>\n",
              "      <td>0.032</td>\n",
              "      <td>3.455</td>\n",
              "      <td>2019-01-06</td>\n",
              "      <td>2019-01-12</td>\n",
              "      <td>1</td>\n",
              "      <td>2019</td>\n",
              "    </tr>\n",
              "    <tr>\n",
              "      <th>103070</th>\n",
              "      <td>NORDESTE</td>\n",
              "      <td>ALAGOAS</td>\n",
              "      <td>ETANOL HIDRATADO</td>\n",
              "      <td>57</td>\n",
              "      <td>0.063</td>\n",
              "      <td>3.242</td>\n",
              "      <td>0.084</td>\n",
              "      <td>2.79</td>\n",
              "      <td>2019-01-06</td>\n",
              "      <td>2019-01-12</td>\n",
              "      <td>1</td>\n",
              "      <td>2019</td>\n",
              "    </tr>\n",
              "    <tr>\n",
              "      <th>103071</th>\n",
              "      <td>NORTE</td>\n",
              "      <td>AMAZONAS</td>\n",
              "      <td>ETANOL HIDRATADO</td>\n",
              "      <td>44</td>\n",
              "      <td>0.042</td>\n",
              "      <td>3.531</td>\n",
              "      <td>0.022</td>\n",
              "      <td>3.243</td>\n",
              "      <td>2019-01-06</td>\n",
              "      <td>2019-01-12</td>\n",
              "      <td>1</td>\n",
              "      <td>2019</td>\n",
              "    </tr>\n",
              "    <tr>\n",
              "      <th>103072</th>\n",
              "      <td>NORDESTE</td>\n",
              "      <td>BAHIA</td>\n",
              "      <td>ETANOL HIDRATADO</td>\n",
              "      <td>328</td>\n",
              "      <td>0.051</td>\n",
              "      <td>3.410</td>\n",
              "      <td>0.043</td>\n",
              "      <td>2.782</td>\n",
              "      <td>2019-01-06</td>\n",
              "      <td>2019-01-12</td>\n",
              "      <td>1</td>\n",
              "      <td>2019</td>\n",
              "    </tr>\n",
              "    <tr>\n",
              "      <th>103073</th>\n",
              "      <td>NORDESTE</td>\n",
              "      <td>CEARA</td>\n",
              "      <td>ETANOL HIDRATADO</td>\n",
              "      <td>196</td>\n",
              "      <td>0.033</td>\n",
              "      <td>3.493</td>\n",
              "      <td>0.024</td>\n",
              "      <td>3.073</td>\n",
              "      <td>2019-01-06</td>\n",
              "      <td>2019-01-12</td>\n",
              "      <td>1</td>\n",
              "      <td>2019</td>\n",
              "    </tr>\n",
              "    <tr>\n",
              "      <th>...</th>\n",
              "      <td>...</td>\n",
              "      <td>...</td>\n",
              "      <td>...</td>\n",
              "      <td>...</td>\n",
              "      <td>...</td>\n",
              "      <td>...</td>\n",
              "      <td>...</td>\n",
              "      <td>...</td>\n",
              "      <td>...</td>\n",
              "      <td>...</td>\n",
              "      <td>...</td>\n",
              "      <td>...</td>\n",
              "    </tr>\n",
              "    <tr>\n",
              "      <th>106818</th>\n",
              "      <td>NORDESTE</td>\n",
              "      <td>RIO GRANDE DO NORTE</td>\n",
              "      <td>GNV</td>\n",
              "      <td>7</td>\n",
              "      <td>0.018</td>\n",
              "      <td>3.574</td>\n",
              "      <td>0</td>\n",
              "      <td>2.756</td>\n",
              "      <td>2019-06-23</td>\n",
              "      <td>2019-06-29</td>\n",
              "      <td>6</td>\n",
              "      <td>2019</td>\n",
              "    </tr>\n",
              "    <tr>\n",
              "      <th>106819</th>\n",
              "      <td>SUL</td>\n",
              "      <td>RIO GRANDE DO SUL</td>\n",
              "      <td>GNV</td>\n",
              "      <td>23</td>\n",
              "      <td>0.038</td>\n",
              "      <td>3.401</td>\n",
              "      <td>0.164</td>\n",
              "      <td>2.451</td>\n",
              "      <td>2019-06-23</td>\n",
              "      <td>2019-06-29</td>\n",
              "      <td>6</td>\n",
              "      <td>2019</td>\n",
              "    </tr>\n",
              "    <tr>\n",
              "      <th>106820</th>\n",
              "      <td>SUL</td>\n",
              "      <td>SANTA CATARINA</td>\n",
              "      <td>GNV</td>\n",
              "      <td>24</td>\n",
              "      <td>0.065</td>\n",
              "      <td>2.912</td>\n",
              "      <td>0</td>\n",
              "      <td>1.998</td>\n",
              "      <td>2019-06-23</td>\n",
              "      <td>2019-06-29</td>\n",
              "      <td>6</td>\n",
              "      <td>2019</td>\n",
              "    </tr>\n",
              "    <tr>\n",
              "      <th>106821</th>\n",
              "      <td>SUDESTE</td>\n",
              "      <td>SAO PAULO</td>\n",
              "      <td>GNV</td>\n",
              "      <td>52</td>\n",
              "      <td>0.076</td>\n",
              "      <td>3.020</td>\n",
              "      <td>0.07</td>\n",
              "      <td>2.374</td>\n",
              "      <td>2019-06-23</td>\n",
              "      <td>2019-06-29</td>\n",
              "      <td>6</td>\n",
              "      <td>2019</td>\n",
              "    </tr>\n",
              "    <tr>\n",
              "      <th>106822</th>\n",
              "      <td>NORDESTE</td>\n",
              "      <td>SERGIPE</td>\n",
              "      <td>GNV</td>\n",
              "      <td>4</td>\n",
              "      <td>0.001</td>\n",
              "      <td>3.697</td>\n",
              "      <td>0</td>\n",
              "      <td>2.518</td>\n",
              "      <td>2019-06-23</td>\n",
              "      <td>2019-06-29</td>\n",
              "      <td>6</td>\n",
              "      <td>2019</td>\n",
              "    </tr>\n",
              "  </tbody>\n",
              "</table>\n",
              "<p>3754 rows × 12 columns</p>\n",
              "</div>"
            ],
            "text/plain": [
              "          REGIÃO               ESTADO           PRODUTO  ...  DATA FINAL  MÊS   ANO\n",
              "103069     NORTE                 ACRE  ETANOL HIDRATADO  ...  2019-01-12    1  2019\n",
              "103070  NORDESTE              ALAGOAS  ETANOL HIDRATADO  ...  2019-01-12    1  2019\n",
              "103071     NORTE             AMAZONAS  ETANOL HIDRATADO  ...  2019-01-12    1  2019\n",
              "103072  NORDESTE                BAHIA  ETANOL HIDRATADO  ...  2019-01-12    1  2019\n",
              "103073  NORDESTE                CEARA  ETANOL HIDRATADO  ...  2019-01-12    1  2019\n",
              "...          ...                  ...               ...  ...         ...  ...   ...\n",
              "106818  NORDESTE  RIO GRANDE DO NORTE               GNV  ...  2019-06-29    6  2019\n",
              "106819       SUL    RIO GRANDE DO SUL               GNV  ...  2019-06-29    6  2019\n",
              "106820       SUL       SANTA CATARINA               GNV  ...  2019-06-29    6  2019\n",
              "106821   SUDESTE            SAO PAULO               GNV  ...  2019-06-29    6  2019\n",
              "106822  NORDESTE              SERGIPE               GNV  ...  2019-06-29    6  2019\n",
              "\n",
              "[3754 rows x 12 columns]"
            ]
          },
          "metadata": {},
          "execution_count": 16
        }
      ]
    },
    {
      "cell_type": "markdown",
      "metadata": {
        "id": "2bEF5oQCXlL9"
      },
      "source": [
        "### Check Unique Values"
      ]
    },
    {
      "cell_type": "markdown",
      "metadata": {
        "id": "R6nVkVMiXyDr"
      },
      "source": [
        "### Estado"
      ]
    },
    {
      "cell_type": "code",
      "metadata": {
        "colab": {
          "base_uri": "https://localhost:8080/"
        },
        "id": "K_aOowb3YDl-",
        "outputId": "bb5724ae-aa41-46f8-dc20-e65080f67091"
      },
      "source": [
        "interess_gas_prices_brazil_df.ESTADO.unique()"
      ],
      "execution_count": null,
      "outputs": [
        {
          "output_type": "execute_result",
          "data": {
            "text/plain": [
              "array(['DISTRITO FEDERAL', 'GOIAS', 'MATO GROSSO', 'MATO GROSSO DO SUL',\n",
              "       'ALAGOAS', 'BAHIA', 'CEARA', 'MARANHAO', 'PARAIBA', 'PERNAMBUCO',\n",
              "       'PIAUI', 'RIO GRANDE DO NORTE', 'SERGIPE', 'ACRE', 'AMAPA',\n",
              "       'AMAZONAS', 'PARA', 'RONDONIA', 'RORAIMA', 'TOCANTINS',\n",
              "       'ESPIRITO SANTO', 'MINAS GERAIS', 'RIO DE JANEIRO', 'SAO PAULO',\n",
              "       'PARANA', 'RIO GRANDE DO SUL', 'SANTA CATARINA'], dtype=object)"
            ]
          },
          "metadata": {},
          "execution_count": 17
        }
      ]
    },
    {
      "cell_type": "code",
      "metadata": {
        "colab": {
          "base_uri": "https://localhost:8080/"
        },
        "id": "EspIlP4EXDHJ",
        "outputId": "1c0d0689-83ba-4f13-e999-717ff04b0ede"
      },
      "source": [
        "len(interess_gas_prices_brazil_df.ESTADO.unique())"
      ],
      "execution_count": null,
      "outputs": [
        {
          "output_type": "execute_result",
          "data": {
            "text/plain": [
              "27"
            ]
          },
          "metadata": {},
          "execution_count": 18
        }
      ]
    },
    {
      "cell_type": "markdown",
      "metadata": {
        "id": "Kv75YSNsX0GA"
      },
      "source": [
        "### Region"
      ]
    },
    {
      "cell_type": "code",
      "metadata": {
        "colab": {
          "base_uri": "https://localhost:8080/"
        },
        "id": "N2nQTQLzX3yN",
        "outputId": "d8c41d32-bfd4-44f7-c5b7-0c4bb5b3aa9c"
      },
      "source": [
        "len(interess_gas_prices_brazil_df.REGIÃO.unique())"
      ],
      "execution_count": null,
      "outputs": [
        {
          "output_type": "execute_result",
          "data": {
            "text/plain": [
              "5"
            ]
          },
          "metadata": {},
          "execution_count": 19
        }
      ]
    },
    {
      "cell_type": "code",
      "metadata": {
        "colab": {
          "base_uri": "https://localhost:8080/"
        },
        "id": "EorylDwIX7ZI",
        "outputId": "632f25b2-134e-4975-a5a4-8851b779ec5f"
      },
      "source": [
        "interess_gas_prices_brazil_df.REGIÃO.unique()"
      ],
      "execution_count": null,
      "outputs": [
        {
          "output_type": "execute_result",
          "data": {
            "text/plain": [
              "array(['CENTRO OESTE', 'NORDESTE', 'NORTE', 'SUDESTE', 'SUL'],\n",
              "      dtype=object)"
            ]
          },
          "metadata": {},
          "execution_count": 20
        }
      ]
    },
    {
      "cell_type": "markdown",
      "metadata": {
        "id": "dZw1JiVtYH_u"
      },
      "source": [
        "### Product"
      ]
    },
    {
      "cell_type": "code",
      "metadata": {
        "colab": {
          "base_uri": "https://localhost:8080/"
        },
        "id": "RxbDKlkXYH_v",
        "outputId": "d03b661c-cd7f-440e-d1cd-d2c42dfd69df"
      },
      "source": [
        "len(interess_gas_prices_brazil_df.PRODUTO.unique())"
      ],
      "execution_count": null,
      "outputs": [
        {
          "output_type": "execute_result",
          "data": {
            "text/plain": [
              "6"
            ]
          },
          "metadata": {},
          "execution_count": 21
        }
      ]
    },
    {
      "cell_type": "code",
      "metadata": {
        "colab": {
          "base_uri": "https://localhost:8080/"
        },
        "id": "GV9JgU-PYH_w",
        "outputId": "cc210d44-75f9-4a1b-8650-e871363d979a"
      },
      "source": [
        "interess_gas_prices_brazil_df.PRODUTO.unique()"
      ],
      "execution_count": null,
      "outputs": [
        {
          "output_type": "execute_result",
          "data": {
            "text/plain": [
              "array(['ETANOL HIDRATADO', 'GASOLINA COMUM', 'GLP', 'GNV', 'ÓLEO DIESEL',\n",
              "       'ÓLEO DIESEL S10'], dtype=object)"
            ]
          },
          "metadata": {},
          "execution_count": 22
        }
      ]
    },
    {
      "cell_type": "markdown",
      "metadata": {
        "id": "8bxp1UokYVCe"
      },
      "source": [
        "### By Year"
      ]
    },
    {
      "cell_type": "code",
      "metadata": {
        "colab": {
          "base_uri": "https://localhost:8080/"
        },
        "id": "vheKeEO9YVCn",
        "outputId": "b0e79eb8-87bc-4ab5-ff42-e130a6095a8a"
      },
      "source": [
        "len(interess_gas_prices_brazil_df.ANO.unique())"
      ],
      "execution_count": null,
      "outputs": [
        {
          "output_type": "execute_result",
          "data": {
            "text/plain": [
              "16"
            ]
          },
          "metadata": {},
          "execution_count": 23
        }
      ]
    },
    {
      "cell_type": "code",
      "metadata": {
        "colab": {
          "base_uri": "https://localhost:8080/"
        },
        "id": "eyRL_aUtYVCq",
        "outputId": "c24a0eb0-e02c-4323-c2d2-a2bfba6d28d5"
      },
      "source": [
        "interess_gas_prices_brazil_df.ANO.unique()"
      ],
      "execution_count": null,
      "outputs": [
        {
          "output_type": "execute_result",
          "data": {
            "text/plain": [
              "array([2004, 2005, 2006, 2007, 2008, 2009, 2010, 2011, 2012, 2013, 2014,\n",
              "       2015, 2016, 2017, 2018, 2019])"
            ]
          },
          "metadata": {},
          "execution_count": 24
        }
      ]
    },
    {
      "cell_type": "markdown",
      "metadata": {
        "id": "mzq2rnqyZaSy"
      },
      "source": [
        "## Select Mean General\n"
      ]
    },
    {
      "cell_type": "code",
      "metadata": {
        "id": "SaFlRji8Z9ZO"
      },
      "source": [
        "TAM = len(interess_gas_prices_brazil_df)"
      ],
      "execution_count": null,
      "outputs": []
    },
    {
      "cell_type": "code",
      "metadata": {
        "id": "Bq4wr-Ncn57l"
      },
      "source": [
        ""
      ],
      "execution_count": null,
      "outputs": []
    },
    {
      "cell_type": "markdown",
      "metadata": {
        "id": "KshHiOOGaHmT"
      },
      "source": [
        "### Número de Postos Pesquisados Column"
      ]
    },
    {
      "cell_type": "code",
      "metadata": {
        "colab": {
          "base_uri": "https://localhost:8080/"
        },
        "id": "mHQduObIZcr0",
        "outputId": "535548cc-5f46-48ed-ba18-d5fbfcc01228"
      },
      "source": [
        "interess_gas_prices_brazil_df['NÚMERO DE POSTOS PESQUISADOS'].sum()/TAM"
      ],
      "execution_count": null,
      "outputs": [
        {
          "output_type": "execute_result",
          "data": {
            "text/plain": [
              "233.77097628787809"
            ]
          },
          "metadata": {},
          "execution_count": 26
        }
      ]
    },
    {
      "cell_type": "markdown",
      "metadata": {
        "id": "2UrpqOlDaMQj"
      },
      "source": [
        "### Coef de Variação Revenda Column"
      ]
    },
    {
      "cell_type": "code",
      "metadata": {
        "colab": {
          "base_uri": "https://localhost:8080/"
        },
        "id": "wtmyvs8IaLkL",
        "outputId": "44766005-9c39-442d-b847-31129b877f9d"
      },
      "source": [
        "interess_gas_prices_brazil_df['COEF DE VARIAÇÃO REVENDA'].sum()/TAM"
      ],
      "execution_count": null,
      "outputs": [
        {
          "output_type": "execute_result",
          "data": {
            "text/plain": [
              "0.045417793920784856"
            ]
          },
          "metadata": {},
          "execution_count": 27
        }
      ]
    },
    {
      "cell_type": "markdown",
      "metadata": {
        "id": "d9wPmFBSaN-N"
      },
      "source": [
        "### Preço Media Revenda Column"
      ]
    },
    {
      "cell_type": "code",
      "metadata": {
        "colab": {
          "base_uri": "https://localhost:8080/"
        },
        "id": "SiR3chvdaPCq",
        "outputId": "e138e859-0211-4e3d-aa97-a29dd59b84ed"
      },
      "source": [
        "interess_gas_prices_brazil_df['PREÇO MÉDIO REVENDA'].sum()/TAM"
      ],
      "execution_count": null,
      "outputs": [
        {
          "output_type": "execute_result",
          "data": {
            "text/plain": [
              "10.870780431180549"
            ]
          },
          "metadata": {},
          "execution_count": 28
        }
      ]
    },
    {
      "cell_type": "markdown",
      "metadata": {
        "id": "ctd0GK-1aexQ"
      },
      "source": [
        "Coef de Variação Distribuição Column"
      ]
    },
    {
      "cell_type": "code",
      "metadata": {
        "colab": {
          "base_uri": "https://localhost:8080/"
        },
        "id": "ub8pRhd4cldS",
        "outputId": "0e56b625-f708-4cb1-932f-1a8ccbd08760"
      },
      "source": [
        "interess_gas_prices_brazil_df['COEF DE VARIAÇÃO DISTRIBUIÇÃO'].dtype"
      ],
      "execution_count": null,
      "outputs": [
        {
          "output_type": "execute_result",
          "data": {
            "text/plain": [
              "dtype('O')"
            ]
          },
          "metadata": {},
          "execution_count": 29
        }
      ]
    },
    {
      "cell_type": "code",
      "metadata": {
        "colab": {
          "base_uri": "https://localhost:8080/"
        },
        "id": "2TTo0bGbcscN",
        "outputId": "53a96961-9b6b-4baa-de1d-b19aff8ff30a"
      },
      "source": [
        "interess_gas_prices_brazil_df['COEF DE VARIAÇÃO DISTRIBUIÇÃO'] = interess_gas_prices_brazil_df['COEF DE VARIAÇÃO DISTRIBUIÇÃO'].apply(lambda x : 0 if x == '-' else x)\n",
        "\n"
      ],
      "execution_count": null,
      "outputs": [
        {
          "output_type": "stream",
          "name": "stderr",
          "text": [
            "/usr/local/lib/python3.7/dist-packages/ipykernel_launcher.py:1: SettingWithCopyWarning: \n",
            "A value is trying to be set on a copy of a slice from a DataFrame.\n",
            "Try using .loc[row_indexer,col_indexer] = value instead\n",
            "\n",
            "See the caveats in the documentation: https://pandas.pydata.org/pandas-docs/stable/user_guide/indexing.html#returning-a-view-versus-a-copy\n",
            "  \"\"\"Entry point for launching an IPython kernel.\n"
          ]
        }
      ]
    },
    {
      "cell_type": "code",
      "metadata": {
        "colab": {
          "base_uri": "https://localhost:8080/"
        },
        "id": "o5PtKaMGdcPS",
        "outputId": "55966031-b688-4893-a65e-8ecc73da2bc4"
      },
      "source": [
        "interess_gas_prices_brazil_df['COEF DE VARIAÇÃO DISTRIBUIÇÃO'] = pd.to_numeric(interess_gas_prices_brazil_df['COEF DE VARIAÇÃO DISTRIBUIÇÃO'], downcast='float')"
      ],
      "execution_count": null,
      "outputs": [
        {
          "output_type": "stream",
          "name": "stderr",
          "text": [
            "/usr/local/lib/python3.7/dist-packages/ipykernel_launcher.py:1: SettingWithCopyWarning: \n",
            "A value is trying to be set on a copy of a slice from a DataFrame.\n",
            "Try using .loc[row_indexer,col_indexer] = value instead\n",
            "\n",
            "See the caveats in the documentation: https://pandas.pydata.org/pandas-docs/stable/user_guide/indexing.html#returning-a-view-versus-a-copy\n",
            "  \"\"\"Entry point for launching an IPython kernel.\n"
          ]
        }
      ]
    },
    {
      "cell_type": "code",
      "metadata": {
        "colab": {
          "base_uri": "https://localhost:8080/"
        },
        "id": "9XITf5YUfCzl",
        "outputId": "753429ff-1db0-4ce3-fffc-e7adf3ac995d"
      },
      "source": [
        "interess_gas_prices_brazil_df['COEF DE VARIAÇÃO DISTRIBUIÇÃO'].dtype"
      ],
      "execution_count": null,
      "outputs": [
        {
          "output_type": "execute_result",
          "data": {
            "text/plain": [
              "dtype('O')"
            ]
          },
          "metadata": {},
          "execution_count": 32
        }
      ]
    },
    {
      "cell_type": "code",
      "metadata": {
        "colab": {
          "base_uri": "https://localhost:8080/"
        },
        "id": "D14Gm7tcafsV",
        "outputId": "f70649d7-420c-4990-9c68-cc1751b6b4ad"
      },
      "source": [
        "interess_gas_prices_brazil_df['COEF DE VARIAÇÃO DISTRIBUIÇÃO'].sum()/TAM"
      ],
      "execution_count": null,
      "outputs": [
        {
          "output_type": "execute_result",
          "data": {
            "text/plain": [
              "0.04515205826753134"
            ]
          },
          "metadata": {},
          "execution_count": 36
        }
      ]
    },
    {
      "cell_type": "markdown",
      "metadata": {
        "id": "eaJLurbbaRGA"
      },
      "source": [
        "PREÇO MÉDIO DISTRIBUIÇÃO"
      ]
    },
    {
      "cell_type": "code",
      "metadata": {
        "colab": {
          "base_uri": "https://localhost:8080/"
        },
        "id": "OpOBJ8IHeByq",
        "outputId": "c745335d-668a-43da-df2b-6ebfbf0a6a4c"
      },
      "source": [
        "interess_gas_prices_brazil_df['PREÇO MÉDIO DISTRIBUIÇÃO'] = interess_gas_prices_brazil_df['PREÇO MÉDIO DISTRIBUIÇÃO'].apply(lambda x : 0 if x == '-' else x)\n"
      ],
      "execution_count": null,
      "outputs": [
        {
          "output_type": "stream",
          "name": "stderr",
          "text": [
            "/usr/local/lib/python3.7/dist-packages/ipykernel_launcher.py:1: SettingWithCopyWarning: \n",
            "A value is trying to be set on a copy of a slice from a DataFrame.\n",
            "Try using .loc[row_indexer,col_indexer] = value instead\n",
            "\n",
            "See the caveats in the documentation: https://pandas.pydata.org/pandas-docs/stable/user_guide/indexing.html#returning-a-view-versus-a-copy\n",
            "  \"\"\"Entry point for launching an IPython kernel.\n"
          ]
        }
      ]
    },
    {
      "cell_type": "code",
      "metadata": {
        "colab": {
          "base_uri": "https://localhost:8080/"
        },
        "id": "wO3MWrg6eIq4",
        "outputId": "39147080-da8f-43f7-e70f-af02c972dead"
      },
      "source": [
        "interess_gas_prices_brazil_df['PREÇO MÉDIO DISTRIBUIÇÃO'] = pd.to_numeric(interess_gas_prices_brazil_df['PREÇO MÉDIO DISTRIBUIÇÃO'], downcast='float')"
      ],
      "execution_count": null,
      "outputs": [
        {
          "output_type": "stream",
          "name": "stderr",
          "text": [
            "/usr/local/lib/python3.7/dist-packages/ipykernel_launcher.py:1: SettingWithCopyWarning: \n",
            "A value is trying to be set on a copy of a slice from a DataFrame.\n",
            "Try using .loc[row_indexer,col_indexer] = value instead\n",
            "\n",
            "See the caveats in the documentation: https://pandas.pydata.org/pandas-docs/stable/user_guide/indexing.html#returning-a-view-versus-a-copy\n",
            "  \"\"\"Entry point for launching an IPython kernel.\n"
          ]
        }
      ]
    },
    {
      "cell_type": "code",
      "metadata": {
        "colab": {
          "base_uri": "https://localhost:8080/"
        },
        "id": "vnl_85-Fej3S",
        "outputId": "07719a38-49d4-4c40-c7a4-f431ed8eb0e8"
      },
      "source": [
        "interess_gas_prices_brazil_df['PREÇO MÉDIO DISTRIBUIÇÃO'].dtype"
      ],
      "execution_count": null,
      "outputs": [
        {
          "output_type": "execute_result",
          "data": {
            "text/plain": [
              "dtype('float32')"
            ]
          },
          "metadata": {},
          "execution_count": 39
        }
      ]
    },
    {
      "cell_type": "code",
      "metadata": {
        "colab": {
          "base_uri": "https://localhost:8080/"
        },
        "id": "qsyjkBjkb7XE",
        "outputId": "549dc58e-45a4-4b2d-db80-9eba746e0916"
      },
      "source": [
        "interess_gas_prices_brazil_df['PREÇO MÉDIO DISTRIBUIÇÃO'].sum()/TAM"
      ],
      "execution_count": null,
      "outputs": [
        {
          "output_type": "execute_result",
          "data": {
            "text/plain": [
              "8.285580469561799"
            ]
          },
          "metadata": {},
          "execution_count": 40
        }
      ]
    },
    {
      "cell_type": "code",
      "metadata": {
        "colab": {
          "base_uri": "https://localhost:8080/"
        },
        "id": "S7cGmeNRfM0y",
        "outputId": "c025548e-eba3-4101-f2ce-452324270687"
      },
      "source": [
        "interess_gas_prices_brazil_df['PREÇO MÉDIO DISTRIBUIÇÃO'].mean()"
      ],
      "execution_count": null,
      "outputs": [
        {
          "output_type": "execute_result",
          "data": {
            "text/plain": [
              "8.285548210144043"
            ]
          },
          "metadata": {},
          "execution_count": 41
        }
      ]
    },
    {
      "cell_type": "markdown",
      "metadata": {
        "id": "gXpVefSofumS"
      },
      "source": [
        "## Select Mean by Region"
      ]
    },
    {
      "cell_type": "code",
      "metadata": {
        "id": "BNZWpfh0hESd"
      },
      "source": [
        "\n",
        "coef_med_columns = ['NÚMERO DE POSTOS PESQUISADOS', 'COEF DE VARIAÇÃO DISTRIBUIÇÃO','PREÇO MÉDIO DISTRIBUIÇÃO','COEF DE VARIAÇÃO REVENDA', 'PREÇO MÉDIO REVENDA']"
      ],
      "execution_count": null,
      "outputs": []
    },
    {
      "cell_type": "markdown",
      "metadata": {
        "id": "hIs9hLVegrDj"
      },
      "source": [
        "### Nordeste"
      ]
    },
    {
      "cell_type": "code",
      "metadata": {
        "colab": {
          "base_uri": "https://localhost:8080/"
        },
        "id": "YxIt72Iif0cR",
        "outputId": "d07c264e-07d1-4a23-b6d0-1f19b8d6cf32"
      },
      "source": [
        "temp = interess_gas_prices_brazil_df[(interess_gas_prices_brazil_df['REGIÃO'] == 'NORDESTE') & (interess_gas_prices_brazil_df['ANO'] == 2019)][coef_med_columns].mean().transpose().to_frame()\n",
        "temp.columns = [\"Media\"]\n",
        "temp"
      ],
      "execution_count": null,
      "outputs": [
        {
          "output_type": "execute_result",
          "data": {
            "text/html": [
              "<div>\n",
              "<style scoped>\n",
              "    .dataframe tbody tr th:only-of-type {\n",
              "        vertical-align: middle;\n",
              "    }\n",
              "\n",
              "    .dataframe tbody tr th {\n",
              "        vertical-align: top;\n",
              "    }\n",
              "\n",
              "    .dataframe thead th {\n",
              "        text-align: right;\n",
              "    }\n",
              "</style>\n",
              "<table border=\"1\" class=\"dataframe\">\n",
              "  <thead>\n",
              "    <tr style=\"text-align: right;\">\n",
              "      <th></th>\n",
              "      <th>Media</th>\n",
              "    </tr>\n",
              "  </thead>\n",
              "  <tbody>\n",
              "    <tr>\n",
              "      <th>NÚMERO DE POSTOS PESQUISADOS</th>\n",
              "      <td>86.675115</td>\n",
              "    </tr>\n",
              "    <tr>\n",
              "      <th>COEF DE VARIAÇÃO DISTRIBUIÇÃO</th>\n",
              "      <td>0.034823</td>\n",
              "    </tr>\n",
              "    <tr>\n",
              "      <th>PREÇO MÉDIO DISTRIBUIÇÃO</th>\n",
              "      <td>11.689772</td>\n",
              "    </tr>\n",
              "    <tr>\n",
              "      <th>COEF DE VARIAÇÃO REVENDA</th>\n",
              "      <td>0.040197</td>\n",
              "    </tr>\n",
              "    <tr>\n",
              "      <th>PREÇO MÉDIO REVENDA</th>\n",
              "      <td>14.858909</td>\n",
              "    </tr>\n",
              "  </tbody>\n",
              "</table>\n",
              "</div>"
            ],
            "text/plain": [
              "                                   Media\n",
              "NÚMERO DE POSTOS PESQUISADOS   86.675115\n",
              "COEF DE VARIAÇÃO DISTRIBUIÇÃO   0.034823\n",
              "PREÇO MÉDIO DISTRIBUIÇÃO       11.689772\n",
              "COEF DE VARIAÇÃO REVENDA        0.040197\n",
              "PREÇO MÉDIO REVENDA            14.858909"
            ]
          },
          "metadata": {},
          "execution_count": 43
        }
      ]
    },
    {
      "cell_type": "markdown",
      "metadata": {
        "id": "msYqvpoklL6Q"
      },
      "source": [
        "### Norte"
      ]
    },
    {
      "cell_type": "code",
      "metadata": {
        "colab": {
          "base_uri": "https://localhost:8080/"
        },
        "id": "a0vROYuxlL6c",
        "outputId": "55cae4e2-d9f4-4ce0-9ef5-92a02db3a5d1"
      },
      "source": [
        "temp = interess_gas_prices_brazil_df[(interess_gas_prices_brazil_df['REGIÃO'] == 'NORTE') & (interess_gas_prices_brazil_df['ANO'] == 2019)][coef_med_columns].mean().transpose().to_frame()\n",
        "temp.columns = [\"Media\"]\n",
        "temp"
      ],
      "execution_count": null,
      "outputs": [
        {
          "output_type": "execute_result",
          "data": {
            "text/html": [
              "<div>\n",
              "<style scoped>\n",
              "    .dataframe tbody tr th:only-of-type {\n",
              "        vertical-align: middle;\n",
              "    }\n",
              "\n",
              "    .dataframe tbody tr th {\n",
              "        vertical-align: top;\n",
              "    }\n",
              "\n",
              "    .dataframe thead th {\n",
              "        text-align: right;\n",
              "    }\n",
              "</style>\n",
              "<table border=\"1\" class=\"dataframe\">\n",
              "  <thead>\n",
              "    <tr style=\"text-align: right;\">\n",
              "      <th></th>\n",
              "      <th>Media</th>\n",
              "    </tr>\n",
              "  </thead>\n",
              "  <tbody>\n",
              "    <tr>\n",
              "      <th>NÚMERO DE POSTOS PESQUISADOS</th>\n",
              "      <td>45.138603</td>\n",
              "    </tr>\n",
              "    <tr>\n",
              "      <th>COEF DE VARIAÇÃO DISTRIBUIÇÃO</th>\n",
              "      <td>0.036363</td>\n",
              "    </tr>\n",
              "    <tr>\n",
              "      <th>PREÇO MÉDIO DISTRIBUIÇÃO</th>\n",
              "      <td>15.483941</td>\n",
              "    </tr>\n",
              "    <tr>\n",
              "      <th>COEF DE VARIAÇÃO REVENDA</th>\n",
              "      <td>0.049937</td>\n",
              "    </tr>\n",
              "    <tr>\n",
              "      <th>PREÇO MÉDIO REVENDA</th>\n",
              "      <td>18.927386</td>\n",
              "    </tr>\n",
              "  </tbody>\n",
              "</table>\n",
              "</div>"
            ],
            "text/plain": [
              "                                   Media\n",
              "NÚMERO DE POSTOS PESQUISADOS   45.138603\n",
              "COEF DE VARIAÇÃO DISTRIBUIÇÃO   0.036363\n",
              "PREÇO MÉDIO DISTRIBUIÇÃO       15.483941\n",
              "COEF DE VARIAÇÃO REVENDA        0.049937\n",
              "PREÇO MÉDIO REVENDA            18.927386"
            ]
          },
          "metadata": {},
          "execution_count": 44
        }
      ]
    },
    {
      "cell_type": "markdown",
      "metadata": {
        "id": "7Aiv13Rklcxe"
      },
      "source": [
        "### Centro-Oeste Region"
      ]
    },
    {
      "cell_type": "code",
      "metadata": {
        "colab": {
          "base_uri": "https://localhost:8080/"
        },
        "id": "uvkoXhhrlcxg",
        "outputId": "ee24eac5-da3e-4bbb-84f3-059e301b31aa"
      },
      "source": [
        "temp = interess_gas_prices_brazil_df[(interess_gas_prices_brazil_df['REGIÃO'] == 'CENTRO OESTE') & (interess_gas_prices_brazil_df['ANO'] == 2019)][coef_med_columns].mean().transpose().to_frame()\n",
        "temp.columns = [\"Media\"]\n",
        "temp"
      ],
      "execution_count": null,
      "outputs": [
        {
          "output_type": "execute_result",
          "data": {
            "text/html": [
              "<div>\n",
              "<style scoped>\n",
              "    .dataframe tbody tr th:only-of-type {\n",
              "        vertical-align: middle;\n",
              "    }\n",
              "\n",
              "    .dataframe tbody tr th {\n",
              "        vertical-align: top;\n",
              "    }\n",
              "\n",
              "    .dataframe thead th {\n",
              "        text-align: right;\n",
              "    }\n",
              "</style>\n",
              "<table border=\"1\" class=\"dataframe\">\n",
              "  <thead>\n",
              "    <tr style=\"text-align: right;\">\n",
              "      <th></th>\n",
              "      <th>Media</th>\n",
              "    </tr>\n",
              "  </thead>\n",
              "  <tbody>\n",
              "    <tr>\n",
              "      <th>NÚMERO DE POSTOS PESQUISADOS</th>\n",
              "      <td>105.888679</td>\n",
              "    </tr>\n",
              "    <tr>\n",
              "      <th>COEF DE VARIAÇÃO DISTRIBUIÇÃO</th>\n",
              "      <td>0.045958</td>\n",
              "    </tr>\n",
              "    <tr>\n",
              "      <th>PREÇO MÉDIO DISTRIBUIÇÃO</th>\n",
              "      <td>13.791260</td>\n",
              "    </tr>\n",
              "    <tr>\n",
              "      <th>COEF DE VARIAÇÃO REVENDA</th>\n",
              "      <td>0.048194</td>\n",
              "    </tr>\n",
              "    <tr>\n",
              "      <th>PREÇO MÉDIO REVENDA</th>\n",
              "      <td>17.811030</td>\n",
              "    </tr>\n",
              "  </tbody>\n",
              "</table>\n",
              "</div>"
            ],
            "text/plain": [
              "                                    Media\n",
              "NÚMERO DE POSTOS PESQUISADOS   105.888679\n",
              "COEF DE VARIAÇÃO DISTRIBUIÇÃO    0.045958\n",
              "PREÇO MÉDIO DISTRIBUIÇÃO        13.791260\n",
              "COEF DE VARIAÇÃO REVENDA         0.048194\n",
              "PREÇO MÉDIO REVENDA             17.811030"
            ]
          },
          "metadata": {},
          "execution_count": 45
        }
      ]
    },
    {
      "cell_type": "markdown",
      "metadata": {
        "id": "qzENBV9Fl8jg"
      },
      "source": [
        "### Sudeste Region"
      ]
    },
    {
      "cell_type": "code",
      "metadata": {
        "colab": {
          "base_uri": "https://localhost:8080/"
        },
        "id": "dfJ4WnkXl8jg",
        "outputId": "4dc8ba91-8ad9-42dd-8d65-0441814ce7b0"
      },
      "source": [
        "temp = interess_gas_prices_brazil_df[(interess_gas_prices_brazil_df['REGIÃO'] == 'SUDESTE') & (interess_gas_prices_brazil_df['ANO'] == 2019)][coef_med_columns].mean().transpose().to_frame()\n",
        "temp.columns = [\"Media\"]\n",
        "temp"
      ],
      "execution_count": null,
      "outputs": [
        {
          "output_type": "execute_result",
          "data": {
            "text/html": [
              "<div>\n",
              "<style scoped>\n",
              "    .dataframe tbody tr th:only-of-type {\n",
              "        vertical-align: middle;\n",
              "    }\n",
              "\n",
              "    .dataframe tbody tr th {\n",
              "        vertical-align: top;\n",
              "    }\n",
              "\n",
              "    .dataframe thead th {\n",
              "        text-align: right;\n",
              "    }\n",
              "</style>\n",
              "<table border=\"1\" class=\"dataframe\">\n",
              "  <thead>\n",
              "    <tr style=\"text-align: right;\">\n",
              "      <th></th>\n",
              "      <th>Media</th>\n",
              "    </tr>\n",
              "  </thead>\n",
              "  <tbody>\n",
              "    <tr>\n",
              "      <th>NÚMERO DE POSTOS PESQUISADOS</th>\n",
              "      <td>464.586667</td>\n",
              "    </tr>\n",
              "    <tr>\n",
              "      <th>COEF DE VARIAÇÃO DISTRIBUIÇÃO</th>\n",
              "      <td>0.042948</td>\n",
              "    </tr>\n",
              "    <tr>\n",
              "      <th>PREÇO MÉDIO DISTRIBUIÇÃO</th>\n",
              "      <td>10.787279</td>\n",
              "    </tr>\n",
              "    <tr>\n",
              "      <th>COEF DE VARIAÇÃO REVENDA</th>\n",
              "      <td>0.054463</td>\n",
              "    </tr>\n",
              "    <tr>\n",
              "      <th>PREÇO MÉDIO REVENDA</th>\n",
              "      <td>14.125663</td>\n",
              "    </tr>\n",
              "  </tbody>\n",
              "</table>\n",
              "</div>"
            ],
            "text/plain": [
              "                                    Media\n",
              "NÚMERO DE POSTOS PESQUISADOS   464.586667\n",
              "COEF DE VARIAÇÃO DISTRIBUIÇÃO    0.042948\n",
              "PREÇO MÉDIO DISTRIBUIÇÃO        10.787279\n",
              "COEF DE VARIAÇÃO REVENDA         0.054463\n",
              "PREÇO MÉDIO REVENDA             14.125663"
            ]
          },
          "metadata": {},
          "execution_count": 46
        }
      ]
    },
    {
      "cell_type": "markdown",
      "metadata": {
        "id": "bBn1iVOQmC1O"
      },
      "source": [
        "### Sul Region"
      ]
    },
    {
      "cell_type": "code",
      "metadata": {
        "colab": {
          "base_uri": "https://localhost:8080/",
          "height": 203
        },
        "id": "nypVHnwMmC1P",
        "outputId": "fef3e432-6d57-4686-a3ec-6f7d55defe59"
      },
      "source": [
        "temp = interess_gas_prices_brazil_df[(interess_gas_prices_brazil_df['REGIÃO'] == 'SUL') & (interess_gas_prices_brazil_df['ANO'] == 2019)][coef_med_columns].mean().transpose().to_frame()\n",
        "temp.columns = [\"Media\"]\n",
        "temp"
      ],
      "execution_count": null,
      "outputs": [
        {
          "output_type": "execute_result",
          "data": {
            "text/html": [
              "<div>\n",
              "<style scoped>\n",
              "    .dataframe tbody tr th:only-of-type {\n",
              "        vertical-align: middle;\n",
              "    }\n",
              "\n",
              "    .dataframe tbody tr th {\n",
              "        vertical-align: top;\n",
              "    }\n",
              "\n",
              "    .dataframe thead th {\n",
              "        text-align: right;\n",
              "    }\n",
              "</style>\n",
              "<table border=\"1\" class=\"dataframe\">\n",
              "  <thead>\n",
              "    <tr style=\"text-align: right;\">\n",
              "      <th></th>\n",
              "      <th>Media</th>\n",
              "    </tr>\n",
              "  </thead>\n",
              "  <tbody>\n",
              "    <tr>\n",
              "      <th>NÚMERO DE POSTOS PESQUISADOS</th>\n",
              "      <td>221.485523</td>\n",
              "    </tr>\n",
              "    <tr>\n",
              "      <th>COEF DE VARIAÇÃO DISTRIBUIÇÃO</th>\n",
              "      <td>0.048385</td>\n",
              "    </tr>\n",
              "    <tr>\n",
              "      <th>PREÇO MÉDIO DISTRIBUIÇÃO</th>\n",
              "      <td>11.039557</td>\n",
              "    </tr>\n",
              "    <tr>\n",
              "      <th>COEF DE VARIAÇÃO REVENDA</th>\n",
              "      <td>0.049693</td>\n",
              "    </tr>\n",
              "    <tr>\n",
              "      <th>PREÇO MÉDIO REVENDA</th>\n",
              "      <td>14.632864</td>\n",
              "    </tr>\n",
              "  </tbody>\n",
              "</table>\n",
              "</div>"
            ],
            "text/plain": [
              "                                    Media\n",
              "NÚMERO DE POSTOS PESQUISADOS   221.485523\n",
              "COEF DE VARIAÇÃO DISTRIBUIÇÃO    0.048385\n",
              "PREÇO MÉDIO DISTRIBUIÇÃO        11.039557\n",
              "COEF DE VARIAÇÃO REVENDA         0.049693\n",
              "PREÇO MÉDIO REVENDA             14.632864"
            ]
          },
          "metadata": {},
          "execution_count": 47
        }
      ]
    },
    {
      "cell_type": "markdown",
      "metadata": {
        "id": "CIQ6k27sFZPG"
      },
      "source": [
        "### Export Format Dataset"
      ]
    },
    {
      "cell_type": "code",
      "metadata": {
        "id": "7g0HnW3wHA6Z"
      },
      "source": [
        " export_columns_gas_prices_brazil_df  = ['REGIÃO', 'ESTADO', 'PRODUTO','NÚMERO DE POSTOS PESQUISADOS','PREÇO MÉDIO REVENDA', 'COEF DE VARIAÇÃO REVENDA','PREÇO MÉDIO DISTRIBUIÇÃO','COEF DE VARIAÇÃO DISTRIBUIÇÃO',  'DATA INICIAL', 'DATA FINAL','MÊS', 'ANO', 'DESVIO PADRÃO REVENDA', 'PREÇO MÍNIMO REVENDA', 'PREÇO MÁXIMO REVENDA', 'MARGEM MÉDIA REVENDA' , 'DESVIO PADRÃO DISTRIBUIÇÃO', 'PREÇO MÍNIMO DISTRIBUIÇÃO', 'PREÇO MÁXIMO DISTRIBUIÇÃO', 'UNIDADE DE MEDIDA']"
      ],
      "execution_count": null,
      "outputs": []
    },
    {
      "cell_type": "code",
      "metadata": {
        "id": "YZD4UWOKJuXd"
      },
      "source": [
        "export_gas_prices_brazil_df = gas_prices_brazil_df[export_columns_gas_prices_brazil_df]"
      ],
      "execution_count": null,
      "outputs": []
    },
    {
      "cell_type": "code",
      "metadata": {
        "colab": {
          "base_uri": "https://localhost:8080/",
          "height": 358
        },
        "id": "9v50ArbSJ4pB",
        "outputId": "53f8da0e-b462-4ebf-a7b7-e16f2250f7c5"
      },
      "source": [
        "export_gas_prices_brazil_df.head()"
      ],
      "execution_count": null,
      "outputs": [
        {
          "output_type": "execute_result",
          "data": {
            "text/html": [
              "<div>\n",
              "<style scoped>\n",
              "    .dataframe tbody tr th:only-of-type {\n",
              "        vertical-align: middle;\n",
              "    }\n",
              "\n",
              "    .dataframe tbody tr th {\n",
              "        vertical-align: top;\n",
              "    }\n",
              "\n",
              "    .dataframe thead th {\n",
              "        text-align: right;\n",
              "    }\n",
              "</style>\n",
              "<table border=\"1\" class=\"dataframe\">\n",
              "  <thead>\n",
              "    <tr style=\"text-align: right;\">\n",
              "      <th></th>\n",
              "      <th>REGIÃO</th>\n",
              "      <th>ESTADO</th>\n",
              "      <th>PRODUTO</th>\n",
              "      <th>NÚMERO DE POSTOS PESQUISADOS</th>\n",
              "      <th>PREÇO MÉDIO REVENDA</th>\n",
              "      <th>COEF DE VARIAÇÃO REVENDA</th>\n",
              "      <th>PREÇO MÉDIO DISTRIBUIÇÃO</th>\n",
              "      <th>COEF DE VARIAÇÃO DISTRIBUIÇÃO</th>\n",
              "      <th>DATA INICIAL</th>\n",
              "      <th>DATA FINAL</th>\n",
              "      <th>MÊS</th>\n",
              "      <th>ANO</th>\n",
              "      <th>DESVIO PADRÃO REVENDA</th>\n",
              "      <th>PREÇO MÍNIMO REVENDA</th>\n",
              "      <th>PREÇO MÁXIMO REVENDA</th>\n",
              "      <th>MARGEM MÉDIA REVENDA</th>\n",
              "      <th>DESVIO PADRÃO DISTRIBUIÇÃO</th>\n",
              "      <th>PREÇO MÍNIMO DISTRIBUIÇÃO</th>\n",
              "      <th>PREÇO MÁXIMO DISTRIBUIÇÃO</th>\n",
              "      <th>UNIDADE DE MEDIDA</th>\n",
              "    </tr>\n",
              "  </thead>\n",
              "  <tbody>\n",
              "    <tr>\n",
              "      <th>0</th>\n",
              "      <td>CENTRO OESTE</td>\n",
              "      <td>DISTRITO FEDERAL</td>\n",
              "      <td>ETANOL HIDRATADO</td>\n",
              "      <td>127</td>\n",
              "      <td>1.288</td>\n",
              "      <td>0.012</td>\n",
              "      <td>0.825</td>\n",
              "      <td>0.133</td>\n",
              "      <td>2004-05-09</td>\n",
              "      <td>2004-05-15</td>\n",
              "      <td>5</td>\n",
              "      <td>2004</td>\n",
              "      <td>0.016</td>\n",
              "      <td>1.19</td>\n",
              "      <td>1.350</td>\n",
              "      <td>0.463</td>\n",
              "      <td>0.11</td>\n",
              "      <td>0.4201</td>\n",
              "      <td>0.9666</td>\n",
              "      <td>R$/l</td>\n",
              "    </tr>\n",
              "    <tr>\n",
              "      <th>1</th>\n",
              "      <td>CENTRO OESTE</td>\n",
              "      <td>GOIAS</td>\n",
              "      <td>ETANOL HIDRATADO</td>\n",
              "      <td>387</td>\n",
              "      <td>1.162</td>\n",
              "      <td>0.098</td>\n",
              "      <td>0.763</td>\n",
              "      <td>0.115</td>\n",
              "      <td>2004-05-09</td>\n",
              "      <td>2004-05-15</td>\n",
              "      <td>5</td>\n",
              "      <td>2004</td>\n",
              "      <td>0.114</td>\n",
              "      <td>0.89</td>\n",
              "      <td>1.449</td>\n",
              "      <td>0.399</td>\n",
              "      <td>0.088</td>\n",
              "      <td>0.5013</td>\n",
              "      <td>1.05</td>\n",
              "      <td>R$/l</td>\n",
              "    </tr>\n",
              "    <tr>\n",
              "      <th>2</th>\n",
              "      <td>CENTRO OESTE</td>\n",
              "      <td>MATO GROSSO</td>\n",
              "      <td>ETANOL HIDRATADO</td>\n",
              "      <td>192</td>\n",
              "      <td>1.389</td>\n",
              "      <td>0.070</td>\n",
              "      <td>0.97</td>\n",
              "      <td>0.098</td>\n",
              "      <td>2004-05-09</td>\n",
              "      <td>2004-05-15</td>\n",
              "      <td>5</td>\n",
              "      <td>2004</td>\n",
              "      <td>0.097</td>\n",
              "      <td>1.18</td>\n",
              "      <td>1.760</td>\n",
              "      <td>0.419</td>\n",
              "      <td>0.095</td>\n",
              "      <td>0.5614</td>\n",
              "      <td>1.161</td>\n",
              "      <td>R$/l</td>\n",
              "    </tr>\n",
              "    <tr>\n",
              "      <th>3</th>\n",
              "      <td>CENTRO OESTE</td>\n",
              "      <td>MATO GROSSO DO SUL</td>\n",
              "      <td>ETANOL HIDRATADO</td>\n",
              "      <td>162</td>\n",
              "      <td>1.262</td>\n",
              "      <td>0.055</td>\n",
              "      <td>0.83</td>\n",
              "      <td>0.143</td>\n",
              "      <td>2004-05-09</td>\n",
              "      <td>2004-05-15</td>\n",
              "      <td>5</td>\n",
              "      <td>2004</td>\n",
              "      <td>0.070</td>\n",
              "      <td>1.09</td>\n",
              "      <td>1.509</td>\n",
              "      <td>0.432</td>\n",
              "      <td>0.119</td>\n",
              "      <td>0.5991</td>\n",
              "      <td>1.22242</td>\n",
              "      <td>R$/l</td>\n",
              "    </tr>\n",
              "    <tr>\n",
              "      <th>4</th>\n",
              "      <td>NORDESTE</td>\n",
              "      <td>ALAGOAS</td>\n",
              "      <td>ETANOL HIDRATADO</td>\n",
              "      <td>103</td>\n",
              "      <td>1.181</td>\n",
              "      <td>0.066</td>\n",
              "      <td>0.941</td>\n",
              "      <td>0.082</td>\n",
              "      <td>2004-05-09</td>\n",
              "      <td>2004-05-15</td>\n",
              "      <td>5</td>\n",
              "      <td>2004</td>\n",
              "      <td>0.078</td>\n",
              "      <td>1.05</td>\n",
              "      <td>1.400</td>\n",
              "      <td>0.24</td>\n",
              "      <td>0.077</td>\n",
              "      <td>0.7441</td>\n",
              "      <td>1.0317</td>\n",
              "      <td>R$/l</td>\n",
              "    </tr>\n",
              "  </tbody>\n",
              "</table>\n",
              "</div>"
            ],
            "text/plain": [
              "         REGIÃO              ESTADO  ... PREÇO MÁXIMO DISTRIBUIÇÃO  UNIDADE DE MEDIDA\n",
              "0  CENTRO OESTE    DISTRITO FEDERAL  ...                    0.9666               R$/l\n",
              "1  CENTRO OESTE               GOIAS  ...                      1.05               R$/l\n",
              "2  CENTRO OESTE         MATO GROSSO  ...                     1.161               R$/l\n",
              "3  CENTRO OESTE  MATO GROSSO DO SUL  ...                   1.22242               R$/l\n",
              "4      NORDESTE             ALAGOAS  ...                    1.0317               R$/l\n",
              "\n",
              "[5 rows x 20 columns]"
            ]
          },
          "metadata": {},
          "execution_count": 51
        }
      ]
    },
    {
      "cell_type": "code",
      "metadata": {
        "colab": {
          "base_uri": "https://localhost:8080/"
        },
        "id": "UVrfqBPiKFJq",
        "outputId": "3361b929-c39a-4cd7-fd58-f76bec41f98a"
      },
      "source": [
        "export_gas_prices_brazil_df.rename(str.lower, axis='columns').columns"
      ],
      "execution_count": null,
      "outputs": [
        {
          "output_type": "execute_result",
          "data": {
            "text/plain": [
              "Index(['região', 'estado', 'produto', 'número de postos pesquisados',\n",
              "       'preço médio revenda', 'coef de variação revenda',\n",
              "       'preço médio distribuição', 'coef de variação distribuição',\n",
              "       'data inicial', 'data final', 'mês', 'ano', 'desvio padrão revenda',\n",
              "       'preço mínimo revenda', 'preço máximo revenda', 'margem média revenda',\n",
              "       'desvio padrão distribuição', 'preço mínimo distribuição',\n",
              "       'preço máximo distribuição', 'unidade de medida'],\n",
              "      dtype='object')"
            ]
          },
          "metadata": {},
          "execution_count": 52
        }
      ]
    },
    {
      "cell_type": "code",
      "metadata": {
        "id": "McBMczXbLWua"
      },
      "source": [
        "morm_columns = ['regiao', 'estado', 'produto', 'numero_posto_pesquisado',\n",
        "       'preco_medio_revenda', 'coef_variacao_revenda',\n",
        "       'preco_medio_distribuicao', 'coef_variacao_distribuicao',\n",
        "       'data_inicial', 'data_final', 'mes', 'ano', 'desvio_padrao_revenda',\n",
        "       'preco_minimo_revenda', 'preço_maximo_revenda', 'margem_media_revenda',\n",
        "       'desvio_padrao_distribuicao', 'preco_minimo_distribuicao',\n",
        "       'preço_maximo_distribuicao', 'unidade_de_medida']"
      ],
      "execution_count": null,
      "outputs": []
    },
    {
      "cell_type": "code",
      "metadata": {
        "colab": {
          "base_uri": "https://localhost:8080/",
          "height": 324
        },
        "id": "vVodwjM5MM2a",
        "outputId": "3d6339f5-0e00-4e08-9c87-10e0a807132f"
      },
      "source": [
        "export_gas_prices_brazil_df.columns = morm_columns\n",
        "export_gas_prices_brazil_df.head()"
      ],
      "execution_count": null,
      "outputs": [
        {
          "output_type": "execute_result",
          "data": {
            "text/html": [
              "<div>\n",
              "<style scoped>\n",
              "    .dataframe tbody tr th:only-of-type {\n",
              "        vertical-align: middle;\n",
              "    }\n",
              "\n",
              "    .dataframe tbody tr th {\n",
              "        vertical-align: top;\n",
              "    }\n",
              "\n",
              "    .dataframe thead th {\n",
              "        text-align: right;\n",
              "    }\n",
              "</style>\n",
              "<table border=\"1\" class=\"dataframe\">\n",
              "  <thead>\n",
              "    <tr style=\"text-align: right;\">\n",
              "      <th></th>\n",
              "      <th>regiao</th>\n",
              "      <th>estado</th>\n",
              "      <th>produto</th>\n",
              "      <th>numero_posto_pesquisado</th>\n",
              "      <th>preco_medio_revenda</th>\n",
              "      <th>coef_variacao_revenda</th>\n",
              "      <th>preco_medio_distribuicao</th>\n",
              "      <th>coef_variacao_distribuicao</th>\n",
              "      <th>data_inicial</th>\n",
              "      <th>data_final</th>\n",
              "      <th>mes</th>\n",
              "      <th>ano</th>\n",
              "      <th>desvio_padrao_revenda</th>\n",
              "      <th>preco_minimo_revenda</th>\n",
              "      <th>preço_maximo_revenda</th>\n",
              "      <th>margem_media_revenda</th>\n",
              "      <th>desvio_padrao_distribuicao</th>\n",
              "      <th>preco_minimo_distribuicao</th>\n",
              "      <th>preço_maximo_distribuicao</th>\n",
              "      <th>unidade_de_medida</th>\n",
              "    </tr>\n",
              "  </thead>\n",
              "  <tbody>\n",
              "    <tr>\n",
              "      <th>0</th>\n",
              "      <td>CENTRO OESTE</td>\n",
              "      <td>DISTRITO FEDERAL</td>\n",
              "      <td>ETANOL HIDRATADO</td>\n",
              "      <td>127</td>\n",
              "      <td>1.288</td>\n",
              "      <td>0.012</td>\n",
              "      <td>0.825</td>\n",
              "      <td>0.133</td>\n",
              "      <td>2004-05-09</td>\n",
              "      <td>2004-05-15</td>\n",
              "      <td>5</td>\n",
              "      <td>2004</td>\n",
              "      <td>0.016</td>\n",
              "      <td>1.19</td>\n",
              "      <td>1.350</td>\n",
              "      <td>0.463</td>\n",
              "      <td>0.11</td>\n",
              "      <td>0.4201</td>\n",
              "      <td>0.9666</td>\n",
              "      <td>R$/l</td>\n",
              "    </tr>\n",
              "    <tr>\n",
              "      <th>1</th>\n",
              "      <td>CENTRO OESTE</td>\n",
              "      <td>GOIAS</td>\n",
              "      <td>ETANOL HIDRATADO</td>\n",
              "      <td>387</td>\n",
              "      <td>1.162</td>\n",
              "      <td>0.098</td>\n",
              "      <td>0.763</td>\n",
              "      <td>0.115</td>\n",
              "      <td>2004-05-09</td>\n",
              "      <td>2004-05-15</td>\n",
              "      <td>5</td>\n",
              "      <td>2004</td>\n",
              "      <td>0.114</td>\n",
              "      <td>0.89</td>\n",
              "      <td>1.449</td>\n",
              "      <td>0.399</td>\n",
              "      <td>0.088</td>\n",
              "      <td>0.5013</td>\n",
              "      <td>1.05</td>\n",
              "      <td>R$/l</td>\n",
              "    </tr>\n",
              "    <tr>\n",
              "      <th>2</th>\n",
              "      <td>CENTRO OESTE</td>\n",
              "      <td>MATO GROSSO</td>\n",
              "      <td>ETANOL HIDRATADO</td>\n",
              "      <td>192</td>\n",
              "      <td>1.389</td>\n",
              "      <td>0.070</td>\n",
              "      <td>0.97</td>\n",
              "      <td>0.098</td>\n",
              "      <td>2004-05-09</td>\n",
              "      <td>2004-05-15</td>\n",
              "      <td>5</td>\n",
              "      <td>2004</td>\n",
              "      <td>0.097</td>\n",
              "      <td>1.18</td>\n",
              "      <td>1.760</td>\n",
              "      <td>0.419</td>\n",
              "      <td>0.095</td>\n",
              "      <td>0.5614</td>\n",
              "      <td>1.161</td>\n",
              "      <td>R$/l</td>\n",
              "    </tr>\n",
              "    <tr>\n",
              "      <th>3</th>\n",
              "      <td>CENTRO OESTE</td>\n",
              "      <td>MATO GROSSO DO SUL</td>\n",
              "      <td>ETANOL HIDRATADO</td>\n",
              "      <td>162</td>\n",
              "      <td>1.262</td>\n",
              "      <td>0.055</td>\n",
              "      <td>0.83</td>\n",
              "      <td>0.143</td>\n",
              "      <td>2004-05-09</td>\n",
              "      <td>2004-05-15</td>\n",
              "      <td>5</td>\n",
              "      <td>2004</td>\n",
              "      <td>0.070</td>\n",
              "      <td>1.09</td>\n",
              "      <td>1.509</td>\n",
              "      <td>0.432</td>\n",
              "      <td>0.119</td>\n",
              "      <td>0.5991</td>\n",
              "      <td>1.22242</td>\n",
              "      <td>R$/l</td>\n",
              "    </tr>\n",
              "    <tr>\n",
              "      <th>4</th>\n",
              "      <td>NORDESTE</td>\n",
              "      <td>ALAGOAS</td>\n",
              "      <td>ETANOL HIDRATADO</td>\n",
              "      <td>103</td>\n",
              "      <td>1.181</td>\n",
              "      <td>0.066</td>\n",
              "      <td>0.941</td>\n",
              "      <td>0.082</td>\n",
              "      <td>2004-05-09</td>\n",
              "      <td>2004-05-15</td>\n",
              "      <td>5</td>\n",
              "      <td>2004</td>\n",
              "      <td>0.078</td>\n",
              "      <td>1.05</td>\n",
              "      <td>1.400</td>\n",
              "      <td>0.24</td>\n",
              "      <td>0.077</td>\n",
              "      <td>0.7441</td>\n",
              "      <td>1.0317</td>\n",
              "      <td>R$/l</td>\n",
              "    </tr>\n",
              "  </tbody>\n",
              "</table>\n",
              "</div>"
            ],
            "text/plain": [
              "         regiao              estado  ... preço_maximo_distribuicao  unidade_de_medida\n",
              "0  CENTRO OESTE    DISTRITO FEDERAL  ...                    0.9666               R$/l\n",
              "1  CENTRO OESTE               GOIAS  ...                      1.05               R$/l\n",
              "2  CENTRO OESTE         MATO GROSSO  ...                     1.161               R$/l\n",
              "3  CENTRO OESTE  MATO GROSSO DO SUL  ...                   1.22242               R$/l\n",
              "4      NORDESTE             ALAGOAS  ...                    1.0317               R$/l\n",
              "\n",
              "[5 rows x 20 columns]"
            ]
          },
          "metadata": {},
          "execution_count": 54
        }
      ]
    },
    {
      "cell_type": "code",
      "metadata": {
        "id": "6eOq8M_wGPIR"
      },
      "source": [
        "export_gas_prices_brazil_df.to_csv('formated_gas_prices_brazil.csv')"
      ],
      "execution_count": null,
      "outputs": []
    }
  ]
}